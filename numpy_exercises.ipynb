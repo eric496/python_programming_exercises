{
 "cells": [
  {
   "cell_type": "code",
   "execution_count": 3,
   "metadata": {},
   "outputs": [
    {
     "name": "stdout",
     "output_type": "stream",
     "text": [
      "3.6.3 |Anaconda custom (64-bit)| (default, Oct 13 2017, 12:02:49) \n",
      "[GCC 7.2.0]\n"
     ]
    }
   ],
   "source": [
    "## check python version\n",
    "import sys\n",
    "print(sys.version)"
   ]
  },
  {
   "cell_type": "markdown",
   "metadata": {},
   "source": [
    "**1. Import the numpy package under the name np**"
   ]
  },
  {
   "cell_type": "code",
   "execution_count": 2,
   "metadata": {
    "collapsed": true
   },
   "outputs": [],
   "source": [
    "import numpy as np"
   ]
  },
  {
   "cell_type": "markdown",
   "metadata": {},
   "source": [
    "**2. Print the numpy version and the configuration**"
   ]
  },
  {
   "cell_type": "code",
   "execution_count": 7,
   "metadata": {},
   "outputs": [
    {
     "name": "stdout",
     "output_type": "stream",
     "text": [
      "blas_mkl_info:\n",
      "    libraries = ['mkl_rt', 'pthread']\n",
      "    library_dirs = ['/home/eric/anaconda2/envs/py36/lib']\n",
      "    define_macros = [('SCIPY_MKL_H', None), ('HAVE_CBLAS', None)]\n",
      "    include_dirs = ['/home/eric/anaconda2/envs/py36/include']\n",
      "blas_opt_info:\n",
      "    libraries = ['mkl_rt', 'pthread']\n",
      "    library_dirs = ['/home/eric/anaconda2/envs/py36/lib']\n",
      "    define_macros = [('SCIPY_MKL_H', None), ('HAVE_CBLAS', None)]\n",
      "    include_dirs = ['/home/eric/anaconda2/envs/py36/include']\n",
      "lapack_mkl_info:\n",
      "    libraries = ['mkl_rt', 'pthread']\n",
      "    library_dirs = ['/home/eric/anaconda2/envs/py36/lib']\n",
      "    define_macros = [('SCIPY_MKL_H', None), ('HAVE_CBLAS', None)]\n",
      "    include_dirs = ['/home/eric/anaconda2/envs/py36/include']\n",
      "lapack_opt_info:\n",
      "    libraries = ['mkl_rt', 'pthread']\n",
      "    library_dirs = ['/home/eric/anaconda2/envs/py36/lib']\n",
      "    define_macros = [('SCIPY_MKL_H', None), ('HAVE_CBLAS', None)]\n",
      "    include_dirs = ['/home/eric/anaconda2/envs/py36/include']\n"
     ]
    }
   ],
   "source": [
    "np.__version__\n",
    "np.show_config()"
   ]
  },
  {
   "cell_type": "markdown",
   "metadata": {},
   "source": [
    "**3. Create a null vector of size 10**"
   ]
  },
  {
   "cell_type": "code",
   "execution_count": 15,
   "metadata": {},
   "outputs": [
    {
     "data": {
      "text/plain": [
       "array([ 0.,  0.,  0.,  0.,  0.,  0.,  0.,  0.,  0.,  0.])"
      ]
     },
     "execution_count": 15,
     "metadata": {},
     "output_type": "execute_result"
    }
   ],
   "source": [
    "## null vector is a vector filled with all zeros\n",
    "np.zeros(10)"
   ]
  },
  {
   "cell_type": "markdown",
   "metadata": {},
   "source": [
    "**4. How to get the documentation of the numpy add function from the command line?**"
   ]
  },
  {
   "cell_type": "code",
   "execution_count": 11,
   "metadata": {},
   "outputs": [
    {
     "name": "stdout",
     "output_type": "stream",
     "text": [
      "add(x1, x2, /, out=None, *, where=True, casting='same_kind', order='K', dtype=None, subok=True[, signature, extobj])\n",
      "\n",
      "Add arguments element-wise.\n",
      "\n",
      "Parameters\n",
      "----------\n",
      "x1, x2 : array_like\n",
      "    The arrays to be added.  If ``x1.shape != x2.shape``, they must be\n",
      "    broadcastable to a common shape (which may be the shape of one or\n",
      "    the other).\n",
      "out : ndarray, None, or tuple of ndarray and None, optional\n",
      "    A location into which the result is stored. If provided, it must have\n",
      "    a shape that the inputs broadcast to. If not provided or `None`,\n",
      "    a freshly-allocated array is returned. A tuple (possible only as a\n",
      "    keyword argument) must have length equal to the number of outputs.\n",
      "where : array_like, optional\n",
      "    Values of True indicate to calculate the ufunc at that position, values\n",
      "    of False indicate to leave the value in the output alone.\n",
      "**kwargs\n",
      "    For other keyword-only arguments, see the\n",
      "    :ref:`ufunc docs <ufuncs.kwargs>`.\n",
      "\n",
      "Returns\n",
      "-------\n",
      "add : ndarray or scalar\n",
      "    The sum of `x1` and `x2`, element-wise.  Returns a scalar if\n",
      "    both  `x1` and `x2` are scalars.\n",
      "\n",
      "Notes\n",
      "-----\n",
      "Equivalent to `x1` + `x2` in terms of array broadcasting.\n",
      "\n",
      "Examples\n",
      "--------\n",
      ">>> np.add(1.0, 4.0)\n",
      "5.0\n",
      ">>> x1 = np.arange(9.0).reshape((3, 3))\n",
      ">>> x2 = np.arange(3.0)\n",
      ">>> np.add(x1, x2)\n",
      "array([[  0.,   2.,   4.],\n",
      "       [  3.,   5.,   7.],\n",
      "       [  6.,   8.,  10.]])\n"
     ]
    }
   ],
   "source": [
    "np.info(np.add)"
   ]
  },
  {
   "cell_type": "markdown",
   "metadata": {},
   "source": [
    "**5. Create a null vector of size 10 but the fifth value which is 1**"
   ]
  },
  {
   "cell_type": "code",
   "execution_count": 17,
   "metadata": {},
   "outputs": [
    {
     "name": "stdout",
     "output_type": "stream",
     "text": [
      "[ 0.  0.  0.  0.  1.  0.  0.  0.  0.  0.]\n"
     ]
    }
   ],
   "source": [
    "v = np.zeros(10)\n",
    "v[4] = 1\n",
    "print(v)"
   ]
  },
  {
   "cell_type": "markdown",
   "metadata": {},
   "source": [
    "**6. Create a vector with values ranging from 10 to 49**"
   ]
  },
  {
   "cell_type": "code",
   "execution_count": 25,
   "metadata": {},
   "outputs": [
    {
     "name": "stdout",
     "output_type": "stream",
     "text": [
      "[10 11 12 13 14 15 16 17 18 19 20 21 22 23 24 25 26 27 28 29 30 31 32 33 34\n",
      " 35 36 37 38 39 40 41 42 43 44 45 46 47 48 49]\n",
      "[10 11 12 13 14 15 16 17 18 19 20 21 22 23 24 25 26 27 28 29 30 31 32 33 34\n",
      " 35 36 37 38 39 40 41 42 43 44 45 46 47 48 49]\n"
     ]
    }
   ],
   "source": [
    "## convert an array to np array\n",
    "v = np.array(range(10, 50))\n",
    "print(v)\n",
    "## a more concise way\n",
    "v = np.arange(10, 50)\n",
    "print(v)"
   ]
  },
  {
   "cell_type": "markdown",
   "metadata": {},
   "source": [
    "**7. Reverse a vector (first element becomes last)**"
   ]
  },
  {
   "cell_type": "code",
   "execution_count": 28,
   "metadata": {},
   "outputs": [
    {
     "name": "stdout",
     "output_type": "stream",
     "text": [
      "[ 0  1  2  3  4  5  6  7  8  9 10 11 12 13 14 15 16 17 18 19]\n",
      "[19 18 17 16 15 14 13 12 11 10  9  8  7  6  5  4  3  2  1  0]\n"
     ]
    }
   ],
   "source": [
    "v = np.arange(20)\n",
    "print(v)\n",
    "rev_v = v[::-1]\n",
    "print(rev_v)"
   ]
  },
  {
   "cell_type": "markdown",
   "metadata": {},
   "source": [
    "**8. Create a 3x3 matrix with values ranging from 0 to 8**"
   ]
  },
  {
   "cell_type": "code",
   "execution_count": 38,
   "metadata": {},
   "outputs": [
    {
     "name": "stdout",
     "output_type": "stream",
     "text": [
      "[[0 1 2]\n",
      " [3 4 5]\n",
      " [6 7 8]]\n",
      "[[0 1 2]\n",
      " [3 4 5]\n",
      " [6 7 8]]\n",
      "[[0 3 6]\n",
      " [1 4 7]\n",
      " [2 5 8]]\n",
      "[[0 1 2]\n",
      " [3 4 5]\n",
      " [6 7 8]]\n"
     ]
    }
   ],
   "source": [
    "## use object method\n",
    "print(np.arange(9).reshape((3,3)))\n",
    "## or use numpy built-in method\n",
    "print(np.reshape(np.arange(9), (3,3)))\n",
    "## default reshape order is C-like (row major)\n",
    "## but we can set it to Fortran-like (column major)\n",
    "print(np.reshape(np.arange(9), (3,3), order='F'))\n",
    "## use -1 for dimension inference\n",
    "print(np.arange(9).reshape((3,-1)))"
   ]
  },
  {
   "cell_type": "markdown",
   "metadata": {},
   "source": [
    "**9. Find indices of non-zero elements from [1,2,0,0,4,0]**"
   ]
  },
  {
   "cell_type": "code",
   "execution_count": 44,
   "metadata": {},
   "outputs": [
    {
     "name": "stdout",
     "output_type": "stream",
     "text": [
      "(array([0, 1, 4]),)\n"
     ]
    }
   ],
   "source": [
    "arr = [1,2,0,0,4,0]\n",
    "## nonzero() method returns the indices of non-zero elements\n",
    "ix = np.nonzero(arr)\n",
    "print(ix)"
   ]
  },
  {
   "cell_type": "markdown",
   "metadata": {},
   "source": [
    "**10. Create a 3x3 identity matrix**"
   ]
  },
  {
   "cell_type": "code",
   "execution_count": 49,
   "metadata": {},
   "outputs": [
    {
     "data": {
      "text/plain": [
       "array([[ 1.,  0.,  0.],\n",
       "       [ 0.,  1.,  0.],\n",
       "       [ 0.,  0.,  1.]])"
      ]
     },
     "execution_count": 49,
     "metadata": {},
     "output_type": "execute_result"
    }
   ],
   "source": [
    "np.eye(3)"
   ]
  },
  {
   "cell_type": "markdown",
   "metadata": {},
   "source": [
    "**11. Create a 3x3x3 array with random values**"
   ]
  },
  {
   "cell_type": "code",
   "execution_count": 54,
   "metadata": {},
   "outputs": [
    {
     "data": {
      "text/plain": [
       "array([[ 0.74223736,  0.59361654,  0.51613457],\n",
       "       [ 0.49693385,  0.44842218,  0.48923154],\n",
       "       [ 0.24940877,  0.39752378,  0.3460737 ]])"
      ]
     },
     "execution_count": 54,
     "metadata": {},
     "output_type": "execute_result"
    }
   ],
   "source": [
    "## method 1\n",
    "np.random.random(9).reshape((3,3))\n",
    "## method 2\n",
    "np.random.rand(3,3)"
   ]
  },
  {
   "cell_type": "markdown",
   "metadata": {},
   "source": [
    "**12. Create a 10x10 array with random values and find the minimum and maximum values**"
   ]
  },
  {
   "cell_type": "code",
   "execution_count": 59,
   "metadata": {},
   "outputs": [
    {
     "name": "stdout",
     "output_type": "stream",
     "text": [
      "0.0220172166814 0.987606320689\n"
     ]
    }
   ],
   "source": [
    "mat = np.random.rand(10,10)\n",
    "print(mat.min(), mat.max())"
   ]
  },
  {
   "cell_type": "markdown",
   "metadata": {},
   "source": [
    "**13. Create a random vector of size 30 and find the mean value**"
   ]
  },
  {
   "cell_type": "code",
   "execution_count": 60,
   "metadata": {},
   "outputs": [
    {
     "name": "stdout",
     "output_type": "stream",
     "text": [
      "0.394862674531\n"
     ]
    }
   ],
   "source": [
    "arr = np.random.random(30)\n",
    "print(arr.mean())"
   ]
  },
  {
   "cell_type": "markdown",
   "metadata": {},
   "source": [
    "**14. Create a 2d array with 1 on the border and 0 inside**"
   ]
  },
  {
   "cell_type": "code",
   "execution_count": 62,
   "metadata": {},
   "outputs": [
    {
     "name": "stdout",
     "output_type": "stream",
     "text": [
      "[[ 1.  1.  1.  1.  1.  1.  1.  1.  1.  1.]\n",
      " [ 1.  0.  0.  0.  0.  0.  0.  0.  0.  1.]\n",
      " [ 1.  0.  0.  0.  0.  0.  0.  0.  0.  1.]\n",
      " [ 1.  0.  0.  0.  0.  0.  0.  0.  0.  1.]\n",
      " [ 1.  0.  0.  0.  0.  0.  0.  0.  0.  1.]\n",
      " [ 1.  0.  0.  0.  0.  0.  0.  0.  0.  1.]\n",
      " [ 1.  0.  0.  0.  0.  0.  0.  0.  0.  1.]\n",
      " [ 1.  0.  0.  0.  0.  0.  0.  0.  0.  1.]\n",
      " [ 1.  0.  0.  0.  0.  0.  0.  0.  0.  1.]\n",
      " [ 1.  1.  1.  1.  1.  1.  1.  1.  1.  1.]]\n"
     ]
    }
   ],
   "source": [
    "arr = np.ones((10,10))\n",
    "arr[1:-1, 1:-1] = 0\n",
    "print(arr)"
   ]
  },
  {
   "cell_type": "markdown",
   "metadata": {},
   "source": [
    "**15. What is the result of the following expression?**"
   ]
  },
  {
   "cell_type": "code",
   "execution_count": 63,
   "metadata": {},
   "outputs": [
    {
     "data": {
      "text/plain": [
       "False"
      ]
     },
     "execution_count": 63,
     "metadata": {},
     "output_type": "execute_result"
    }
   ],
   "source": [
    "0 * np.nan           ## np.nan\n",
    "np.nan == np.nan     ## False\n",
    "np.inf > np.nan      ## False\n",
    "np.nan - np.nan      ## np.nan\n",
    "0.3 == 3 * 0.1       ## false"
   ]
  },
  {
   "cell_type": "markdown",
   "metadata": {},
   "source": [
    "**16. Create a 5x5 matrix with values 1,2,3,4 just below the diagonal**"
   ]
  },
  {
   "cell_type": "code",
   "execution_count": 72,
   "metadata": {},
   "outputs": [
    {
     "data": {
      "text/plain": [
       "array([[0, 0, 0, 0, 0],\n",
       "       [1, 0, 0, 0, 0],\n",
       "       [0, 2, 0, 0, 0],\n",
       "       [0, 0, 3, 0, 0],\n",
       "       [0, 0, 0, 4, 0]])"
      ]
     },
     "execution_count": 72,
     "metadata": {},
     "output_type": "execute_result"
    }
   ],
   "source": [
    "np.diag(np.arange(1,5), k=-1)"
   ]
  },
  {
   "cell_type": "markdown",
   "metadata": {},
   "source": [
    "**17. Create a 8x8 matrix and fill it with a checkerboard pattern**"
   ]
  },
  {
   "cell_type": "code",
   "execution_count": 74,
   "metadata": {},
   "outputs": [
    {
     "data": {
      "text/plain": [
       "array([[ 1.,  0.,  1.,  0.,  1.,  0.,  1.,  0.],\n",
       "       [ 0.,  1.,  0.,  1.,  0.,  1.,  0.,  1.],\n",
       "       [ 1.,  0.,  1.,  0.,  1.,  0.,  1.,  0.],\n",
       "       [ 0.,  1.,  0.,  1.,  0.,  1.,  0.,  1.],\n",
       "       [ 1.,  0.,  1.,  0.,  1.,  0.,  1.,  0.],\n",
       "       [ 0.,  1.,  0.,  1.,  0.,  1.,  0.,  1.],\n",
       "       [ 1.,  0.,  1.,  0.,  1.,  0.,  1.,  0.],\n",
       "       [ 0.,  1.,  0.,  1.,  0.,  1.,  0.,  1.]])"
      ]
     },
     "execution_count": 74,
     "metadata": {},
     "output_type": "execute_result"
    }
   ],
   "source": [
    "arr = np.zeros((8,8))\n",
    "arr[::2, ::2] = 1\n",
    "arr[1::2, 1::2] = 1\n",
    "arr"
   ]
  },
  {
   "cell_type": "markdown",
   "metadata": {},
   "source": [
    "**19. Create a checkerboard 8x8 matrix using the tile function**"
   ]
  },
  {
   "cell_type": "code",
   "execution_count": 77,
   "metadata": {},
   "outputs": [
    {
     "data": {
      "text/plain": [
       "array([[1, 0, 1, 0, 1, 0, 1, 0],\n",
       "       [0, 1, 0, 1, 0, 1, 0, 1],\n",
       "       [1, 0, 1, 0, 1, 0, 1, 0],\n",
       "       [0, 1, 0, 1, 0, 1, 0, 1],\n",
       "       [1, 0, 1, 0, 1, 0, 1, 0],\n",
       "       [0, 1, 0, 1, 0, 1, 0, 1],\n",
       "       [1, 0, 1, 0, 1, 0, 1, 0],\n",
       "       [0, 1, 0, 1, 0, 1, 0, 1]])"
      ]
     },
     "execution_count": 77,
     "metadata": {},
     "output_type": "execute_result"
    }
   ],
   "source": [
    "arr = np.tile([[1,0], [0,1]], (4,4))\n",
    "arr"
   ]
  },
  {
   "cell_type": "markdown",
   "metadata": {},
   "source": [
    "**20. Normalize a 5x5 random matrix**"
   ]
  },
  {
   "cell_type": "code",
   "execution_count": 89,
   "metadata": {},
   "outputs": [
    {
     "data": {
      "text/plain": [
       "array([[  3.14360404e-01,   2.17237611e-02,   1.87611954e-01,\n",
       "          2.00243024e-01,   8.04131111e-02],\n",
       "       [  1.11485983e-04,   3.07354965e-01,   2.07545860e-01,\n",
       "          1.58126895e-01,   1.90365503e-01],\n",
       "       [  2.20497529e-01,   2.85538711e-01,   3.05357957e-01,\n",
       "          2.21874814e-01,   2.86943075e-01],\n",
       "       [  2.54534698e-01,   1.27168806e-01,   3.80914058e-02,\n",
       "          2.10892829e-01,   2.95894151e-01],\n",
       "       [  2.10495883e-01,   2.58213757e-01,   2.61392823e-01,\n",
       "          2.08862438e-01,   1.46384160e-01]])"
      ]
     },
     "execution_count": 89,
     "metadata": {},
     "output_type": "execute_result"
    }
   ],
   "source": [
    "mat = np.random.rand(5,5)\n",
    "mat / mat.sum(axis=0)"
   ]
  },
  {
   "cell_type": "markdown",
   "metadata": {},
   "source": [
    "**21. Create a custom dtype that describes a color as four unisgned bytes (RGBA)**"
   ]
  },
  {
   "cell_type": "code",
   "execution_count": 90,
   "metadata": {
    "collapsed": true
   },
   "outputs": [],
   "source": [
    "color = np.dtype([('r', np.ubyte, 1), \n",
    "                  ('g', np.ubyte, 1),\n",
    "                  ('b', np.ubyte, 1),\n",
    "                  ('a', np.ubyte, 1)])"
   ]
  },
  {
   "cell_type": "markdown",
   "metadata": {},
   "source": [
    "**22. Multiply a 5x3 matrix by a 3x2 matrix (matrix product)**"
   ]
  },
  {
   "cell_type": "code",
   "execution_count": 94,
   "metadata": {},
   "outputs": [
    {
     "data": {
      "text/plain": [
       "array([[ 1.38177364,  1.00013201],\n",
       "       [ 0.19912419,  0.20276368],\n",
       "       [ 0.46768494,  0.33986656],\n",
       "       [ 0.49613513,  0.29230157],\n",
       "       [ 0.97925115,  0.65057373]])"
      ]
     },
     "execution_count": 94,
     "metadata": {},
     "output_type": "execute_result"
    }
   ],
   "source": [
    "mat_a = np.random.rand(5,3)\n",
    "mat_b = np.random.rand(3,2)\n",
    "## method 1\n",
    "mat_a.dot(mat_b)\n",
    "## method 2\n",
    "np.dot(mat_a, mat_b)\n",
    "## method 3\n",
    "mat_a @ mat_b"
   ]
  },
  {
   "cell_type": "markdown",
   "metadata": {},
   "source": [
    "**23. Given a 1D array, negate all elements which are between 3 and 8, in place**"
   ]
  },
  {
   "cell_type": "code",
   "execution_count": 107,
   "metadata": {},
   "outputs": [
    {
     "name": "stdout",
     "output_type": "stream",
     "text": [
      "[ 7.55880804  2.56937913  0.86155133  5.5713086   5.32631131  7.0752208\n",
      "  3.08931086  6.93811512  5.62999505  4.39671938  8.77468063  2.89162159\n",
      "  3.21848127  4.40478281  8.71538966  0.77232715  3.13566049  4.55609289\n",
      "  0.43846508  6.60487367  7.57625868  6.592332    2.462563    1.56698155\n",
      "  2.10027123  7.62153148  8.765343    0.37493254  0.96696378  9.21286468\n",
      "  7.58409631  1.09599288  1.94678561  3.48856522  8.44596601  4.50151931\n",
      "  2.01975267  3.5489009   8.74119661  7.26777528  8.34815196  6.28067456\n",
      "  6.6296102   5.17148582  9.03142518  1.50773903  1.64173857  7.72026239\n",
      "  6.95477741  0.62931176]\n",
      "[-7.55880804  2.56937913  0.86155133 -5.5713086  -5.32631131 -7.0752208\n",
      " -3.08931086 -6.93811512 -5.62999505 -4.39671938  8.77468063  2.89162159\n",
      " -3.21848127 -4.40478281  8.71538966  0.77232715 -3.13566049 -4.55609289\n",
      "  0.43846508 -6.60487367 -7.57625868 -6.592332    2.462563    1.56698155\n",
      "  2.10027123 -7.62153148  8.765343    0.37493254  0.96696378  9.21286468\n",
      " -7.58409631  1.09599288  1.94678561 -3.48856522  8.44596601 -4.50151931\n",
      "  2.01975267 -3.5489009   8.74119661 -7.26777528  8.34815196 -6.28067456\n",
      " -6.6296102  -5.17148582  9.03142518  1.50773903  1.64173857 -7.72026239\n",
      " -6.95477741  0.62931176]\n"
     ]
    }
   ],
   "source": [
    "arr = np.random.random(50) * 10\n",
    "print(arr)\n",
    "## arr[(3 < arr) & (arr < 8)] = -arr[(3 < arr) & (arr < 8)]\n",
    "## syntactic sugar \n",
    "arr[(3 < arr) & (arr < 8)] *= -1\n",
    "print(arr)"
   ]
  },
  {
   "cell_type": "markdown",
   "metadata": {},
   "source": [
    "**24. What is the output of the following script?**"
   ]
  },
  {
   "cell_type": "code",
   "execution_count": 109,
   "metadata": {},
   "outputs": [
    {
     "name": "stdout",
     "output_type": "stream",
     "text": [
      "10\n",
      "10\n"
     ]
    }
   ],
   "source": [
    "print(sum(range(5),-1))    ## \n",
    "from numpy import *\n",
    "print(sum(range(5),-1))"
   ]
  },
  {
   "cell_type": "markdown",
   "metadata": {},
   "source": [
    "**25. Consider an integer vector Z, which of these expressions are legal? **"
   ]
  },
  {
   "cell_type": "code",
   "execution_count": 133,
   "metadata": {},
   "outputs": [
    {
     "ename": "ValueError",
     "evalue": "The truth value of an array with more than one element is ambiguous. Use a.any() or a.all()",
     "output_type": "error",
     "traceback": [
      "\u001b[0;31m---------------------------------------------------------------------------\u001b[0m",
      "\u001b[0;31mValueError\u001b[0m                                Traceback (most recent call last)",
      "\u001b[0;32m<ipython-input-133-a7260115c21d>\u001b[0m in \u001b[0;36m<module>\u001b[0;34m()\u001b[0m\n\u001b[1;32m      4\u001b[0m \u001b[0;36m1j\u001b[0m\u001b[0;34m*\u001b[0m\u001b[0mZ\u001b[0m              \u001b[0;31m## legal: complex arithmetic operations\u001b[0m\u001b[0;34m\u001b[0m\u001b[0m\n\u001b[1;32m      5\u001b[0m \u001b[0mZ\u001b[0m\u001b[0;34m/\u001b[0m\u001b[0;36m1\u001b[0m\u001b[0;34m/\u001b[0m\u001b[0;36m1\u001b[0m             \u001b[0;31m## legal: same to the second\u001b[0m\u001b[0;34m\u001b[0m\u001b[0m\n\u001b[0;32m----> 6\u001b[0;31m \u001b[0mZ\u001b[0m\u001b[0;34m<\u001b[0m\u001b[0mZ\u001b[0m\u001b[0;34m>\u001b[0m\u001b[0mZ\u001b[0m             \u001b[0;31m## illegal\u001b[0m\u001b[0;34m\u001b[0m\u001b[0m\n\u001b[0m",
      "\u001b[0;31mValueError\u001b[0m: The truth value of an array with more than one element is ambiguous. Use a.any() or a.all()"
     ]
    }
   ],
   "source": [
    "Z**Z              ## legal: element-wise arithmetic operations\n",
    "2 << Z >> 2       ## legal: from left to right\n",
    "Z <- Z            ## legal: element-wise comparison, space is ignored <- is equivalent to <   -\n",
    "1j*Z              ## legal: complex arithmetic operations\n",
    "Z/1/1             ## legal: same to the second\n",
    "Z<Z>Z             ## illegal"
   ]
  },
  {
   "cell_type": "markdown",
   "metadata": {},
   "source": [
    "**26. What are the result of the following expressions?**"
   ]
  },
  {
   "cell_type": "code",
   "execution_count": 9,
   "metadata": {},
   "outputs": [
    {
     "name": "stderr",
     "output_type": "stream",
     "text": [
      "/home/eric/anaconda2/envs/py36/lib/python3.6/site-packages/ipykernel_launcher.py:1: RuntimeWarning: divide by zero encountered in floor_divide\n",
      "  \"\"\"Entry point for launching an IPython kernel.\n"
     ]
    },
    {
     "data": {
      "text/plain": [
       "0"
      ]
     },
     "execution_count": 9,
     "metadata": {},
     "output_type": "execute_result"
    }
   ],
   "source": [
    "np.array(0) // np.array(0)"
   ]
  },
  {
   "cell_type": "code",
   "execution_count": 10,
   "metadata": {},
   "outputs": [
    {
     "name": "stderr",
     "output_type": "stream",
     "text": [
      "/home/eric/anaconda2/envs/py36/lib/python3.6/site-packages/ipykernel_launcher.py:1: RuntimeWarning: invalid value encountered in floor_divide\n",
      "  \"\"\"Entry point for launching an IPython kernel.\n"
     ]
    },
    {
     "data": {
      "text/plain": [
       "nan"
      ]
     },
     "execution_count": 10,
     "metadata": {},
     "output_type": "execute_result"
    }
   ],
   "source": [
    "np.array(0) // np.array(0.)"
   ]
  },
  {
   "cell_type": "code",
   "execution_count": 11,
   "metadata": {},
   "outputs": [
    {
     "name": "stderr",
     "output_type": "stream",
     "text": [
      "/home/eric/anaconda2/envs/py36/lib/python3.6/site-packages/ipykernel_launcher.py:1: RuntimeWarning: invalid value encountered in true_divide\n",
      "  \"\"\"Entry point for launching an IPython kernel.\n"
     ]
    },
    {
     "data": {
      "text/plain": [
       "nan"
      ]
     },
     "execution_count": 11,
     "metadata": {},
     "output_type": "execute_result"
    }
   ],
   "source": [
    "np.array(0) / np.array(0)"
   ]
  },
  {
   "cell_type": "code",
   "execution_count": 8,
   "metadata": {},
   "outputs": [
    {
     "name": "stderr",
     "output_type": "stream",
     "text": [
      "/home/eric/anaconda2/envs/py36/lib/python3.6/site-packages/ipykernel_launcher.py:1: RuntimeWarning: invalid value encountered in true_divide\n",
      "  \"\"\"Entry point for launching an IPython kernel.\n"
     ]
    },
    {
     "data": {
      "text/plain": [
       "nan"
      ]
     },
     "execution_count": 8,
     "metadata": {},
     "output_type": "execute_result"
    }
   ],
   "source": [
    "np.array(0) / np.array(0.)"
   ]
  },
  {
   "cell_type": "markdown",
   "metadata": {
    "collapsed": true
   },
   "source": [
    "**27. How to round away from zero a float array?**"
   ]
  },
  {
   "cell_type": "code",
   "execution_count": 15,
   "metadata": {},
   "outputs": [
    {
     "name": "stdout",
     "output_type": "stream",
     "text": [
      "[ -9.  -2.   4.  -5.   2.  -7. -10.   3.   7.  -2.]\n"
     ]
    }
   ],
   "source": [
    "arr = np.random.uniform(-10,+10,10)\n",
    "print(np.trunc(arr + np.copysign(0.5, arr)))"
   ]
  },
  {
   "cell_type": "markdown",
   "metadata": {},
   "source": [
    "**28. Extract the integer part of a random array using 5 different methods**"
   ]
  },
  {
   "cell_type": "code",
   "execution_count": 28,
   "metadata": {},
   "outputs": [
    {
     "data": {
      "text/plain": [
       "array([ 9.,  9.,  4.,  8.,  6.,  9.,  7.,  9.,  9.,  1.])"
      ]
     },
     "execution_count": 28,
     "metadata": {},
     "output_type": "execute_result"
    }
   ],
   "source": [
    "arr = np.random.random(10) * 10\n",
    "## method 1 \n",
    "np.floor(arr)\n",
    "## method 2\n",
    "np.ceil(arr) - 1\n",
    "## method 3\n",
    "arr.astype('int')\n",
    "## method 4\n",
    "np.trunc(arr)   ## return type is float\n",
    "## method 5\n",
    "arr - arr % 1   ## return type is float"
   ]
  },
  {
   "cell_type": "markdown",
   "metadata": {},
   "source": [
    "**29. Create a 5x5 matrix with row values ranging from 0 to 4**"
   ]
  },
  {
   "cell_type": "code",
   "execution_count": 38,
   "metadata": {},
   "outputs": [
    {
     "name": "stdout",
     "output_type": "stream",
     "text": [
      "[[0 1 2 3 4]\n",
      " [0 1 2 3 4]\n",
      " [0 1 2 3 4]\n",
      " [0 1 2 3 4]\n",
      " [0 1 2 3 4]]\n",
      "[[0 1 2 3 4]\n",
      " [0 1 2 3 4]\n",
      " [0 1 2 3 4]\n",
      " [0 1 2 3 4]\n",
      " [0 1 2 3 4]]\n"
     ]
    }
   ],
   "source": [
    "## method 1\n",
    "print(np.array([range(5)] * 5).reshape((5,5)))\n",
    "## method 2\n",
    "arr = np.zeros((5,5))   ## return type is float\n",
    "arr += np.arange(5)     ## broadcasting\n",
    "print(arr.astype('int'))"
   ]
  },
  {
   "cell_type": "markdown",
   "metadata": {},
   "source": [
    "**30. Consider a generator function that generates 10 integers and use it to build an array**"
   ]
  },
  {
   "cell_type": "code",
   "execution_count": 41,
   "metadata": {},
   "outputs": [
    {
     "data": {
      "text/plain": [
       "array([0, 1, 2, 3, 4, 5, 6, 7, 8, 9])"
      ]
     },
     "execution_count": 41,
     "metadata": {},
     "output_type": "execute_result"
    }
   ],
   "source": [
    "def gen_int():\n",
    "    yield from range(10)\n",
    "\n",
    "## python solution\n",
    "list(gen_int())\n",
    "## numpy solution\n",
    "np.fromiter(gen_int(), dtype='int')"
   ]
  },
  {
   "cell_type": "markdown",
   "metadata": {},
   "source": [
    "**31. Create a vector of size 10 with values ranging from 0 to 1, both excluded**"
   ]
  },
  {
   "cell_type": "code",
   "execution_count": 46,
   "metadata": {},
   "outputs": [
    {
     "name": "stdout",
     "output_type": "stream",
     "text": [
      "[ 0.          0.11111111  0.22222222  0.33333333  0.44444444  0.55555556\n",
      "  0.66666667  0.77777778  0.88888889  1.        ]\n"
     ]
    }
   ],
   "source": [
    "arr = np.linspace(0, 1, 10, endpoint=True)\n",
    "print(arr)"
   ]
  },
  {
   "cell_type": "markdown",
   "metadata": {},
   "source": [
    "**32. Create a random vector of size 10 and sort it**"
   ]
  },
  {
   "cell_type": "code",
   "execution_count": 49,
   "metadata": {},
   "outputs": [
    {
     "name": "stdout",
     "output_type": "stream",
     "text": [
      "[ 0.92539518  0.22064327  0.68454159  0.05809342  0.23319705  0.19610659\n",
      "  0.46456822  0.02673259  0.54342059  0.15630066]\n",
      "[ 0.02673259  0.05809342  0.15630066  0.19610659  0.22064327  0.23319705\n",
      "  0.46456822  0.54342059  0.68454159  0.92539518]\n",
      "[ 0.02673259  0.05809342  0.15630066  0.19610659  0.22064327  0.23319705\n",
      "  0.46456822  0.54342059  0.68454159  0.92539518]\n"
     ]
    }
   ],
   "source": [
    "arr = np.random.random(10)\n",
    "print(arr)\n",
    "## sort by universal function \n",
    "print(np.sort(arr))\n",
    "## in-place sorting\n",
    "arr.sort()\n",
    "print(arr)"
   ]
  },
  {
   "cell_type": "markdown",
   "metadata": {
    "collapsed": true
   },
   "source": [
    "**33. How to sum a small array faster than np.sum?**"
   ]
  },
  {
   "cell_type": "code",
   "execution_count": 3,
   "metadata": {},
   "outputs": [
    {
     "name": "stdout",
     "output_type": "stream",
     "text": [
      "1.76 µs ± 65.5 ns per loop (mean ± std. dev. of 7 runs, 1000000 loops each)\n"
     ]
    }
   ],
   "source": [
    "arr = np.arange(1000)\n",
    "%timeit arr.sum()"
   ]
  },
  {
   "cell_type": "code",
   "execution_count": 4,
   "metadata": {},
   "outputs": [
    {
     "name": "stdout",
     "output_type": "stream",
     "text": [
      "1.47 µs ± 47.1 ns per loop (mean ± std. dev. of 7 runs, 1000000 loops each)\n"
     ]
    }
   ],
   "source": [
    "%timeit np.add.reduce(arr)"
   ]
  },
  {
   "cell_type": "markdown",
   "metadata": {},
   "source": [
    "**34. Consider two random array A anb B, check if they are equal**"
   ]
  },
  {
   "cell_type": "code",
   "execution_count": 11,
   "metadata": {},
   "outputs": [
    {
     "data": {
      "text/plain": [
       "True"
      ]
     },
     "execution_count": 11,
     "metadata": {},
     "output_type": "execute_result"
    }
   ],
   "source": [
    "A = np.random.randint(0, 2, 5)\n",
    "B = np.random.randint(0, 2, 5)\n",
    "np.allclose(A, B)"
   ]
  },
  {
   "cell_type": "markdown",
   "metadata": {},
   "source": [
    "**35. Make an array immutable (read-only)**"
   ]
  },
  {
   "cell_type": "code",
   "execution_count": 16,
   "metadata": {},
   "outputs": [],
   "source": [
    "arr = np.arange(10)\n",
    "arr.flags.writeable = False"
   ]
  },
  {
   "cell_type": "markdown",
   "metadata": {},
   "source": [
    "**36. Consider a random 10x2 matrix representing cartesian coordinates, convert them to polar coordinates**"
   ]
  },
  {
   "cell_type": "code",
   "execution_count": 20,
   "metadata": {},
   "outputs": [
    {
     "name": "stdout",
     "output_type": "stream",
     "text": [
      "[ 0.94625096  0.65269976  0.79346313  0.39709301  0.89403828  0.58189521\n",
      "  0.9042091   0.98485173  0.94050444  0.63463298]\n",
      "[ 0.26089143  0.63397477  0.4274596   0.79778862  0.05371436  1.24695853\n",
      "  0.19432064  0.22617316  1.17272008  1.38461743]\n"
     ]
    }
   ],
   "source": [
    "arr = np.random.rand(10, 2)\n",
    "X, Y = arr[:,0], arr[:,1]\n",
    "r = np.sqrt(X ** 2 + Y ** 2)\n",
    "rho = np.arctan2(Y,X)\n",
    "print(r)\n",
    "print(rho)"
   ]
  },
  {
   "cell_type": "markdown",
   "metadata": {},
   "source": [
    "**37. Create random vector of size 10 and replace the maximum value by 0**"
   ]
  },
  {
   "cell_type": "code",
   "execution_count": 25,
   "metadata": {},
   "outputs": [
    {
     "name": "stdout",
     "output_type": "stream",
     "text": [
      "[ 0.38039391  0.55831512  0.24467996  0.38207356  0.54537424  0.73148166\n",
      "  0.04931551  0.47330017  0.3704435   0.95575403]\n",
      "[ 0.38039391  0.55831512  0.24467996  0.38207356  0.54537424  0.73148166\n",
      "  0.04931551  0.47330017  0.3704435   0.        ]\n"
     ]
    }
   ],
   "source": [
    "arr = np.random.random(10)\n",
    "print(arr)\n",
    "arr[arr.argmax()] = 0\n",
    "print(arr)"
   ]
  },
  {
   "cell_type": "markdown",
   "metadata": {},
   "source": [
    "**38. Create a structured array with x and y coordinates covering the [0,1]x[0,1] area**"
   ]
  },
  {
   "cell_type": "code",
   "execution_count": 27,
   "metadata": {},
   "outputs": [
    {
     "name": "stdout",
     "output_type": "stream",
     "text": [
      "[[( 0.        ,  0.        ) ( 0.11111111,  0.        )\n",
      "  ( 0.22222222,  0.        ) ( 0.33333333,  0.        )\n",
      "  ( 0.44444444,  0.        ) ( 0.55555556,  0.        )\n",
      "  ( 0.66666667,  0.        ) ( 0.77777778,  0.        )\n",
      "  ( 0.88888889,  0.        ) ( 1.        ,  0.        )]\n",
      " [( 0.        ,  0.11111111) ( 0.11111111,  0.11111111)\n",
      "  ( 0.22222222,  0.11111111) ( 0.33333333,  0.11111111)\n",
      "  ( 0.44444444,  0.11111111) ( 0.55555556,  0.11111111)\n",
      "  ( 0.66666667,  0.11111111) ( 0.77777778,  0.11111111)\n",
      "  ( 0.88888889,  0.11111111) ( 1.        ,  0.11111111)]\n",
      " [( 0.        ,  0.22222222) ( 0.11111111,  0.22222222)\n",
      "  ( 0.22222222,  0.22222222) ( 0.33333333,  0.22222222)\n",
      "  ( 0.44444444,  0.22222222) ( 0.55555556,  0.22222222)\n",
      "  ( 0.66666667,  0.22222222) ( 0.77777778,  0.22222222)\n",
      "  ( 0.88888889,  0.22222222) ( 1.        ,  0.22222222)]\n",
      " [( 0.        ,  0.33333333) ( 0.11111111,  0.33333333)\n",
      "  ( 0.22222222,  0.33333333) ( 0.33333333,  0.33333333)\n",
      "  ( 0.44444444,  0.33333333) ( 0.55555556,  0.33333333)\n",
      "  ( 0.66666667,  0.33333333) ( 0.77777778,  0.33333333)\n",
      "  ( 0.88888889,  0.33333333) ( 1.        ,  0.33333333)]\n",
      " [( 0.        ,  0.44444444) ( 0.11111111,  0.44444444)\n",
      "  ( 0.22222222,  0.44444444) ( 0.33333333,  0.44444444)\n",
      "  ( 0.44444444,  0.44444444) ( 0.55555556,  0.44444444)\n",
      "  ( 0.66666667,  0.44444444) ( 0.77777778,  0.44444444)\n",
      "  ( 0.88888889,  0.44444444) ( 1.        ,  0.44444444)]\n",
      " [( 0.        ,  0.55555556) ( 0.11111111,  0.55555556)\n",
      "  ( 0.22222222,  0.55555556) ( 0.33333333,  0.55555556)\n",
      "  ( 0.44444444,  0.55555556) ( 0.55555556,  0.55555556)\n",
      "  ( 0.66666667,  0.55555556) ( 0.77777778,  0.55555556)\n",
      "  ( 0.88888889,  0.55555556) ( 1.        ,  0.55555556)]\n",
      " [( 0.        ,  0.66666667) ( 0.11111111,  0.66666667)\n",
      "  ( 0.22222222,  0.66666667) ( 0.33333333,  0.66666667)\n",
      "  ( 0.44444444,  0.66666667) ( 0.55555556,  0.66666667)\n",
      "  ( 0.66666667,  0.66666667) ( 0.77777778,  0.66666667)\n",
      "  ( 0.88888889,  0.66666667) ( 1.        ,  0.66666667)]\n",
      " [( 0.        ,  0.77777778) ( 0.11111111,  0.77777778)\n",
      "  ( 0.22222222,  0.77777778) ( 0.33333333,  0.77777778)\n",
      "  ( 0.44444444,  0.77777778) ( 0.55555556,  0.77777778)\n",
      "  ( 0.66666667,  0.77777778) ( 0.77777778,  0.77777778)\n",
      "  ( 0.88888889,  0.77777778) ( 1.        ,  0.77777778)]\n",
      " [( 0.        ,  0.88888889) ( 0.11111111,  0.88888889)\n",
      "  ( 0.22222222,  0.88888889) ( 0.33333333,  0.88888889)\n",
      "  ( 0.44444444,  0.88888889) ( 0.55555556,  0.88888889)\n",
      "  ( 0.66666667,  0.88888889) ( 0.77777778,  0.88888889)\n",
      "  ( 0.88888889,  0.88888889) ( 1.        ,  0.88888889)]\n",
      " [( 0.        ,  1.        ) ( 0.11111111,  1.        )\n",
      "  ( 0.22222222,  1.        ) ( 0.33333333,  1.        )\n",
      "  ( 0.44444444,  1.        ) ( 0.55555556,  1.        )\n",
      "  ( 0.66666667,  1.        ) ( 0.77777778,  1.        )\n",
      "  ( 0.88888889,  1.        ) ( 1.        ,  1.        )]]\n"
     ]
    }
   ],
   "source": [
    "arr = np.zeros((10,10), [('x',float),('y',float)])\n",
    "arr['x'], arr['y'] = np.meshgrid(np.linspace(0,1,10), np.linspace(0,1,10))\n",
    "print(arr)"
   ]
  },
  {
   "cell_type": "markdown",
   "metadata": {},
   "source": [
    "**39. Given two arrays, X and Y, construct the Cauchy matrix C (Cij = 1/(xi - yj))**"
   ]
  },
  {
   "cell_type": "code",
   "execution_count": 32,
   "metadata": {},
   "outputs": [],
   "source": [
    "X, Y = np.random.random(10), np.random.random(10)\n",
    "C = 1 / (X - Y)"
   ]
  },
  {
   "cell_type": "markdown",
   "metadata": {},
   "source": [
    "**40. Print the minimum and maximum representable value for each numpy scalar type**"
   ]
  },
  {
   "cell_type": "code",
   "execution_count": 58,
   "metadata": {},
   "outputs": [
    {
     "name": "stdout",
     "output_type": "stream",
     "text": [
      "-128 -32768 -2147483648 -9223372036854775808\n",
      "127 32767 2147483647 9223372036854775807\n",
      "-65504.0 -3.40282e+38 -1.79769313486e+308\n",
      "65504.0 3.40282e+38 1.79769313486e+308\n"
     ]
    }
   ],
   "source": [
    "print(*[np.iinfo(dtype).min for dtype in [np.int8, np.int16, np.int32, np.int64]])\n",
    "print(*[np.iinfo(dtype).max for dtype in [np.int8, np.int16, np.int32, np.int64]])\n",
    "print(*[np.finfo(dtype).min for dtype in [np.float16, np.float32, np.float64]])\n",
    "print(*[np.finfo(dtype).max for dtype in [np.float16, np.float32, np.float64]])"
   ]
  },
  {
   "cell_type": "markdown",
   "metadata": {},
   "source": [
    "**41. How to print all the values of an array?**"
   ]
  },
  {
   "cell_type": "code",
   "execution_count": 66,
   "metadata": {},
   "outputs": [
    {
     "name": "stdout",
     "output_type": "stream",
     "text": [
      "0.273266006912 0.462771107226 0.509146634181 0.321694942817 0.0678421264287 0.724215737998 0.241584384346 0.496900023016 0.618684677292 0.801441717999\n"
     ]
    }
   ],
   "source": [
    "arr = np.random.random(10)\n",
    "print(*arr)"
   ]
  },
  {
   "cell_type": "markdown",
   "metadata": {},
   "source": [
    "**42. How to find the closest value (to a given scalar) in an array?**"
   ]
  },
  {
   "cell_type": "code",
   "execution_count": 68,
   "metadata": {},
   "outputs": [
    {
     "name": "stdout",
     "output_type": "stream",
     "text": [
      "[ 2.27072291  1.61518726  5.52786333  3.41135491  3.93818791  2.75093107\n",
      "  9.0748493   9.96534136  8.75542636  8.44950667]\n",
      "8.44950666966\n"
     ]
    }
   ],
   "source": [
    "arr = np.random.random(10) * 10\n",
    "target = 7\n",
    "print(arr)\n",
    "print(arr[np.abs(arr - target).argmin()])"
   ]
  },
  {
   "cell_type": "markdown",
   "metadata": {},
   "source": [
    "**43. Create a structured array representing a position (x,y) and a color (r,g,b)**"
   ]
  },
  {
   "cell_type": "code",
   "execution_count": 69,
   "metadata": {},
   "outputs": [
    {
     "name": "stdout",
     "output_type": "stream",
     "text": [
      "[(( 0.,  0.), ( 0.,  0.,  0.)) (( 0.,  0.), ( 0.,  0.,  0.))\n",
      " (( 0.,  0.), ( 0.,  0.,  0.)) (( 0.,  0.), ( 0.,  0.,  0.))\n",
      " (( 0.,  0.), ( 0.,  0.,  0.)) (( 0.,  0.), ( 0.,  0.,  0.))\n",
      " (( 0.,  0.), ( 0.,  0.,  0.)) (( 0.,  0.), ( 0.,  0.,  0.))\n",
      " (( 0.,  0.), ( 0.,  0.,  0.)) (( 0.,  0.), ( 0.,  0.,  0.))]\n"
     ]
    }
   ],
   "source": [
    "arr = np.zeros(10, [ ('position', [ ('x', float, 1),\n",
    "                                   ('y', float, 1)]),\n",
    "                    ('color',    [ ('r', float, 1),\n",
    "                                   ('g', float, 1),\n",
    "                                   ('b', float, 1)])])\n",
    "print(arr)"
   ]
  },
  {
   "cell_type": "code",
   "execution_count": null,
   "metadata": {
    "collapsed": true
   },
   "outputs": [],
   "source": []
  }
 ],
 "metadata": {
  "kernelspec": {
   "display_name": "Python 3",
   "language": "python",
   "name": "python3"
  },
  "language_info": {
   "codemirror_mode": {
    "name": "ipython",
    "version": 3
   },
   "file_extension": ".py",
   "mimetype": "text/x-python",
   "name": "python",
   "nbconvert_exporter": "python",
   "pygments_lexer": "ipython3",
   "version": "3.6.3"
  }
 },
 "nbformat": 4,
 "nbformat_minor": 2
}
