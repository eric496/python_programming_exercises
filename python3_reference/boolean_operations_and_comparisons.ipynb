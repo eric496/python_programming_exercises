{
 "cells": [
  {
   "cell_type": "markdown",
   "metadata": {},
   "source": [
    "Any object can be tested for truth value using an **`if`** or **`while`** condition or simply **`bool(object)`** \n",
    "\n",
    "The following objects are considered **`False`** in Python:\n",
    "\n",
    "1. Constants: **`None`**, **`False`**\n",
    "2. Zero of any numeric type: **`0`**, **`0.0`**, **`0j`**, **`Decimal(0)`**, **`Fraction(0,1)`**\n",
    "3. Empty objects: **`list()`**, **`tuple()`**, **`set()`**, **`frozenset()`**, **`dict()`**"
   ]
  },
  {
   "cell_type": "code",
   "execution_count": null,
   "metadata": {},
   "outputs": [],
   "source": [
    "# all of the following truth value tests return False\n",
    "bool(None)\n",
    "bool(False)\n",
    "bool(0)\n",
    "bool(0.0)\n",
    "bool(0j)\n",
    "bool([])\n",
    "bool(())\n",
    "bool(set())\n",
    "bool(frozenset())\n",
    "bool(dict())"
   ]
  },
  {
   "cell_type": "markdown",
   "metadata": {},
   "source": [
    "**`and`**: return True if both are true, return False if either or both are false"
   ]
  },
  {
   "cell_type": "code",
   "execution_count": null,
   "metadata": {},
   "outputs": [],
   "source": [
    "True and True    # return True\n",
    "True and False   # return False\n",
    "False and False  # return False\n",
    "\n",
    "# note: this is a short-circuit operator, it evaluates the second argument only if the first is True"
   ]
  },
  {
   "cell_type": "markdown",
   "metadata": {},
   "source": [
    "**`or`**: return True if either or both are true, return False if both are false"
   ]
  },
  {
   "cell_type": "code",
   "execution_count": null,
   "metadata": {},
   "outputs": [],
   "source": [
    "True or True    # return True\n",
    "True or False   # return True\n",
    "False or False  # return False\n",
    "\n",
    "# note: this is a shor-circuit operator, it evaluates the second argument only if the first is False"
   ]
  },
  {
   "cell_type": "markdown",
   "metadata": {},
   "source": [
    "**`not`**: return negation of the boolean value"
   ]
  },
  {
   "cell_type": "code",
   "execution_count": null,
   "metadata": {},
   "outputs": [],
   "source": [
    "not True    # return False\n",
    "not False   # return True"
   ]
  },
  {
   "cell_type": "markdown",
   "metadata": {},
   "source": [
    "**`<`** : strictly less than"
   ]
  },
  {
   "cell_type": "code",
   "execution_count": null,
   "metadata": {},
   "outputs": [],
   "source": [
    "1 < 2    # return True\n",
    "2 < 2    # return False"
   ]
  },
  {
   "cell_type": "markdown",
   "metadata": {},
   "source": [
    "**`<=`** : less than or equal"
   ]
  },
  {
   "cell_type": "code",
   "execution_count": null,
   "metadata": {},
   "outputs": [],
   "source": [
    "1 <= 1    # return True"
   ]
  },
  {
   "cell_type": "markdown",
   "metadata": {},
   "source": [
    "**`>`** : strictly greater than"
   ]
  },
  {
   "cell_type": "code",
   "execution_count": null,
   "metadata": {},
   "outputs": [],
   "source": [
    "2 > 1    # return True\n",
    "2 > 2    # return False"
   ]
  },
  {
   "cell_type": "markdown",
   "metadata": {},
   "source": [
    "**`>=`** : greater than or equal"
   ]
  },
  {
   "cell_type": "code",
   "execution_count": null,
   "metadata": {},
   "outputs": [],
   "source": [
    "1 >= 1    # return True"
   ]
  },
  {
   "cell_type": "markdown",
   "metadata": {},
   "source": [
    "**`==`** : equal"
   ]
  },
  {
   "cell_type": "code",
   "execution_count": null,
   "metadata": {},
   "outputs": [],
   "source": [
    "1 == 1    # return True\n",
    "1 == 2    # return False\n",
    "\n",
    "# note: == is used for value comparison only\n",
    "#      'is' is used for object identity test "
   ]
  },
  {
   "cell_type": "markdown",
   "metadata": {},
   "source": [
    "**`!=`** : not equal"
   ]
  },
  {
   "cell_type": "code",
   "execution_count": null,
   "metadata": {},
   "outputs": [],
   "source": [
    "1 != 1    # return False\n",
    "1 != 2    # return True"
   ]
  },
  {
   "cell_type": "markdown",
   "metadata": {},
   "source": [
    "**`is`** and **`is not`** : object indentity"
   ]
  },
  {
   "cell_type": "code",
   "execution_count": null,
   "metadata": {},
   "outputs": [],
   "source": [
    "a = [1, 2, 3]\n",
    "b = a\n",
    "b is a    # return True\n",
    "\n",
    "# create one object in memory and a variable pointing to the object\n",
    "a = [1, 2, 3]\n",
    "# create another object in memory and a variable pointing to the object\n",
    "b = [1, 2, 3]\n",
    "# two object values are the same, but their addresses are different\n",
    "b is a    # return False"
   ]
  },
  {
   "cell_type": "code",
   "execution_count": null,
   "metadata": {},
   "outputs": [],
   "source": [
    "a = [1, 2, 3]\n",
    "b = [1, 2, 3]\n",
    "a is not b    # return True"
   ]
  },
  {
   "cell_type": "markdown",
   "metadata": {},
   "source": [
    "**Chained comparison**"
   ]
  },
  {
   "cell_type": "code",
   "execution_count": null,
   "metadata": {},
   "outputs": [],
   "source": [
    "1 < 2 < 3 < 4 < 5    # return True\n",
    "1 < 2 < 3 < 2        # return False"
   ]
  }
 ],
 "metadata": {
  "anaconda-cloud": {},
  "kernelspec": {
   "display_name": "Python 3",
   "language": "python",
   "name": "python3"
  },
  "language_info": {
   "codemirror_mode": {
    "name": "ipython",
    "version": 3
   },
   "file_extension": ".py",
   "mimetype": "text/x-python",
   "name": "python",
   "nbconvert_exporter": "python",
   "pygments_lexer": "ipython3",
   "version": "3.6.1"
  }
 },
 "nbformat": 4,
 "nbformat_minor": 2
}
