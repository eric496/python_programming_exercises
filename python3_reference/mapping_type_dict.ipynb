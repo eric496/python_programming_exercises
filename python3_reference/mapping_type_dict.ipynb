{
 "cells": [
  {
   "cell_type": "markdown",
   "metadata": {},
   "source": [
    "**`dict`** is a mapping type which maps hashable values to arbitrary objects. \n",
    "\n",
    "There are several ways to construct a `dict`:\n",
    "  * A pair of curly braces `{}` with or without key-value pairs\n",
    "    - `{'a': 1, 'b': 2, 'c': 3}`\n",
    "  * `dict` constructor:\n",
    "    - `dict(a=1, b=2, c=3)`\n",
    "    - `dict([('a',1), ('b',2), ('c',3)])`\n",
    "    - `dict(zip('abc', range(1,4)))`\n",
    "    \n",
    "Note: \n",
    "An empty dict can be created by `dict()` or simply `{}`"
   ]
  },
  {
   "cell_type": "markdown",
   "metadata": {},
   "source": [
    "**`len(d)`**: return the number of items in `d`"
   ]
  },
  {
   "cell_type": "code",
   "execution_count": null,
   "metadata": {},
   "outputs": [],
   "source": [
    "d = dict(a=1, b=2, c=3)\n",
    "len(d)    # return 3"
   ]
  },
  {
   "cell_type": "markdown",
   "metadata": {},
   "source": [
    "**`d[key]`**: return the value for key *key*, raise `KeyError` if `key` is not in `d`"
   ]
  },
  {
   "cell_type": "code",
   "execution_count": null,
   "metadata": {},
   "outputs": [],
   "source": [
    "d = dict(a=1, b=2, c=3)\n",
    "d['b']    # return 2\n",
    "d['d']    # raise KeyError"
   ]
  },
  {
   "cell_type": "markdown",
   "metadata": {},
   "source": [
    "**`d[key] = value`**: update the value for key *key* with *value*, if *key* is not in in `d`, create a new key-value pair"
   ]
  },
  {
   "cell_type": "code",
   "execution_count": null,
   "metadata": {},
   "outputs": [],
   "source": [
    "d = dict(a=1, b=2, c=3)\n",
    "d['a'] = 10\n",
    "print(d)    # return {'a': 10, 'b': 2, 'c': 3}\n",
    "d['d'] = 4\n",
    "print(d)    # return {'a': 10, 'b': 2, 'c': 3, 'd': 4}"
   ]
  },
  {
   "cell_type": "markdown",
   "metadata": {},
   "source": [
    "**`del d[key]`**: remove `d[key]` from `d`, raise `KeyError` if *key* is not in `d`"
   ]
  },
  {
   "cell_type": "code",
   "execution_count": null,
   "metadata": {},
   "outputs": [],
   "source": [
    "d = {'a': 1, 'b': 2, 'c': 3}\n",
    "del d['a']\n",
    "print(d)      # return {'b': 2, 'c': 3}\n",
    "del d['d']    # raise KeyError"
   ]
  },
  {
   "cell_type": "markdown",
   "metadata": {},
   "source": [
    "**`key in d`**: return `True` if key *key* is in `d`, else `False`"
   ]
  },
  {
   "cell_type": "code",
   "execution_count": null,
   "metadata": {},
   "outputs": [],
   "source": [
    "d = {'a': 1, 'b': 2, 'c': 3}\n",
    "'a' in d    # return True\n",
    "'d' in d    # return False"
   ]
  },
  {
   "cell_type": "markdown",
   "metadata": {},
   "source": [
    "**`key not in d`**: return `True` if key *key* is not in `d`, else `False`"
   ]
  },
  {
   "cell_type": "code",
   "execution_count": null,
   "metadata": {},
   "outputs": [],
   "source": [
    "d = {'a': 1, 'b': 2, 'c': 3}\n",
    "'a' not in d    # return False\n",
    "'d' not in d    # return True"
   ]
  },
  {
   "cell_type": "markdown",
   "metadata": {},
   "source": [
    "**`dict.clear(d)`**: remove all items from `d`"
   ]
  },
  {
   "cell_type": "code",
   "execution_count": null,
   "metadata": {},
   "outputs": [],
   "source": [
    "d = {'a': 1, 'b': 2, 'c': 3}\n",
    "dict.clear(d)    \n",
    "print(d)    # return {}\n",
    "# instance method\n",
    "d = {'a': 1, 'b': 2, 'c': 3}\n",
    "d.clear()        \n",
    "print(d)    # return {}"
   ]
  },
  {
   "cell_type": "markdown",
   "metadata": {},
   "source": [
    "**`dict.copy(d)`**: return a shallow copy of `d`"
   ]
  },
  {
   "cell_type": "code",
   "execution_count": null,
   "metadata": {},
   "outputs": [],
   "source": [
    "d = {'a': 1, 'b': 2, 'c': 3}\n",
    "d1 = dict.copy(d)\n",
    "print(d1)    # return {'a': 1, 'b': 2, 'c': 3}\n",
    "# instance method\n",
    "d = {'a': 1, 'b': 2, 'c': 3}\n",
    "d1 = d.copy()\n",
    "print(d1)    # return {'a': 1, 'b': 2, 'c': 3}"
   ]
  },
  {
   "cell_type": "markdown",
   "metadata": {},
   "source": [
    "**`dict.keys(d)`**: return a view object of `d`'s keys"
   ]
  },
  {
   "cell_type": "code",
   "execution_count": null,
   "metadata": {},
   "outputs": [],
   "source": [
    "d = dict(zip('abc', range(1,4)))\n",
    "dict.keys(d)    # return dict_keys(['a', 'b', 'c'])\n",
    "# instance method\n",
    "d.keys()        # return dict_keys(['a', 'b', 'c'])"
   ]
  },
  {
   "cell_type": "markdown",
   "metadata": {},
   "source": [
    "**`dict.values(d)`**: return a view object of `d`'s values"
   ]
  },
  {
   "cell_type": "code",
   "execution_count": null,
   "metadata": {},
   "outputs": [],
   "source": [
    "d = dict(zip('abc', range(1,4)))\n",
    "dict.values(d)    # return dict_values([1, 2, 3])\n",
    "# instance method\n",
    "d.values()        # return dict_values([1, 2, 3])"
   ]
  },
  {
   "cell_type": "markdown",
   "metadata": {},
   "source": [
    "**`dict.items(d)`**: return a view object of `d`'s items (key-value tuple pairs)"
   ]
  },
  {
   "cell_type": "code",
   "execution_count": null,
   "metadata": {},
   "outputs": [],
   "source": [
    "d = dict(zip('abc', range(1,4)))\n",
    "dict.items(d)    # return dict_items([('a', 1), ('b', 2), ('c', 3)])\n",
    "# instance method\n",
    "d.items()        # return dict_items([('a', 1), ('b', 2), ('c', 3)])"
   ]
  },
  {
   "cell_type": "markdown",
   "metadata": {},
   "source": [
    "**`dict.get(d, key[, default])`**: return value for *key* in `d` if *key* exists in `d`, else *default* which is `None` in default"
   ]
  },
  {
   "cell_type": "code",
   "execution_count": null,
   "metadata": {},
   "outputs": [],
   "source": [
    "d = dict(zip('abc', range(1,4)))\n",
    "dict.get(d, 'd')            # return None\n",
    "# instance method\n",
    "d.get('d', 'NOT FOUND!')    # return 'NOT FOUND!'"
   ]
  },
  {
   "cell_type": "markdown",
   "metadata": {},
   "source": [
    "**`dict.setdefault(d, key[, default])`**: return value for *key* if *key* exists in `d`, else insert *key* with value *default* which is `None` in default and return *default*"
   ]
  },
  {
   "cell_type": "code",
   "execution_count": null,
   "metadata": {},
   "outputs": [],
   "source": [
    "d = dict(zip('abc', range(1,4)))\n",
    "dict.setdefault(d, 'd', 4)    # return 4\n",
    "# instance method\n",
    "d.setdefault('e')             # return None\n",
    "print(d)                      # return {'a': 1, 'b': 2, 'c': 3, 'd': 4, 'e': None}"
   ]
  },
  {
   "cell_type": "markdown",
   "metadata": {},
   "source": [
    "**`dict.update(d, other)`**: update `d` with key-value pairs from *other* which may be a dictionary or any iterable of key-value pairs"
   ]
  },
  {
   "cell_type": "code",
   "execution_count": null,
   "metadata": {},
   "outputs": [],
   "source": [
    "d = dict([('a',1), ('b',2), ('c',3)])\n",
    "d1 = {'a': 10, 'd': 4}\n",
    "dict.update(d, d1)\n",
    "print(d)    # return {'a': 10, 'b': 2, 'c': 3, 'd': 4}\n",
    "# instance method\n",
    "d2 = [('a', 100), ('e', 5)]\n",
    "d.update(d2)\n",
    "print(d)    # return {'a': 100, 'b': 2, 'c': 3, 'd': 4, 'e': 5}"
   ]
  },
  {
   "cell_type": "markdown",
   "metadata": {},
   "source": [
    "**`dict.pop(d, key[, default])`**: remove key-value pair for key *key* and return value for *key* if *key* exists in `d`, else *default* which raises `KeyError` in default"
   ]
  },
  {
   "cell_type": "code",
   "execution_count": null,
   "metadata": {},
   "outputs": [],
   "source": [
    "d = dict([('a',1), ('b',2), ('c',3)])\n",
    "dict.pop(d, 'a')            # return 1\n",
    "print(d)                    # return {'b': 2, 'c': 3}\n",
    "# instance method\n",
    "d.pop('b')                  # return 2\n",
    "print(d)                    # return {'c': 3}\n",
    "d.pop('d', 'NOT FOUND!')    # return 'NOT FOUND!'\n",
    "d.pop('d')                  # raise KeyError"
   ]
  },
  {
   "cell_type": "markdown",
   "metadata": {},
   "source": [
    "**`dict.popitem(d)`**: remove and return an arbitrary key-value pair from `d`, raise `KeyError` if `d` is empty"
   ]
  },
  {
   "cell_type": "code",
   "execution_count": null,
   "metadata": {},
   "outputs": [],
   "source": [
    "d = dict([('a',1), ('b',2), ('c',3)])\n",
    "dict.popitem(d)    # return ('c', 3)\n",
    "print(d)           # return {'a': 1, 'b': 2}\n",
    "# instance method\n",
    "d.popitem()        # return ('b', 2)\n",
    "print(d)           # return {'a': 1}\n",
    "\n",
    "d.popitem()        # return {'a': 1}\n",
    "# now d is empty\n",
    "d.popitem()        # raise KeyError"
   ]
  }
 ],
 "metadata": {
  "kernelspec": {
   "display_name": "Python 3",
   "language": "python",
   "name": "python3"
  },
  "language_info": {
   "codemirror_mode": {
    "name": "ipython",
    "version": 3
   },
   "file_extension": ".py",
   "mimetype": "text/x-python",
   "name": "python",
   "nbconvert_exporter": "python",
   "pygments_lexer": "ipython3",
   "version": "3.6.1"
  }
 },
 "nbformat": 4,
 "nbformat_minor": 2
}
