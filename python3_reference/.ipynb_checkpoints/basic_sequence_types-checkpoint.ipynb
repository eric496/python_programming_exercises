{
 "cells": [
  {
   "cell_type": "markdown",
   "metadata": {},
   "source": [
    "### Immutable vs. Mutable"
   ]
  },
  {
   "cell_type": "markdown",
   "metadata": {},
   "source": [
    "**Immutable**: it cannot be changed once created. For example, `tuple`, `range` are immutable.\n",
    "\n",
    "**Mutable**: it can be changed after it is created. For example, `list` is mutable.\n",
    "\n",
    "Note: \n",
    "1. Mutable objects are not hashable.\n",
    "2. There are 3 basic sequence types introduced in this notebook: `list`, `tuple`, `range`"
   ]
  },
  {
   "cell_type": "markdown",
   "metadata": {},
   "source": [
    "### Common Sequence Operations"
   ]
  },
  {
   "cell_type": "markdown",
   "metadata": {},
   "source": [
    "**`x in s`**: return `True` if `x` is in the sequence, else `False`\n",
    "\n",
    "**`x not in s`**: return `True` if `x` is not in the sequence, else `False`"
   ]
  },
  {
   "cell_type": "code",
   "execution_count": null,
   "metadata": {
    "collapsed": true
   },
   "outputs": [],
   "source": [
    "s = list(range(5))\n",
    "4 in s        # return True\n",
    "4 not in s    # return False\n",
    "5 in s        # return False\n",
    "5 not in s    # return True"
   ]
  },
  {
   "cell_type": "markdown",
   "metadata": {},
   "source": [
    "**`x + y`**: return a new sequence which concatenates two sequences `x` and `y`"
   ]
  },
  {
   "cell_type": "code",
   "execution_count": null,
   "metadata": {
    "collapsed": true
   },
   "outputs": [],
   "source": [
    "x = list(range(5))\n",
    "y = list(range(5, 10))\n",
    "x + y    # return [0, 1, 2, 3, 4, 5, 6, 7, 8, 9]\n",
    "\n",
    "x = 1,2,3,4,5\n",
    "y = 6,7,8,9,10\n",
    "x + y    # return (1, 2, 3, 4, 5, 6, 7, 8, 9, 10)"
   ]
  },
  {
   "cell_type": "markdown",
   "metadata": {},
   "source": [
    "**`s * i`** or **`i * s`**: return a new sequence which is `i` times of `s` concatenated"
   ]
  },
  {
   "cell_type": "code",
   "execution_count": null,
   "metadata": {
    "collapsed": true
   },
   "outputs": [],
   "source": [
    "x = 1,2,3\n",
    "3 * x    # return (1, 2, 3, 1, 2, 3, 1, 2, 3)\n",
    "x * 3    # return (1, 2, 3, 1, 2, 3, 1, 2, 3)"
   ]
  },
  {
   "cell_type": "markdown",
   "metadata": {},
   "source": [
    "**`s[i]`**: return the *i* th element of the sequence `s`"
   ]
  },
  {
   "cell_type": "code",
   "execution_count": null,
   "metadata": {
    "collapsed": true
   },
   "outputs": [],
   "source": [
    "x = 1,2,3\n",
    "x[0]     # return 1\n",
    "y = [4,5,6]\n",
    "y[-1]    # return 6"
   ]
  },
  {
   "cell_type": "markdown",
   "metadata": {},
   "source": [
    "**`s[i:j]`**: return the slice of `s` from *i* th (inclusive) to *j* th (exclusive) elements"
   ]
  },
  {
   "cell_type": "code",
   "execution_count": null,
   "metadata": {
    "collapsed": true
   },
   "outputs": [],
   "source": [
    "s = list(range(10))\n",
    "s[3:8]     # return [3, 4, 5, 6, 7]\n",
    "\n",
    "# note: slicing returns a copy of s, rather than view"
   ]
  },
  {
   "cell_type": "markdown",
   "metadata": {},
   "source": [
    "**`s[i:j:k]`**: return the slice of `s` from *i* th (inclusive) to *j* th (exclusive) elements with step *k*"
   ]
  },
  {
   "cell_type": "code",
   "execution_count": null,
   "metadata": {
    "collapsed": true
   },
   "outputs": [],
   "source": [
    "s = tuple(range(10))\n",
    "s[3:9:2]    # return (3, 5, 7)"
   ]
  },
  {
   "cell_type": "markdown",
   "metadata": {},
   "source": [
    "**`len(s)`**: return the length of `s`"
   ]
  },
  {
   "cell_type": "code",
   "execution_count": null,
   "metadata": {
    "collapsed": true
   },
   "outputs": [],
   "source": [
    "s = 1,2,3,4,5\n",
    "len(s)    # return 5"
   ]
  },
  {
   "cell_type": "markdown",
   "metadata": {},
   "source": [
    "**`min(s)`**: return the min value of `s`\n",
    "\n",
    "**`max(s)`**: return the max value of `s`"
   ]
  },
  {
   "cell_type": "code",
   "execution_count": null,
   "metadata": {
    "collapsed": true
   },
   "outputs": [],
   "source": [
    "s = tuple(range(10))\n",
    "min(s)    # return 0\n",
    "max(s)    # return 9"
   ]
  },
  {
   "cell_type": "markdown",
   "metadata": {},
   "source": [
    "**`s.index(sub[, i[, j]])`**: return the first index of the first occurence of *sub* in `s`, starting from *i* th (inclusive) and ending at *j* th (exclusive) elements. Raise `ValueError` if *sub* is not in `s`"
   ]
  },
  {
   "cell_type": "code",
   "execution_count": null,
   "metadata": {},
   "outputs": [],
   "source": [
    "s = list(range(100))\n",
    "s.index(99)      # return 99\n",
    "s.index(0, 1)    # raise ValueError"
   ]
  },
  {
   "cell_type": "markdown",
   "metadata": {},
   "source": [
    "**`s.count(x)`**: return the number of occurences of `x` in `s`"
   ]
  },
  {
   "cell_type": "code",
   "execution_count": null,
   "metadata": {
    "collapsed": true
   },
   "outputs": [],
   "source": [
    "s = [1,2,3] * 3\n",
    "s.count(1)    # return 3"
   ]
  },
  {
   "cell_type": "markdown",
   "metadata": {},
   "source": [
    "### Common Mutable Sequence Operations"
   ]
  },
  {
   "cell_type": "markdown",
   "metadata": {},
   "source": [
    "**`s[i] = x`**: assign new value to *i* th element in `s`"
   ]
  },
  {
   "cell_type": "code",
   "execution_count": null,
   "metadata": {
    "collapsed": true
   },
   "outputs": [],
   "source": [
    "s = [1,2,3]\n",
    "s[0] = 3\n",
    "print(s)    # return [3, 2, 3]"
   ]
  },
  {
   "cell_type": "markdown",
   "metadata": {},
   "source": [
    "**`s[i:j] = t`**: assign new values to from the *i* th (inclusive) to the *j* th (exclusive) elements in `s` "
   ]
  },
  {
   "cell_type": "code",
   "execution_count": null,
   "metadata": {
    "collapsed": true
   },
   "outputs": [],
   "source": [
    "# t must be of the same length as the slice\n",
    "s = list(range(10))\n",
    "s[3:7] = [0] * 4\n",
    "print(s)    # return [0, 1, 2, 0, 0, 0, 0, 7, 8, 9]\n",
    "\n",
    "# note: assignment occurs in place, slicing here does not create copy"
   ]
  },
  {
   "cell_type": "markdown",
   "metadata": {},
   "source": [
    "**`s[i:j:k] = t`**: assign new values to from the *i* th (inclusive) to the *j* th (exclusive) elements in `s` with step *k*"
   ]
  },
  {
   "cell_type": "code",
   "execution_count": null,
   "metadata": {
    "collapsed": true
   },
   "outputs": [],
   "source": [
    "# t must be of the same length as the slice\n",
    "s = list(range(10))\n",
    "s[::2] = range(100, 105)\n",
    "print(s)    # return [100, 1, 101, 3, 102, 5, 103, 7, 104, 9]"
   ]
  },
  {
   "cell_type": "markdown",
   "metadata": {},
   "source": [
    "**`del s[i:j:k]`**: remove slice from *i* th (inclusive) to *j* th (exclusive) elements from `s` with step *k*"
   ]
  },
  {
   "cell_type": "code",
   "execution_count": null,
   "metadata": {
    "collapsed": true
   },
   "outputs": [],
   "source": [
    "s = list(range(10))\n",
    "del s[::2]\n",
    "print(s)    # return [1, 3, 5, 7, 9]"
   ]
  },
  {
   "cell_type": "markdown",
   "metadata": {},
   "source": [
    "**`s.append(x)`**: append `x` to the end of `s`"
   ]
  },
  {
   "cell_type": "code",
   "execution_count": null,
   "metadata": {
    "collapsed": true
   },
   "outputs": [],
   "source": [
    "s = [1, 2, 3]\n",
    "s.append(4)\n",
    "s.append(5)\n",
    "print(s)    # return [1, 2, 3, 4, 5]"
   ]
  },
  {
   "cell_type": "markdown",
   "metadata": {},
   "source": [
    "**`s.clear()`**: remove all elements from `s`"
   ]
  },
  {
   "cell_type": "code",
   "execution_count": null,
   "metadata": {
    "collapsed": true
   },
   "outputs": [],
   "source": [
    "s = [1, 2, 3]\n",
    "s.clear()\n",
    "print(s)    # return s"
   ]
  },
  {
   "cell_type": "markdown",
   "metadata": {},
   "source": [
    "**`s.copy()`**: return a shallow copy of `s`"
   ]
  },
  {
   "cell_type": "code",
   "execution_count": null,
   "metadata": {
    "collapsed": true
   },
   "outputs": [],
   "source": [
    "s = [1, 2, 3]\n",
    "c = s.copy()\n",
    "print(c)    # return [1, 2, 3]"
   ]
  },
  {
   "cell_type": "markdown",
   "metadata": {},
   "source": [
    "**`s.extend(t)`** or **`s += t`**: unpack `t` and append the contents of `t` to the end of `s`"
   ]
  },
  {
   "cell_type": "code",
   "execution_count": null,
   "metadata": {
    "collapsed": true
   },
   "outputs": [],
   "source": [
    "s = [1, 2, 3]\n",
    "t = [4, 5, 6]\n",
    "s.extend(t)\n",
    "print(s)    # return [1, 2, 3, 4, 5, 6]\n",
    "\n",
    "# note: t can be any sequence type, the return type is always consitent with s\n",
    "s = [1, 2, 3]\n",
    "t = 4, 5, 6\n",
    "s.extend(t)\n",
    "print(s)    # return [1, 2, 3, 4, 5, 6]\n",
    "\n",
    "s = [1, 2, 3]\n",
    "t = range(4,7)\n",
    "s.extend(t)\n",
    "print(s)    # return [1, 2, 3, 4, 5, 6]\n",
    "\n",
    "s = [1, 2, 3]\n",
    "t = '456'\n",
    "s.extend(t)\n",
    "print(s)    # return [1, 2, 3, '4', '5', '6']"
   ]
  },
  {
   "cell_type": "markdown",
   "metadata": {},
   "source": [
    "**`s.insert(i, x)`**: insert element `x` into `s` at index *i* "
   ]
  },
  {
   "cell_type": "code",
   "execution_count": null,
   "metadata": {
    "collapsed": true
   },
   "outputs": [],
   "source": [
    "s = [1, 2, 3]\n",
    "s.insert(1, 10)\n",
    "print(s)    # return [1, 10, 2, 3]"
   ]
  },
  {
   "cell_type": "markdown",
   "metadata": {},
   "source": [
    "**`s.pop([i])`**: return the *i* th element (the last if *i* is not specified) of `s` and remove it"
   ]
  },
  {
   "cell_type": "code",
   "execution_count": null,
   "metadata": {
    "collapsed": true
   },
   "outputs": [],
   "source": [
    "s = [1, 2, 3]\n",
    "s.pop()     # return 3\n",
    "s.pop(0)    # return 1\n",
    "print(s)    # return [2]"
   ]
  },
  {
   "cell_type": "markdown",
   "metadata": {},
   "source": [
    "**`s.remove(x)`**: remove the first `x` in `s`, raise `ValueError` if `x` is not in `s`"
   ]
  },
  {
   "cell_type": "code",
   "execution_count": null,
   "metadata": {
    "collapsed": true
   },
   "outputs": [],
   "source": [
    "s = [1, 2, 3, 1]\n",
    "s.remove(1)\n",
    "print(s)       # return [2, 3, 1]\n",
    "s.remove(4)    # raise ValueError"
   ]
  },
  {
   "cell_type": "markdown",
   "metadata": {},
   "source": [
    "**`s.reverse()`**: reverse `s` in place"
   ]
  },
  {
   "cell_type": "code",
   "execution_count": null,
   "metadata": {
    "collapsed": true
   },
   "outputs": [],
   "source": [
    "s = [1, 2, 3]\n",
    "s.reverse()\n",
    "print(s)    # return [3, 2, 1]"
   ]
  },
  {
   "cell_type": "markdown",
   "metadata": {},
   "source": [
    "### Lists"
   ]
  },
  {
   "cell_type": "markdown",
   "metadata": {},
   "source": [
    "Lists may be constructed in several ways:\n",
    "1. A pair of square brackets with or without elements: \n",
    "  * **`[]`**\n",
    "  * **`[1, 2, 3]`** \n",
    "  * **`[x for x in iterable]`**\n",
    "2. Type constructor: \n",
    "  * **`list()`**\n",
    "  * **`list(iterable)`**"
   ]
  },
  {
   "cell_type": "markdown",
   "metadata": {},
   "source": [
    "**`sort(key=None, reverse=False)`**: sort the list in place"
   ]
  },
  {
   "cell_type": "code",
   "execution_count": null,
   "metadata": {
    "collapsed": true
   },
   "outputs": [],
   "source": [
    "s = [3, 2, 4, 1]\n",
    "s.sort()\n",
    "print(s)    # return [1, 2, 3, 4]\n",
    "s.sort(reverse=True)    \n",
    "print(s)    # [4, 3, 2, 1]"
   ]
  },
  {
   "cell_type": "markdown",
   "metadata": {},
   "source": [
    "### Tuples"
   ]
  },
  {
   "cell_type": "markdown",
   "metadata": {},
   "source": [
    "Tuples may be constructed in several ways:\n",
    "1. A pair of parentheses with or without elements: \n",
    "  * **`()`**\n",
    "  * **`(1, 2, 3)`**\n",
    "2. Separating elements with commas: **`s = 1, 2 ,3`**\n",
    "3. A trailing comma for a singleton tuple: \n",
    "  * **`1,`**\n",
    "  * **`(1,)`**\n",
    "4. Type constructor: \n",
    "  * **`tuple()`**\n",
    "  * **`tuple(iterable)`**"
   ]
  },
  {
   "cell_type": "markdown",
   "metadata": {},
   "source": [
    "### Ranges"
   ]
  },
  {
   "cell_type": "markdown",
   "metadata": {},
   "source": [
    "**`range(stop)`**: return a range object representing integers from `0` (inclusive) to *stop* (exclusive)"
   ]
  },
  {
   "cell_type": "code",
   "execution_count": null,
   "metadata": {
    "collapsed": true
   },
   "outputs": [],
   "source": [
    "range(10)    # return range(0, 10)"
   ]
  },
  {
   "cell_type": "markdown",
   "metadata": {},
   "source": [
    "**`range(start, stop[, step])`**: return a range object representing integers from `0` (inclusive) to *stop* (exclusive) with step *k*"
   ]
  },
  {
   "cell_type": "code",
   "execution_count": null,
   "metadata": {
    "collapsed": true
   },
   "outputs": [],
   "source": [
    "range(0, 10, 2)    # return range(0, 10, 2)"
   ]
  }
 ],
 "metadata": {
  "kernelspec": {
   "display_name": "Python 3",
   "language": "python",
   "name": "python3"
  },
  "language_info": {
   "codemirror_mode": {
    "name": "ipython",
    "version": 3
   },
   "file_extension": ".py",
   "mimetype": "text/x-python",
   "name": "python",
   "nbconvert_exporter": "python",
   "pygments_lexer": "ipython3",
   "version": "3.6.3"
  }
 },
 "nbformat": 4,
 "nbformat_minor": 2
}
