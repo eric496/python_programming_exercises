{
 "cells": [
  {
   "cell_type": "markdown",
   "metadata": {},
   "source": [
    "### Immutable vs. Mutable"
   ]
  },
  {
   "cell_type": "markdown",
   "metadata": {},
   "source": [
    "**Immutable**: it cannot be changed once created. For example, `tuple` is immutable.\n",
    "\n",
    "**Mutable**: it can be changed after it is created. For example, `list` is mutable.\n",
    "\n",
    "Note: \n",
    "1. Mutable objects are not hashable.\n",
    "2. There are 3 basic sequence types introduced in this notebook: `list`, `tuple`, `range`"
   ]
  },
  {
   "cell_type": "markdown",
   "metadata": {},
   "source": [
    "### Common Sequence Operations"
   ]
  },
  {
   "cell_type": "markdown",
   "metadata": {},
   "source": [
    "**`x in s`**: return True if x is in the sequence, else False\n",
    "\n",
    "**`x not in s`**: return True if x is not in the sequence, else False"
   ]
  },
  {
   "cell_type": "code",
   "execution_count": null,
   "metadata": {},
   "outputs": [],
   "source": [
    "s = list(range(5))\n",
    "4 in s        # return True\n",
    "4 not in s    # return False\n",
    "5 in s        # return False\n",
    "5 not in s    # return True"
   ]
  },
  {
   "cell_type": "markdown",
   "metadata": {},
   "source": [
    "**`x + y`**: concatenate two sequences"
   ]
  },
  {
   "cell_type": "code",
   "execution_count": null,
   "metadata": {},
   "outputs": [],
   "source": [
    "x = list(range(5))\n",
    "y = list(range(5, 10))\n",
    "x + y    # return [0, 1, 2, 3, 4, 5, 6, 7, 8, 9]\n",
    "\n",
    "x = 1,2,3,4,5\n",
    "y = 6,7,8,9,10\n",
    "x + y    # return (1, 2, 3, 4, 5, 6, 7, 8, 9, 10)"
   ]
  },
  {
   "cell_type": "markdown",
   "metadata": {},
   "source": [
    "**`s * i`** or **`i * s`**: return a new sequence which is i times of s concatenated"
   ]
  },
  {
   "cell_type": "code",
   "execution_count": null,
   "metadata": {},
   "outputs": [],
   "source": [
    "x = 1,2,3\n",
    "3 * x    # return (1, 2, 3, 1, 2, 3, 1, 2, 3)\n",
    "x * 3    # return (1, 2, 3, 1, 2, 3, 1, 2, 3)"
   ]
  },
  {
   "cell_type": "markdown",
   "metadata": {},
   "source": [
    "**`s[i]`**: return the *i* th element of the sequence s"
   ]
  },
  {
   "cell_type": "code",
   "execution_count": null,
   "metadata": {},
   "outputs": [],
   "source": [
    "x = 1,2,3\n",
    "x[0]     # return 1\n",
    "y = [4,5,6]\n",
    "y[-1]    # return 6"
   ]
  },
  {
   "cell_type": "markdown",
   "metadata": {},
   "source": [
    "**`s[i:j]`**: return the slice of s from index i (inclusive) to j (exclusive)"
   ]
  },
  {
   "cell_type": "code",
   "execution_count": null,
   "metadata": {},
   "outputs": [],
   "source": [
    "s = list(range(10))\n",
    "s[3:8]     # return [3, 4, 5, 6, 7]"
   ]
  },
  {
   "cell_type": "markdown",
   "metadata": {},
   "source": [
    "**`s[i:j:k]`**: return the slice of s from index i (inclusive) to j (exclusive) with step k"
   ]
  },
  {
   "cell_type": "code",
   "execution_count": null,
   "metadata": {},
   "outputs": [],
   "source": [
    "s = tuple(range(10))\n",
    "s[3:9:2]    # return (3, 5, 7)"
   ]
  },
  {
   "cell_type": "markdown",
   "metadata": {},
   "source": [
    "**`len(s)`**: return the length of s"
   ]
  },
  {
   "cell_type": "code",
   "execution_count": null,
   "metadata": {},
   "outputs": [],
   "source": [
    "s = 1,2,3,4,5\n",
    "len(s)    # return 5"
   ]
  },
  {
   "cell_type": "markdown",
   "metadata": {},
   "source": [
    "**`min(s)`**: return the min value of s\n",
    "\n",
    "**`max(s)`**: return the max value of s"
   ]
  },
  {
   "cell_type": "code",
   "execution_count": null,
   "metadata": {},
   "outputs": [],
   "source": [
    "s = tuple(range(10))\n",
    "min(s)    # return 0\n",
    "max(s)    # return 9"
   ]
  },
  {
   "cell_type": "markdown",
   "metadata": {},
   "source": [
    "**`s.index(x[, i[, j]])`**: return the index of the first occurence of x in s, starting from index i (inclusive) and ending at j (exclusive)"
   ]
  },
  {
   "cell_type": "code",
   "execution_count": null,
   "metadata": {},
   "outputs": [],
   "source": [
    "s = list(range(100))\n",
    "s.index(99)      # return 99\n",
    "s.index(0, 1)    # raise ValueError"
   ]
  },
  {
   "cell_type": "markdown",
   "metadata": {},
   "source": [
    "**`s.count(x)`**: return the number of occurences of x in s"
   ]
  },
  {
   "cell_type": "code",
   "execution_count": null,
   "metadata": {},
   "outputs": [],
   "source": [
    "s = [1,2,3] * 3\n",
    "s.count(1)    # return 3"
   ]
  },
  {
   "cell_type": "markdown",
   "metadata": {},
   "source": [
    "### Common Mutable Sequence Operations"
   ]
  },
  {
   "cell_type": "markdown",
   "metadata": {},
   "source": [
    "**`s[i] = x`**: assign new value to *i* th element in s"
   ]
  },
  {
   "cell_type": "code",
   "execution_count": null,
   "metadata": {},
   "outputs": [],
   "source": [
    "s = [1,2,3]\n",
    "s[0] = 3\n",
    "print(s)    # return [3, 2, 3]"
   ]
  },
  {
   "cell_type": "markdown",
   "metadata": {},
   "source": [
    "**`s[i:j] = t`**: assign new values to from the *i* th (inclusive) to the *j* th (exclusive) elements in s "
   ]
  },
  {
   "cell_type": "code",
   "execution_count": null,
   "metadata": {},
   "outputs": [],
   "source": [
    "# t must be of the same length as the slice\n",
    "s = list(range(10))\n",
    "s[3:7] = [0] * 4\n",
    "print(s)    # return [0, 1, 2, 0, 0, 0, 0, 7, 8, 9]\n",
    "\n",
    "# note: assignment occurs in place, slicing here does not create copy"
   ]
  },
  {
   "cell_type": "markdown",
   "metadata": {},
   "source": [
    "**`s[i:j:k] = t`**: assign new values to from the *i* th (inclusive) to the *j* th (exclusive) elements in s with step k"
   ]
  },
  {
   "cell_type": "code",
   "execution_count": null,
   "metadata": {},
   "outputs": [],
   "source": [
    "s = list(range(10))\n",
    "s[::2] = range(100, 105)\n",
    "print(s)    # return [100, 1, 101, 3, 102, 5, 103, 7, 104, 9]"
   ]
  },
  {
   "cell_type": "markdown",
   "metadata": {},
   "source": [
    "**`del s[i:j:k]`**: remove slice from s with step k"
   ]
  },
  {
   "cell_type": "code",
   "execution_count": null,
   "metadata": {},
   "outputs": [],
   "source": [
    "s = list(range(10))\n",
    "del s[::2]\n",
    "print(s)    # return [1, 3, 5, 7, 9]"
   ]
  },
  {
   "cell_type": "markdown",
   "metadata": {},
   "source": [
    "**`s.append(x)`**: append x to the end of s"
   ]
  },
  {
   "cell_type": "code",
   "execution_count": null,
   "metadata": {},
   "outputs": [],
   "source": [
    "s = [1, 2, 3]\n",
    "s.append(4)\n",
    "s.append(5)\n",
    "print(s)    # return [1, 2, 3, 4, 5]"
   ]
  },
  {
   "cell_type": "markdown",
   "metadata": {},
   "source": [
    "**`s.clear()`**: remove all elements from s"
   ]
  },
  {
   "cell_type": "code",
   "execution_count": null,
   "metadata": {},
   "outputs": [],
   "source": [
    "s = [1, 2, 3]\n",
    "s.clear()\n",
    "print(s)    # return s"
   ]
  },
  {
   "cell_type": "markdown",
   "metadata": {},
   "source": [
    "**`s.copy()`**: return a shallow copy of s"
   ]
  },
  {
   "cell_type": "code",
   "execution_count": null,
   "metadata": {},
   "outputs": [],
   "source": [
    "s = [1, 2, 3]\n",
    "c = s.copy()\n",
    "print(c)    # return [1, 2, 3]"
   ]
  },
  {
   "cell_type": "markdown",
   "metadata": {},
   "source": [
    "**`s.extend(t)`** or **`s += t`**: unpack t and append the contents of t to the end of s"
   ]
  },
  {
   "cell_type": "code",
   "execution_count": null,
   "metadata": {},
   "outputs": [],
   "source": [
    "s = [1, 2, 3]\n",
    "t = [4, 5, 6]\n",
    "s.extend(t)\n",
    "print(s)    # return [1, 2, 3, 4, 5, 6]\n",
    "\n",
    "# note: t can be any sequence type, the return type is always consitent with s\n",
    "s = [1, 2, 3]\n",
    "t = 4, 5, 6\n",
    "s.extend(t)\n",
    "print(s)    # return [1, 2, 3, 4, 5, 6]\n",
    "\n",
    "s = [1, 2, 3]\n",
    "t = range(4,7)\n",
    "s.extend(t)\n",
    "print(s)    # return [1, 2, 3, 4, 5, 6]\n",
    "\n",
    "s = [1, 2, 3]\n",
    "t = '456'\n",
    "s.extend(t)\n",
    "print(s)    # return [1, 2, 3, '4', '5', '6']"
   ]
  },
  {
   "cell_type": "markdown",
   "metadata": {},
   "source": [
    "**`s.insert(i, x)`**: insert element x into s at index i "
   ]
  },
  {
   "cell_type": "code",
   "execution_count": null,
   "metadata": {},
   "outputs": [],
   "source": [
    "s = [1, 2, 3]\n",
    "s.insert(1, 10)\n",
    "print(s)    # return [1, 10, 2, 3]"
   ]
  },
  {
   "cell_type": "markdown",
   "metadata": {},
   "source": [
    "**`s.pop([i])`**: return the *i* th element (the last if *i* is not specified) of s and remove it"
   ]
  },
  {
   "cell_type": "code",
   "execution_count": null,
   "metadata": {},
   "outputs": [],
   "source": [
    "s = [1, 2, 3]\n",
    "s.pop()     # return 3\n",
    "s.pop(0)    # return 1\n",
    "print(s)    # return [2]"
   ]
  },
  {
   "cell_type": "markdown",
   "metadata": {},
   "source": [
    "**`s.remove(x)`**: remove the first x in s"
   ]
  },
  {
   "cell_type": "code",
   "execution_count": null,
   "metadata": {},
   "outputs": [],
   "source": [
    "s = [1, 2, 3, 1]\n",
    "s.remove(1)\n",
    "print(s)    # return [2, 3, 1]\n",
    "\n",
    "# note: it returns ValueError if x is not in s"
   ]
  },
  {
   "cell_type": "markdown",
   "metadata": {},
   "source": [
    "**`s.reverse()`**: reverse s in place"
   ]
  },
  {
   "cell_type": "code",
   "execution_count": null,
   "metadata": {},
   "outputs": [],
   "source": [
    "s = [1, 2, 3]\n",
    "s.reverse()\n",
    "print(s)    # return [3, 2, 1]"
   ]
  }
 ],
 "metadata": {
  "kernelspec": {
   "display_name": "Python 3",
   "language": "python",
   "name": "python3"
  },
  "language_info": {
   "codemirror_mode": {
    "name": "ipython",
    "version": 3
   },
   "file_extension": ".py",
   "mimetype": "text/x-python",
   "name": "python",
   "nbconvert_exporter": "python",
   "pygments_lexer": "ipython3",
   "version": "3.6.1"
  }
 },
 "nbformat": 4,
 "nbformat_minor": 2
}
