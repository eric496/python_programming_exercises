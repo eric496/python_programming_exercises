{
 "cells": [
  {
   "cell_type": "markdown",
   "metadata": {},
   "source": [
    "**`abs(n)`**: return absolute value of a number"
   ]
  },
  {
   "cell_type": "code",
   "execution_count": null,
   "metadata": {
    "collapsed": true
   },
   "outputs": [],
   "source": [
    "abs(-1)     # return 1"
   ]
  },
  {
   "cell_type": "markdown",
   "metadata": {},
   "source": [
    "**`pow(x, y[, z])`**: return x to the power of y, modulo z"
   ]
  },
  {
   "cell_type": "code",
   "execution_count": null,
   "metadata": {
    "collapsed": true
   },
   "outputs": [],
   "source": [
    "pow(2,3)    # return 8\n",
    "pow(2,3,3)  # return 2"
   ]
  },
  {
   "cell_type": "markdown",
   "metadata": {},
   "source": [
    "**`round(number[, n])`**: return number rounded to n digits precision after the decimal point"
   ]
  },
  {
   "cell_type": "code",
   "execution_count": null,
   "metadata": {
    "collapsed": true
   },
   "outputs": [],
   "source": [
    "round(123.87)        # return 124 (integer)\n",
    "round(123.87, 1)     # return 123.9\n",
    "# second argument can be a negative number\n",
    "round(123.87, -1)    # return 120.0 (float)\n",
    "round(123.87, -2)    # return 100.0 (float)"
   ]
  },
  {
   "cell_type": "markdown",
   "metadata": {},
   "source": [
    "**`max(iterable)`**: return the max value of an iterable \n",
    "\n",
    "**`min(iterable)`**: return the min value of an iterable"
   ]
  },
  {
   "cell_type": "code",
   "execution_count": null,
   "metadata": {
    "collapsed": true
   },
   "outputs": [],
   "source": [
    "test_list = list(range(10))\n",
    "test_str = ['abcde', 'bc', 'def', 'ghik']\n",
    "\n",
    "# max(iterable) returns max value of the iterable, min() is similar\n",
    "max(test_list)          # return 9\n",
    "min(test_list)          # return 0\n",
    "max(test_str)           # return 'ghik'\n",
    "max(test_str)           # return 'a'\n",
    "\n",
    "# max(arg1, arg2, ...) returns max value of all arguments, min() is similar\n",
    "max(1, 2, 3)            # return 3\n",
    "min(1, 2, 3)            # return 1\n",
    "\n",
    "# pass key argument (a function)\n",
    "max(test_str, key=len)  # return 'abcde'\n",
    "min(test_str, key=len)  # return 'bc'"
   ]
  },
  {
   "cell_type": "markdown",
   "metadata": {},
   "source": [
    "**`sum(iterable[, n])`**: sum items of the iterable and an optional number n"
   ]
  },
  {
   "cell_type": "code",
   "execution_count": null,
   "metadata": {
    "collapsed": true
   },
   "outputs": [],
   "source": [
    "sum([1,2,3])          # return 6\n",
    "sum([1,2,3], 4)       # return 10"
   ]
  },
  {
   "cell_type": "markdown",
   "metadata": {},
   "source": [
    "**`divmod(x, y)`**: return quotient and remainder of x divided by y"
   ]
  },
  {
   "cell_type": "code",
   "execution_count": null,
   "metadata": {
    "collapsed": true
   },
   "outputs": [],
   "source": [
    "divmod(13, 4)     # return (3,1)"
   ]
  },
  {
   "cell_type": "markdown",
   "metadata": {},
   "source": [
    "**`all(iterable)`**: return True if all elements of the iterable are true"
   ]
  },
  {
   "cell_type": "code",
   "execution_count": null,
   "metadata": {
    "collapsed": true
   },
   "outputs": [],
   "source": [
    "# 0 is False\n",
    "test_list = [0, 1, 2]\n",
    "all(test_list)        # return False\n",
    "\n",
    "# None is False\n",
    "test_tuple = (None, 1, 2)    \n",
    "all(test_tuple)       # return False\n",
    "\n",
    "# if iterable is empty, return True\n",
    "test_set = set()\n",
    "all(test_set)         # return True"
   ]
  },
  {
   "cell_type": "markdown",
   "metadata": {},
   "source": [
    "**`any(iterable)`**: return True if any element of the iterable is true"
   ]
  },
  {
   "cell_type": "code",
   "execution_count": null,
   "metadata": {
    "collapsed": true
   },
   "outputs": [],
   "source": [
    "# 0 is False\n",
    "test_list = [0, 1, 2]\n",
    "any(test_list)              # return True\n",
    "\n",
    "# None is False\n",
    "test_tuple = (None, None, None)    \n",
    "any(test_tuple)             # return False\n",
    "\n",
    "# if iterable is empty, return False \n",
    "test_set = set()\n",
    "any(test_set)               # return False"
   ]
  },
  {
   "cell_type": "markdown",
   "metadata": {},
   "source": [
    "**`ascii(object)`**: return a string containing ASC-II characters only"
   ]
  },
  {
   "cell_type": "code",
   "execution_count": null,
   "metadata": {
    "collapsed": true
   },
   "outputs": [],
   "source": [
    "# similar to repr() but escape all non-ascii characters\n",
    "ascii('abc')    # return \"'abc'\""
   ]
  },
  {
   "cell_type": "markdown",
   "metadata": {},
   "source": [
    "**`repr(object)`**: return a string containing a printable representation of an object"
   ]
  },
  {
   "cell_type": "code",
   "execution_count": null,
   "metadata": {
    "collapsed": true
   },
   "outputs": [],
   "source": [
    "repr(100)       # return '100'"
   ]
  },
  {
   "cell_type": "markdown",
   "metadata": {},
   "source": [
    "**`eval(object)`**: parse an expression adn evaluate it as a Python expression"
   ]
  },
  {
   "cell_type": "code",
   "execution_count": null,
   "metadata": {
    "collapsed": true
   },
   "outputs": [],
   "source": [
    "eval('print(1+1)')    # return 2"
   ]
  },
  {
   "cell_type": "markdown",
   "metadata": {},
   "source": [
    "**`exec(object)`**: supports dynamic execution of Python code"
   ]
  },
  {
   "cell_type": "code",
   "execution_count": null,
   "metadata": {
    "collapsed": true
   },
   "outputs": [],
   "source": [
    "num = 100\n",
    "exec('num = 101')   # eval() cannot achieve this because it does not support dynamic execution\n",
    "print(num)          # return 101         "
   ]
  },
  {
   "cell_type": "markdown",
   "metadata": {},
   "source": [
    "**`bin(int)`**: convert an integer to a binary string prefixed with '0b'"
   ]
  },
  {
   "cell_type": "code",
   "execution_count": null,
   "metadata": {
    "collapsed": true
   },
   "outputs": [],
   "source": [
    "bin(2)    # return '0b10'"
   ]
  },
  {
   "cell_type": "markdown",
   "metadata": {},
   "source": [
    "**`oct(int)`**: convert an integer to an octal string prefixed with '0o'"
   ]
  },
  {
   "cell_type": "code",
   "execution_count": null,
   "metadata": {
    "collapsed": true
   },
   "outputs": [],
   "source": [
    "oct(8)    # return '0o10'"
   ]
  },
  {
   "cell_type": "markdown",
   "metadata": {},
   "source": [
    "**`hex(int)`**: convert an integer to a lowercase hexadecimal string prefixed with '0x'"
   ]
  },
  {
   "cell_type": "code",
   "execution_count": null,
   "metadata": {
    "collapsed": true
   },
   "outputs": [],
   "source": [
    "hex(16)    # return '0x10'"
   ]
  },
  {
   "cell_type": "markdown",
   "metadata": {},
   "source": [
    "**`bytearray(iterable)`**: return a mutable byte array object"
   ]
  },
  {
   "cell_type": "code",
   "execution_count": null,
   "metadata": {
    "collapsed": false
   },
   "outputs": [],
   "source": [
    "# if input is an iterable, it must fall in the range [0,256)\n",
    "b_array = bytearray([1,2,254,255])\n",
    "b_array[3]        # return 255\n",
    "b_array[3] = 0    # assign 0 to the 4th element of the bytearray\n",
    "b_array[3]        # return 0\n",
    "\n",
    "# if input is string, it requires encoding\n",
    "b_array = bytearray('abcd', encoding='utf-8')\n",
    "b_array[0]    # return 97"
   ]
  },
  {
   "cell_type": "markdown",
   "metadata": {},
   "source": [
    "**`bytes(iterable)`**: return an immutable bytes object"
   ]
  },
  {
   "cell_type": "code",
   "execution_count": null,
   "metadata": {
    "collapsed": false
   },
   "outputs": [],
   "source": [
    "# similar to bytearray(), except it returns an immutable object\n",
    "bt = bytes([1,2,254,255])\n",
    "bt           # return b'\\x01\\x02\\xfe\\xff'\n",
    "bt[3] = 0    # raise error because bytes is immutable and does not support assignment\n",
    "\n",
    "# if input is string, it requires encoding\n",
    "bt = bytes('abc', encoding='utf-8')\n",
    "bt       # return b'abc'\n",
    "bt[0]    # return 97"
   ]
  },
  {
   "cell_type": "markdown",
   "metadata": {},
   "source": [
    "**`bool(object)`**: return a boolean value"
   ]
  },
  {
   "cell_type": "code",
   "execution_count": null,
   "metadata": {
    "collapsed": true
   },
   "outputs": [],
   "source": [
    "bool(0)       # return False\n",
    "bool(None)    # return False\n",
    "bool([])      # return False\n",
    "bool(-1)      # return True"
   ]
  },
  {
   "cell_type": "markdown",
   "metadata": {},
   "source": [
    "**`callable(object)`**: return True if the object is callable, False if not"
   ]
  },
  {
   "cell_type": "code",
   "execution_count": null,
   "metadata": {
    "collapsed": true
   },
   "outputs": [],
   "source": [
    "def one_plus_one():\n",
    "    return 1 + 1\n",
    "\n",
    "# functions are callable\n",
    "callable(one_plus_one)     # return True\n",
    "callable(min)              # return True\n",
    "\n",
    "# variables are not callable\n",
    "a = 10\n",
    "callable(a)                # return False"
   ]
  },
  {
   "cell_type": "markdown",
   "metadata": {},
   "source": [
    "**`chr(int)`**: return the string representation a character whose Unicode code point is the input integer"
   ]
  },
  {
   "cell_type": "code",
   "execution_count": null,
   "metadata": {
    "collapsed": true
   },
   "outputs": [],
   "source": [
    "# convert int to char\n",
    "chr(97)       # return 'a'"
   ]
  },
  {
   "cell_type": "markdown",
   "metadata": {},
   "source": [
    "**`ord(char)`**: return the Unicode code point of a character"
   ]
  },
  {
   "cell_type": "code",
   "execution_count": null,
   "metadata": {
    "collapsed": true
   },
   "outputs": [],
   "source": [
    "# convert char to int\n",
    "ord('a')      # return 97"
   ]
  },
  {
   "cell_type": "markdown",
   "metadata": {},
   "source": [
    "**`int(str[, base=10])`**: convert a string to integer\n",
    "\n",
    "**`int(float)`**: convert a floating-point number to integer"
   ]
  },
  {
   "cell_type": "code",
   "execution_count": null,
   "metadata": {
    "collapsed": true
   },
   "outputs": [],
   "source": [
    "int('10')      # return 10\n",
    "int(2.7)       # return 2\n",
    "\n",
    "# if input is string, an optional argument base can be specified\n",
    "# convert a binary to integer\n",
    "int('10', 2)   # return 2\n",
    "# convert an octal to integer\n",
    "int('10', 8)   # return 8\n",
    "# convert a hexadecimal to integer\n",
    "int('10', 16)  # return 16"
   ]
  },
  {
   "cell_type": "markdown",
   "metadata": {},
   "source": [
    "**`float(str)`**: convert a string to a floating-point number\n",
    "\n",
    "**`float(int)`**: convert an integer to a floating-point number"
   ]
  },
  {
   "cell_type": "code",
   "execution_count": null,
   "metadata": {
    "collapsed": true
   },
   "outputs": [],
   "source": [
    "float('12.3')      # return 12.3\n",
    "float(12)          # return 12.0"
   ]
  },
  {
   "cell_type": "markdown",
   "metadata": {},
   "source": [
    "**`complex(re, im)`**: construct a complex number given real and imaginary parts as integers"
   ]
  },
  {
   "cell_type": "code",
   "execution_count": null,
   "metadata": {
    "collapsed": true
   },
   "outputs": [],
   "source": [
    "# the first integer is the real part, the second the imaginary part\n",
    "complex(1,2)    # return (1+2j)"
   ]
  },
  {
   "cell_type": "markdown",
   "metadata": {},
   "source": [
    "**`str()`**: convert an object to a string"
   ]
  },
  {
   "cell_type": "code",
   "execution_count": null,
   "metadata": {
    "collapsed": true
   },
   "outputs": [],
   "source": [
    "str(123)    # return '123'"
   ]
  },
  {
   "cell_type": "markdown",
   "metadata": {
    "collapsed": true
   },
   "source": [
    "**`dir()`**: return a list of valid attributes of an object"
   ]
  },
  {
   "cell_type": "code",
   "execution_count": null,
   "metadata": {
    "collapsed": true
   },
   "outputs": [],
   "source": [
    "test_list = list(range(5))\n",
    "dir(test_list)    # return all attribute names"
   ]
  },
  {
   "cell_type": "markdown",
   "metadata": {},
   "source": [
    "**`enumerate(iterable)`**: return an enumerate iterable containing index, value tuples"
   ]
  },
  {
   "cell_type": "code",
   "execution_count": null,
   "metadata": {
    "collapsed": true
   },
   "outputs": [],
   "source": [
    "enum_iter = enumerate(range(3))\n",
    "list(enum_iter)      # return [(0, 0), (1, 1), (2, 2)]\n",
    "\n",
    "# pass a second argument (index start number)\n",
    "enum_iter = enumerate(range(3), 100)\n",
    "list(enum_iter)      # return [(100, 0), (101, 1), (102, 2)]"
   ]
  },
  {
   "cell_type": "markdown",
   "metadata": {},
   "source": [
    "**`id(object)`**: return a unique identifier of an object (the address of the object in memory)"
   ]
  },
  {
   "cell_type": "code",
   "execution_count": null,
   "metadata": {
    "collapsed": true
   },
   "outputs": [],
   "source": [
    "nums = [1, 2, 3]\n",
    "nums1 = nums\n",
    "id(nums)     # return a long integer representing the address of the object in memory\n",
    "id(nums1)    # return the same integer"
   ]
  },
  {
   "cell_type": "markdown",
   "metadata": {},
   "source": [
    "**`isinstance(object,class)`**: return True if an object is an instance of a class"
   ]
  },
  {
   "cell_type": "code",
   "execution_count": null,
   "metadata": {
    "collapsed": true
   },
   "outputs": [],
   "source": [
    "isinstance(list, object)        # return True\n",
    "isinstance((1,2,3), list)       # return False"
   ]
  },
  {
   "cell_type": "markdown",
   "metadata": {},
   "source": [
    "**`issubclass(subclass,class)`**: return True if a class is a subclass of another class"
   ]
  },
  {
   "cell_type": "code",
   "execution_count": null,
   "metadata": {
    "collapsed": true
   },
   "outputs": [],
   "source": [
    "issubclass(list, object)        # return True\n",
    "issubclass(tuple, list)         # return False"
   ]
  },
  {
   "cell_type": "markdown",
   "metadata": {},
   "source": [
    "**`iter(object)`**: return an iterator object"
   ]
  },
  {
   "cell_type": "code",
   "execution_count": null,
   "metadata": {
    "collapsed": true
   },
   "outputs": [],
   "source": [
    "it = iter(range(10))\n",
    "it    # return a range iterator\n",
    "it = iter(set(range(10)))\n",
    "it    # return a set iterator"
   ]
  },
  {
   "cell_type": "markdown",
   "metadata": {},
   "source": [
    "**`len(object)`**: return length of an object"
   ]
  },
  {
   "cell_type": "code",
   "execution_count": null,
   "metadata": {
    "collapsed": true
   },
   "outputs": [],
   "source": [
    "s = 'abc123'\n",
    "len(s)    # return 6\n",
    "\n",
    "l = list(range(10))\n",
    "len(l)    # return 10"
   ]
  },
  {
   "cell_type": "markdown",
   "metadata": {},
   "source": [
    "**`list(iterable)`**, **`tuple(iterable)`**, **`set(iterable)`**, **`frozenset(iterable)`**, **`dict(object)`**: sequence data constructors"
   ]
  },
  {
   "cell_type": "code",
   "execution_count": null,
   "metadata": {
    "collapsed": true,
    "scrolled": true
   },
   "outputs": [],
   "source": [
    "# initialize an empty object\n",
    "test_list = list()\n",
    "test_tuple = tuple()\n",
    "test_set = set()\n",
    "test_frozenset = frozenset()\n",
    "test_dict = {}\n",
    "\n",
    "# initialize a sequence given an iterable\n",
    "test_list = list(range(10))\n",
    "test_list          # return [0, 1, 2, 3, 4, 5, 6, 7, 8, 9]\n",
    "test_tuple = tuple(range(10))\n",
    "test_tuple         # return (0, 1, 2, 3, 4, 5, 6, 7, 8, 9)\n",
    "test_set = set(range(10))\n",
    "test_set           # return {0, 1, 2, 3, 4, 5, 6, 7, 8, 9}\n",
    "test_frozenset = frozenset(range(10))\n",
    "test_frozenset     # return frozenset({0, 1, 2, 3, 4, 5, 6, 7, 8, 9})"
   ]
  },
  {
   "cell_type": "markdown",
   "metadata": {},
   "source": [
    "**`range(stop)`**, **`range(start, stop[, stride])`**: return a range object (iterable)"
   ]
  },
  {
   "cell_type": "code",
   "execution_count": null,
   "metadata": {
    "collapsed": true
   },
   "outputs": [],
   "source": [
    "rg = range(10)          # rg is a range object\n",
    "list(rg)                # return [0, 1, 2, 3, 4, 5, 6, 7, 8, 9]\n",
    "\n",
    "rg = range(0, 10, 2)    # rg is a range object\n",
    "list(rg)                # [0, 2, 4, 6, 8]"
   ]
  },
  {
   "cell_type": "markdown",
   "metadata": {},
   "source": [
    "**`slice(stop)`**, **`slice(start, stop[, stride])`**: return a slice object representing the set of indices specified by range(start, stop, step)"
   ]
  },
  {
   "cell_type": "code",
   "execution_count": null,
   "metadata": {
    "collapsed": true
   },
   "outputs": [],
   "source": [
    "s = slice(10)\n",
    "s               # return slice(None, 10, None)\n",
    "\n",
    "s = slice(0, 10, 2)\n",
    "s               # return slice(0, 10, 2)\n",
    "test_list = list(range(10))\n",
    "test_list[s]    # return [0, 2, 4, 6, 8]"
   ]
  },
  {
   "cell_type": "markdown",
   "metadata": {},
   "source": [
    "**`reversed(seq)`**: return a reverse iterator"
   ]
  },
  {
   "cell_type": "code",
   "execution_count": null,
   "metadata": {
    "collapsed": true
   },
   "outputs": [],
   "source": [
    "rev = reversed(range(10))\n",
    "list(rev)    # return [9, 8, 7, 6, 5, 4, 3, 2, 1, 0]"
   ]
  },
  {
   "cell_type": "markdown",
   "metadata": {},
   "source": [
    "**`sorted(iterable, key=None, reverse=False)`**: return a new sorted list from the items in iterable"
   ]
  },
  {
   "cell_type": "code",
   "execution_count": null,
   "metadata": {
    "collapsed": true
   },
   "outputs": [],
   "source": [
    "rev = sorted(range(10), reverse=True)\n",
    "rev    # return [9, 8, 7, 6, 5, 4, 3, 2, 1, 0]\n",
    "\n",
    "# 2 keyword arguments: key, reverse\n",
    "test_list = ['abcde', 'dc', 'def', 'ghik']\n",
    "sorted_list = sorted(test_list)\n",
    "sorted_list    # return ['abcde', 'dc', 'def', 'ghik']\n",
    "sorted_list = sorted(test_list, key=len)\n",
    "sorted_list    # return ['dc', 'def', 'ghik', 'abcde']\n",
    "sorted_list = sorted(test_list, key=len, reverse=True)\n",
    "sorted_list    # return ['abcde', 'ghik', 'def', 'dc']"
   ]
  },
  {
   "cell_type": "markdown",
   "metadata": {},
   "source": [
    "**`next(iterator[, default])`**: Retrieve the next item from the iterator. If default is given, it is returned if the iterator is exhausted, otherwise StopIteration is raised"
   ]
  },
  {
   "cell_type": "code",
   "execution_count": null,
   "metadata": {
    "collapsed": true
   },
   "outputs": [],
   "source": [
    "it = iter(range(3))\n",
    "next(it)    # return 0\n",
    "next(it)    # return 1\n",
    "next(it)    # return 2\n",
    "next(it)    # raise StopIteration error\n",
    "\n",
    "it = iter(range(3))\n",
    "next(it)                       # return 0\n",
    "next(it)                       # return 1\n",
    "next(it)                       # return 2\n",
    "next(it, 'END OF ITERATOR')    # return 'END OF ITERATOR'"
   ]
  }
 ],
 "metadata": {
  "anaconda-cloud": {},
  "kernelspec": {
   "display_name": "Python [conda env:py36]",
   "language": "python",
   "name": "conda-env-py36-py"
  },
  "language_info": {
   "codemirror_mode": {
    "name": "ipython",
    "version": 3
   },
   "file_extension": ".py",
   "mimetype": "text/x-python",
   "name": "python",
   "nbconvert_exporter": "python",
   "pygments_lexer": "ipython3",
   "version": "3.6.3"
  }
 },
 "nbformat": 4,
 "nbformat_minor": 2
}
