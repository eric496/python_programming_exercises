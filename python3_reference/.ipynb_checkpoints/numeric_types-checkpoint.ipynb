{
 "cells": [
  {
   "cell_type": "markdown",
   "metadata": {},
   "source": [
    "**`int(s[, base=10])`**: convert a string to integer\n",
    "\n",
    "**`int(f)`**: convert a floating-point number to integer"
   ]
  },
  {
   "cell_type": "code",
   "execution_count": null,
   "metadata": {
    "collapsed": true
   },
   "outputs": [],
   "source": [
    "int('10')      # return 10\n",
    "int(2.7)       # return 2\n",
    "\n",
    "# if input is string, an optional argument base can be specified\n",
    "# convert a binary string to integer\n",
    "int('10', 2)   # return 2\n",
    "# convert an octal string to integer\n",
    "int('10', 8)   # return 8\n",
    "# convert a hexadecimal string to integer\n",
    "int('10', 16)  # return 16"
   ]
  },
  {
   "cell_type": "markdown",
   "metadata": {},
   "source": [
    "**`float(s)`**: convert a string to a floating-point number\n",
    "\n",
    "**`float(i)`**: convert an integer to a floating-point number"
   ]
  },
  {
   "cell_type": "code",
   "execution_count": null,
   "metadata": {
    "collapsed": true
   },
   "outputs": [],
   "source": [
    "float('12.3')      # return 12.3\n",
    "float(12)          # return 12.0"
   ]
  },
  {
   "cell_type": "markdown",
   "metadata": {},
   "source": [
    "**`complex(re, im)`**: construct a complex number given real and imaginary parts as integers"
   ]
  },
  {
   "cell_type": "code",
   "execution_count": null,
   "metadata": {
    "collapsed": true
   },
   "outputs": [],
   "source": [
    "# the first integer is the real part, the second the imaginary part\n",
    "complex(1,2)    # return (1+2j)"
   ]
  },
  {
   "cell_type": "markdown",
   "metadata": {},
   "source": [
    "**`complex.conjugate(c)`**: return conjugate of a complex number"
   ]
  },
  {
   "cell_type": "code",
   "execution_count": null,
   "metadata": {
    "collapsed": true
   },
   "outputs": [],
   "source": [
    "c = complex(1, 2)\n",
    "complex.conjugate(c)    # return (1-2j)\n",
    "# instance method\n",
    "c.conjugate()           # return (1-2j)"
   ]
  },
  {
   "cell_type": "markdown",
   "metadata": {},
   "source": [
    "**`x // y`**: return integer part of `x` divided by `y` (floor division)"
   ]
  },
  {
   "cell_type": "code",
   "execution_count": null,
   "metadata": {
    "collapsed": true
   },
   "outputs": [],
   "source": [
    "# The result is always rounded towards minus infinity\n",
    "1 // 2          # return 0\n",
    "(-1) // 2       # return -1\n",
    "1 // (-2)       # return -1\n",
    "(-1) // (-2)    # return 0"
   ]
  },
  {
   "cell_type": "markdown",
   "metadata": {},
   "source": [
    "**`x % y`**: return the remainder of `x` divided by `y` (modulo)"
   ]
  },
  {
   "cell_type": "code",
   "execution_count": null,
   "metadata": {
    "collapsed": true
   },
   "outputs": [],
   "source": [
    "10 % 2   # return 0\n",
    "10 % 3   # return 1\n",
    "10 % 4   # return 2\n",
    "2.3 % 2  # return 0.2999999999999998"
   ]
  },
  {
   "cell_type": "markdown",
   "metadata": {},
   "source": [
    "**`divmod(x, y)`**: return tuple (`x//y`, `x%y`)"
   ]
  },
  {
   "cell_type": "code",
   "execution_count": null,
   "metadata": {
    "collapsed": true
   },
   "outputs": [],
   "source": [
    "divmod(10, 3)    # return (3, 1)\n",
    "divmod(2.3, 2)   # return (1.0, 0.2999999999999998)"
   ]
  },
  {
   "cell_type": "markdown",
   "metadata": {},
   "source": [
    "**`pow(x, y[, z])`**: return `x` to the power of `y` modulo `z`"
   ]
  },
  {
   "cell_type": "code",
   "execution_count": null,
   "metadata": {
    "collapsed": true
   },
   "outputs": [],
   "source": [
    "# same as x ** y\n",
    "pow(2, 3)       # return 8\n",
    "2 ** 3          # return 8\n",
    "pow(0, 0)       # return 1\n",
    "0 ** 0          # return 1\n",
    "\n",
    "pow(2, 3, 3)    # return 2\n",
    "pow(2, 3, 2)    # return 0"
   ]
  },
  {
   "cell_type": "markdown",
   "metadata": {},
   "source": [
    "**`round(f[, n])`**: return number rounded to *n* digits precision after the decimal point"
   ]
  },
  {
   "cell_type": "code",
   "execution_count": null,
   "metadata": {
    "collapsed": true
   },
   "outputs": [],
   "source": [
    "round(123.87)        # return 124 (integer)\n",
    "round(123.87, 1)     # return 123.9\n",
    "# second argument can be a negative number\n",
    "round(123.87, -1)    # return 120.0 (float)\n",
    "round(123.87, -2)    # return 100.0 (float)"
   ]
  },
  {
   "cell_type": "markdown",
   "metadata": {},
   "source": [
    "**`int.bit_length(i)`**: return bit length of an integer"
   ]
  },
  {
   "cell_type": "code",
   "execution_count": null,
   "metadata": {
    "collapsed": true
   },
   "outputs": [],
   "source": [
    "x = 100\n",
    "bin(100)               # return '0b1100100'\n",
    "int.bit_length(100)    # return 7\n",
    "# instance method\n",
    "x.bit_length()         # return 7"
   ]
  },
  {
   "cell_type": "markdown",
   "metadata": {},
   "source": [
    "**`float.as_integer_ratio()`**: return a tuple which is the fraction form of the float with positive denominator"
   ]
  },
  {
   "cell_type": "code",
   "execution_count": null,
   "metadata": {
    "collapsed": true
   },
   "outputs": [],
   "source": [
    "f = -1.67\n",
    "float.as_integer_ratio(f)    # return (-940126422213591, 562949953421312)\n",
    "# instance method\n",
    "f.as_integer_ratio()         # return (-940126422213591, 562949953421312)"
   ]
  },
  {
   "cell_type": "markdown",
   "metadata": {},
   "source": [
    "**`float.is_integer()`**: return `True` if the float is finite with integral value, else `False`"
   ]
  },
  {
   "cell_type": "code",
   "execution_count": null,
   "metadata": {
    "collapsed": true
   },
   "outputs": [],
   "source": [
    "f = -3.0\n",
    "float.is_integer(f)    # return True\n",
    "# instance method\n",
    "f.is_integer()         # return True\n",
    "\n",
    "f = 2.5\n",
    "float.is_integer(f)    # return False\n",
    "# instance method\n",
    "f.is_integer()         # return False"
   ]
  }
 ],
 "metadata": {
  "anaconda-cloud": {},
  "kernelspec": {
   "display_name": "Python 3",
   "language": "python",
   "name": "python3"
  },
  "language_info": {
   "codemirror_mode": {
    "name": "ipython",
    "version": 3
   },
   "file_extension": ".py",
   "mimetype": "text/x-python",
   "name": "python",
   "nbconvert_exporter": "python",
   "pygments_lexer": "ipython3",
   "version": "3.6.3"
  }
 },
 "nbformat": 4,
 "nbformat_minor": 1
}
