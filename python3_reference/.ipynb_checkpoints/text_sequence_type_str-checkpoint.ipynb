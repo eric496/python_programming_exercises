{
 "cells": [
  {
   "cell_type": "markdown",
   "metadata": {},
   "source": [
    "String is an immutable sequence data structure. There are multiple ways to create a string literal:\n",
    "\n",
    "1. single quotes: **`'allow embedded \"double\" quotes'`**\n",
    "2. double quotes: **`\"allow embedded 'single' quotes\"`**\n",
    "3. triple quotes: **`'''single triple quotes'''`** or **`\"\"\"double triple quotes\"\"\"`**\n",
    "\n",
    "Note: \n",
    "1. Triple quoted strings can span multiple lines with all spaces and line breaks included in the string literal\n",
    "2. String literals inside a `()` will be considered one concatenated string with spaces ignored. For example, **`('abc '    'def')`** returns **`'abc def'`**\n",
    "3. String literals with prefix **`r`** returns raw strings which disables escape processing. For example, **`r'\\s\\t\\n'`** returns **`'\\\\s\\\\t\\\\n'`**\n",
    "4. String literals with prefix **`f`** returns formatted string literals. For example, **`name = 'eric'; f'My name is {name}.'`** returns **`'My name is eric.'`**"
   ]
  },
  {
   "cell_type": "markdown",
   "metadata": {},
   "source": [
    "**`str(object)`**: convert an object to string"
   ]
  },
  {
   "cell_type": "code",
   "execution_count": null,
   "metadata": {},
   "outputs": [],
   "source": [
    "str(123)    # return '123'"
   ]
  },
  {
   "cell_type": "markdown",
   "metadata": {},
   "source": [
    "### String Methods (All are both class method and instance method)"
   ]
  },
  {
   "cell_type": "markdown",
   "metadata": {},
   "source": [
    "**`str.capitalize()`**: return a copy of the string with its first character capitalized"
   ]
  },
  {
   "cell_type": "code",
   "execution_count": null,
   "metadata": {},
   "outputs": [],
   "source": [
    "s = 'hello world from eric'\n",
    "str.capitalize(s)    # return 'Hello world from eric'\n",
    "s.capitalize()       # return 'Hello world from eric'"
   ]
  },
  {
   "cell_type": "markdown",
   "metadata": {},
   "source": [
    "**`str.title()`**: return a copy of the string where words start with an uppercase character and the remaining characters are lowercase"
   ]
  },
  {
   "cell_type": "code",
   "execution_count": null,
   "metadata": {},
   "outputs": [],
   "source": [
    "s = 'hello world from eric'\n",
    "str.title(s)    # return 'Hello World From Eric'\n",
    "s.title()       # return 'Hello World From Eric'"
   ]
  },
  {
   "cell_type": "markdown",
   "metadata": {},
   "source": [
    "**`str.lower()`**: return a copy of the string with all cased characters converted to lowercase "
   ]
  },
  {
   "cell_type": "code",
   "execution_count": null,
   "metadata": {},
   "outputs": [],
   "source": [
    "s = 'HELLO WORLD FROM ERIC'\n",
    "str.lower(s)    # return 'hello world from eric'\n",
    "s.lower()       # return 'hello world from eric'"
   ]
  },
  {
   "cell_type": "markdown",
   "metadata": {},
   "source": [
    "**`str.upper()`**: return a copy of the string with all cased characters converted to uppercase "
   ]
  },
  {
   "cell_type": "code",
   "execution_count": null,
   "metadata": {},
   "outputs": [],
   "source": [
    "s = 'hello world from eric'\n",
    "str.upper(s)    # return 'HELLO WORLD FROM ERIC'\n",
    "s.upper()       # return 'HELLO WORLD FROM ERIC'"
   ]
  },
  {
   "cell_type": "markdown",
   "metadata": {},
   "source": [
    "**`str.casefold()`**: return a copy of the string with all characters lowercased"
   ]
  },
  {
   "cell_type": "code",
   "execution_count": null,
   "metadata": {},
   "outputs": [],
   "source": [
    "s = 'HELLO wOrld fRom eriC'\n",
    "str.casefold(s)    # return 'hello world from eric'\n",
    "s.casefold()       # return 'hello world from eric'"
   ]
  },
  {
   "cell_type": "markdown",
   "metadata": {},
   "source": [
    "**`str.swapcase()`**: return a copy of the string with uppercase characters converted to lowercase and vice versa"
   ]
  },
  {
   "cell_type": "code",
   "execution_count": null,
   "metadata": {},
   "outputs": [],
   "source": [
    "s = 'Hello World From Eric'\n",
    "str.swapcase(s)    # return 'hELLO wORLD fROM eRIC'\n",
    "s.swapcase()       # return 'hELLO wORLD fROM eRIC'"
   ]
  },
  {
   "cell_type": "markdown",
   "metadata": {},
   "source": [
    "**`str.count(sub[, start[, end]])`**: return the number of non-overlapping occurences of substring *sub* in the range [*start*, *end*)"
   ]
  },
  {
   "cell_type": "code",
   "execution_count": null,
   "metadata": {},
   "outputs": [],
   "source": [
    "s = 'hello world from eric'\n",
    "str.count(s, 'o')    # return 3\n",
    "s.count('o')         # return 3"
   ]
  },
  {
   "cell_type": "markdown",
   "metadata": {},
   "source": [
    "**`str.startswith(prefix[, start[, end]])`**: return `True` if the string starts with the specified prefix, else return `False`"
   ]
  },
  {
   "cell_type": "code",
   "execution_count": null,
   "metadata": {},
   "outputs": [],
   "source": [
    "s = 'hello world from eric'\n",
    "str.startswith(s, 'he')    # return True\n",
    "s.startswith('he')         # return True"
   ]
  },
  {
   "cell_type": "markdown",
   "metadata": {},
   "source": [
    "**`str.endswith(suffix[, start[, end]])`**: return `True` if the string ends with the specified prefix, else return `False`"
   ]
  },
  {
   "cell_type": "code",
   "execution_count": null,
   "metadata": {},
   "outputs": [],
   "source": [
    "s = 'hello world from eric'\n",
    "str.endswith(s, 'ric')    # return True\n",
    "s.endswith('ric')         # return True"
   ]
  },
  {
   "cell_type": "markdown",
   "metadata": {},
   "source": [
    "**`str.expandtabs(tabsize=8)`**: return a copy of the string where all tabs are replaced with specified number of spaces"
   ]
  },
  {
   "cell_type": "code",
   "execution_count": null,
   "metadata": {},
   "outputs": [],
   "source": [
    "s = 'hello\\tworld\\t'\n",
    "str.expandtabs(s, 4)    # return 'hello   world   '\n",
    "s.expandtabs(4)         # return 'hello   world   '"
   ]
  },
  {
   "cell_type": "markdown",
   "metadata": {},
   "source": [
    "**`str.index(sub[, start[, end]])`**: return the first index of the first found substring *sub* from the string in the index range [*start*, *end*), return `ValueError` if *sub* is not found"
   ]
  },
  {
   "cell_type": "code",
   "execution_count": null,
   "metadata": {},
   "outputs": [],
   "source": [
    "s = 'hello world from eric'\n",
    "str.index(s, 'fro')    # return 12\n",
    "s.index('fro')         # return 12\n",
    "s.index('for')         # return ValueError"
   ]
  },
  {
   "cell_type": "markdown",
   "metadata": {},
   "source": [
    "**`str.rindex(sub[, start[, end]])`**: return the first index of the first found substring *sub* from the string in the index range [*start*, *end*), return `ValueError` if *sub* is not found, **search starting from the right end of the string**"
   ]
  },
  {
   "cell_type": "code",
   "execution_count": null,
   "metadata": {},
   "outputs": [],
   "source": [
    "s = 'hello world from eric'\n",
    "str.rindex(s, 'o')     # return 14\n",
    "s.rindex('o')          # return 14\n",
    "s.rindex('z')          # return ValueError"
   ]
  },
  {
   "cell_type": "markdown",
   "metadata": {},
   "source": [
    "**`str.find(sub[, start[, end]])`**: return the first index of the first found substring *sub* from the string in the index range [*start*, *end*), return `-1` if *sub* is not found"
   ]
  },
  {
   "cell_type": "code",
   "execution_count": null,
   "metadata": {},
   "outputs": [],
   "source": [
    "s = 'hello world from eric'\n",
    "str.find(s, 'fro')    # return 12\n",
    "s.find('fro')         # return 12\n",
    "s.find('for')         # return -1"
   ]
  },
  {
   "cell_type": "markdown",
   "metadata": {},
   "source": [
    "**`str.rfind(sub[, start[, end]])`**: return the first index of the first found substring *sub* from the string in the index range [*start*, *end*), return `-1` if *sub* is not found, **search starting from the right end of the string**"
   ]
  },
  {
   "cell_type": "code",
   "execution_count": null,
   "metadata": {},
   "outputs": [],
   "source": [
    "s = 'hello world hello'\n",
    "str.rfind(s, 'llo')    # return 14\n",
    "s.rfind('llo')         # return 14"
   ]
  },
  {
   "cell_type": "markdown",
   "metadata": {},
   "source": [
    "**`str.isalnum()`**: return `True` if all characters in the string are alphanumeric, else `False`"
   ]
  },
  {
   "cell_type": "code",
   "execution_count": null,
   "metadata": {},
   "outputs": [],
   "source": [
    "s = '123abc'\n",
    "str.isalnum(s)    # return True\n",
    "s.isalnum()       # return True"
   ]
  },
  {
   "cell_type": "markdown",
   "metadata": {},
   "source": [
    "**`str.isalpha()`**: return `True` if all characters in the string are alphabetic, else `False`"
   ]
  },
  {
   "cell_type": "code",
   "execution_count": null,
   "metadata": {},
   "outputs": [],
   "source": [
    "s = '123abc'\n",
    "str.isalpha(s)    # return False\n",
    "s = 'abc'\n",
    "s.isalpha()       # return True"
   ]
  },
  {
   "cell_type": "markdown",
   "metadata": {},
   "source": [
    "**`str.isdecimal()`**: return `True` if all characters in the string are decimal characters, else `False`"
   ]
  },
  {
   "cell_type": "code",
   "execution_count": null,
   "metadata": {},
   "outputs": [],
   "source": [
    "s = '1.2'\n",
    "str.isdecimal(s)    # return False\n",
    "s = '123'\n",
    "s.isdecimal()       # return True"
   ]
  },
  {
   "cell_type": "markdown",
   "metadata": {},
   "source": [
    "**`str.isdigit()`**: return `True` if all characters in the string are digits, else `False`"
   ]
  },
  {
   "cell_type": "code",
   "execution_count": null,
   "metadata": {},
   "outputs": [],
   "source": [
    "s = '123'\n",
    "str.isdigit(s)    # return True\n",
    "s.isdigit()       # return True"
   ]
  },
  {
   "cell_type": "markdown",
   "metadata": {},
   "source": [
    "**`str.isnumeric()`**: return `True` if all characters in the string are numeric characters, else `False`"
   ]
  },
  {
   "cell_type": "code",
   "execution_count": null,
   "metadata": {},
   "outputs": [],
   "source": [
    "s = '123'\n",
    "str.isnumeric(s)    # return True\n",
    "s.isnumeric()       # return True"
   ]
  },
  {
   "cell_type": "markdown",
   "metadata": {},
   "source": [
    "**`str.isspace()`**: return `True` if all characters in the string are spaces, else `False`"
   ]
  },
  {
   "cell_type": "code",
   "execution_count": null,
   "metadata": {},
   "outputs": [],
   "source": [
    "s = '    '\n",
    "str.isspace(s)    # return True\n",
    "s.isspace()       # return True"
   ]
  },
  {
   "cell_type": "markdown",
   "metadata": {},
   "source": [
    "**`str.islower()`**: return `True` if all cased characters in the string are lowercase and there is at least one cased character, else `False`"
   ]
  },
  {
   "cell_type": "code",
   "execution_count": null,
   "metadata": {},
   "outputs": [],
   "source": [
    "s = '123abc'\n",
    "str.islower(s)    # return True\n",
    "s.islower()       # return True\n",
    "\n",
    "s = '123'\n",
    "s.islower()       # return False"
   ]
  },
  {
   "cell_type": "markdown",
   "metadata": {},
   "source": [
    "**`str.isupper()`**: return `True` if all cased characters in the string are uppercase and there is at least one cased character, else `False`"
   ]
  },
  {
   "cell_type": "code",
   "execution_count": null,
   "metadata": {},
   "outputs": [],
   "source": [
    "s = '123ABC'\n",
    "str.isupper(s)    # return True\n",
    "s.isupper()       # return True\n",
    "\n",
    "s = '123'\n",
    "s.isupper()       # return False"
   ]
  },
  {
   "cell_type": "markdown",
   "metadata": {},
   "source": [
    "**`str.istitle()`**: return `True` if the string is a titlecased string where words start with an uppercase character and the remaining characters are lowercase, else `False`"
   ]
  },
  {
   "cell_type": "code",
   "execution_count": null,
   "metadata": {},
   "outputs": [],
   "source": [
    "s = 'Hello World From Eric'\n",
    "str.istitle(s)    # return True\n",
    "s.istitle()       # return True"
   ]
  },
  {
   "cell_type": "markdown",
   "metadata": {},
   "source": [
    "**`str.strip([chars])`**: return a copy of the string with leading and trailing characters (default is spaces) removed "
   ]
  },
  {
   "cell_type": "code",
   "execution_count": null,
   "metadata": {},
   "outputs": [],
   "source": [
    "s = '   abc   '\n",
    "str.strip(s)    # return 'abc'\n",
    "s.strip()       # return 'abc'\n",
    "\n",
    "s = 'abc123abcabc'\n",
    "str.strip(s, 'abc')    # return '123'\n",
    "s.strip('abc')         # return '123'"
   ]
  },
  {
   "cell_type": "markdown",
   "metadata": {},
   "source": [
    "**`str.zfill(width)`**: return a copy of the string filled with ASCII `0` to make a string of length *width*"
   ]
  },
  {
   "cell_type": "code",
   "execution_count": null,
   "metadata": {},
   "outputs": [],
   "source": [
    "s = '123'\n",
    "str.zfill(s, 10)    # return '0000000123'\n",
    "s.zfill(10)         # return '0000000123'"
   ]
  }
 ],
 "metadata": {
  "kernelspec": {
   "display_name": "Python 3",
   "language": "python",
   "name": "python3"
  },
  "language_info": {
   "codemirror_mode": {
    "name": "ipython",
    "version": 3
   },
   "file_extension": ".py",
   "mimetype": "text/x-python",
   "name": "python",
   "nbconvert_exporter": "python",
   "pygments_lexer": "ipython3",
   "version": "3.6.3"
  }
 },
 "nbformat": 4,
 "nbformat_minor": 2
}
