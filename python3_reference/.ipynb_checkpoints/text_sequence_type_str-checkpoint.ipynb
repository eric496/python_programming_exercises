{
 "cells": [
  {
   "cell_type": "markdown",
   "metadata": {},
   "source": [
    "String is an immutable sequence data structure. There are multiple ways to create a string literal:\n",
    "\n",
    "1. single quotes: **`'allow embedded \"double\" quotes'`**\n",
    "2. double quotes: **`\"allow embedded 'single' quotes\"`**\n",
    "3. triple quotes: **`'''single triple quotes'''`** or **`\"\"\"double triple quotes\"\"\"`**\n",
    "\n",
    "Note: \n",
    "\n",
    "1. Triple quoted strings can span multiple lines with all spaces and line breaks included in the string literal\n",
    "\n",
    "2. String literals inside a `()` will be considered one concatenated string with spaces ignored. \n",
    "   \n",
    "   For example, **`('abc '    'def')`** returns **`'abc def'`**\n",
    "\n",
    "3. String literals with prefix **`r`** returns raw strings which disables escape processing. \n",
    "    \n",
    "   For example, **`r'\\s\\t\\n'`** returns **`'\\\\s\\\\t\\\\n'`**\n",
    "\n",
    "4. String literals with prefix **`f`** returns formatted string literals. \n",
    "    \n",
    "   For example, **`name = 'eric'; f'My name is {name}.'`** returns **`'My name is eric.'`**"
   ]
  },
  {
   "cell_type": "markdown",
   "metadata": {},
   "source": [
    "**_Most of the following string methods are both static methods as well as instance methods, so code examples of both methods are given_** "
   ]
  },
  {
   "cell_type": "markdown",
   "metadata": {},
   "source": [
    "### Searching and Replacing Methods"
   ]
  },
  {
   "cell_type": "markdown",
   "metadata": {},
   "source": [
    "**`str.find(sub[, start[, end]])`**: return the first index of the first found substring *sub* from the string in the index range [*start*, *end*), return `-1` if *sub* is not found"
   ]
  },
  {
   "cell_type": "code",
   "execution_count": null,
   "metadata": {
    "collapsed": true
   },
   "outputs": [],
   "source": [
    "s = 'hello world from eric'\n",
    "str.find(s, 'fro')    # return 12\n",
    "s.find('fro')         # return 12\n",
    "s.find('for')         # return -1"
   ]
  },
  {
   "cell_type": "markdown",
   "metadata": {},
   "source": [
    "**`str.rfind(sub[, start[, end]])`**: return the first index of the first found substring *sub* from the string in the index range [*start*, *end*), return `-1` if *sub* is not found, **search starting from the right end of the string**"
   ]
  },
  {
   "cell_type": "code",
   "execution_count": null,
   "metadata": {
    "collapsed": true
   },
   "outputs": [],
   "source": [
    "s = 'hello world hello'\n",
    "str.rfind(s, 'llo')    # return 14\n",
    "s.rfind('llo')         # return 14"
   ]
  },
  {
   "cell_type": "markdown",
   "metadata": {},
   "source": [
    "**`str.index(sub[, start[, end]])`**: return the first index of the first found substring *sub* from the string in the index range [*start*, *end*), return `ValueError` if *sub* is not found"
   ]
  },
  {
   "cell_type": "code",
   "execution_count": null,
   "metadata": {
    "collapsed": true
   },
   "outputs": [],
   "source": [
    "s = 'hello world from eric'\n",
    "str.index(s, 'fro')    # return 12\n",
    "s.index('fro')         # return 12\n",
    "s.index('for')         # return ValueError"
   ]
  },
  {
   "cell_type": "markdown",
   "metadata": {},
   "source": [
    "**`str.rindex(sub[, start[, end]])`**: return the first index of the first found substring *sub* from the string in the index range [*start*, *end*), return `ValueError` if *sub* is not found, **search starting from the right end of the string**"
   ]
  },
  {
   "cell_type": "code",
   "execution_count": null,
   "metadata": {
    "collapsed": true
   },
   "outputs": [],
   "source": [
    "s = 'hello world from eric'\n",
    "str.rindex(s, 'o')     # return 14\n",
    "s.rindex('o')          # return 14\n",
    "s.rindex('z')          # return ValueError"
   ]
  },
  {
   "cell_type": "markdown",
   "metadata": {},
   "source": [
    "**`str.startswith(prefix[, start[, end]])`**: return `True` if the string starts with the specified prefix, else return `False`"
   ]
  },
  {
   "cell_type": "code",
   "execution_count": null,
   "metadata": {
    "collapsed": true
   },
   "outputs": [],
   "source": [
    "s = 'hello world from eric'\n",
    "str.startswith(s, 'he')    # return True\n",
    "s.startswith('he')         # return True"
   ]
  },
  {
   "cell_type": "markdown",
   "metadata": {},
   "source": [
    "**`str.endswith(suffix[, start[, end]])`**: return `True` if the string ends with the specified prefix, else return `False`"
   ]
  },
  {
   "cell_type": "code",
   "execution_count": null,
   "metadata": {
    "collapsed": true
   },
   "outputs": [],
   "source": [
    "s = 'hello world from eric'\n",
    "str.endswith(s, 'ric')    # return True\n",
    "s.endswith('ric')         # return True"
   ]
  },
  {
   "cell_type": "markdown",
   "metadata": {},
   "source": [
    "**`str.count(sub[, start[, end]])`**: return the number of non-overlapping occurences of substring *sub* in the range [*start*, *end*)"
   ]
  },
  {
   "cell_type": "code",
   "execution_count": null,
   "metadata": {
    "collapsed": true
   },
   "outputs": [],
   "source": [
    "s = 'hello world from eric'\n",
    "str.count(s, 'o')    # return 3\n",
    "s.count('o')         # return 3"
   ]
  },
  {
   "cell_type": "markdown",
   "metadata": {},
   "source": [
    "**`str.replace(old, new[, count])`**: Return a copy of the string with the first *count* occurrences of substring *old* replaced by *new*"
   ]
  },
  {
   "cell_type": "code",
   "execution_count": null,
   "metadata": {
    "collapsed": true
   },
   "outputs": [],
   "source": [
    "s = 'hello world hello'\n",
    "str.replace(s, 'o', 'O', 2)   # return 'hellO wOrld hello'\n",
    "s = 'hello world hello'\n",
    "s.replace('o', 'O')           # return 'hellO wOrld hellO'"
   ]
  },
  {
   "cell_type": "markdown",
   "metadata": {},
   "source": [
    "### Splitting and Joining Methods"
   ]
  },
  {
   "cell_type": "markdown",
   "metadata": {},
   "source": [
    "**`str.join(iterable)`**: return a string which is the concatenation of the iterable"
   ]
  },
  {
   "cell_type": "code",
   "execution_count": null,
   "metadata": {
    "collapsed": true
   },
   "outputs": [],
   "source": [
    "s = 'a', 'b', 'c'\n",
    "sep = '-'\n",
    "str.join(sep, s)    # return 'a-b-c'\n",
    "sep = '$'\n",
    "sep.join(s)         # return 'a$b$c'"
   ]
  },
  {
   "cell_type": "markdown",
   "metadata": {},
   "source": [
    "**`str.split([sep=None[, maxsplit=-1]])`**: return a list of the words in the string, using *sep* as the delimiter string, at most *maxsplit* splits are done. If *sep* is not specified or `None`, then use any white spaces as separator"
   ]
  },
  {
   "cell_type": "code",
   "execution_count": null,
   "metadata": {
    "collapsed": true
   },
   "outputs": [],
   "source": [
    "s = 'a-b-c-d-e'\n",
    "str.split(s, sep='-', maxsplit=3)    # return ['a', 'b', 'c', 'd-e']\n",
    "s.split(sep='-')                     # return ['a', 'b', 'c', 'd', 'e']"
   ]
  },
  {
   "cell_type": "markdown",
   "metadata": {},
   "source": [
    "**`str.rsplit([sep=None[, maxsplit=-1]])`**: return a list of the words in the string, using *sep* as the delimiter string, at most *maxsplit* splits are done, starting from right"
   ]
  },
  {
   "cell_type": "code",
   "execution_count": null,
   "metadata": {
    "collapsed": true
   },
   "outputs": [],
   "source": [
    "s = 'a-b-c-d-e'\n",
    "str.rsplit(s, sep='-', maxsplit=3)    # return ['a-b', 'c', 'd', 'e']\n",
    "s.rsplit(sep='-')                     # return ['a', 'b', 'c', 'd', 'e']"
   ]
  },
  {
   "cell_type": "markdown",
   "metadata": {},
   "source": [
    "**`str.splitlines([keepends=False])`**: return a list of the lines in the string, breaking at line boundaries. Line breaks are not included in the resulting list unless *keepends* is given `True`"
   ]
  },
  {
   "cell_type": "code",
   "execution_count": null,
   "metadata": {
    "collapsed": true
   },
   "outputs": [],
   "source": [
    "'ab c\\n\\nde fg\\rkl\\r\\n'.splitlines()                 # return ['ab c', '', 'de fg', 'kl']\n",
    "'ab c\\n\\nde fg\\rkl\\r\\n'.splitlines(keepends=True)    # return ['ab c\\n', '\\n', 'de fg\\r', 'kl\\r\\n']"
   ]
  },
  {
   "cell_type": "markdown",
   "metadata": {},
   "source": [
    "### Formatting Methods"
   ]
  },
  {
   "cell_type": "markdown",
   "metadata": {},
   "source": [
    "**`str(object)`**: convert an object to string"
   ]
  },
  {
   "cell_type": "code",
   "execution_count": null,
   "metadata": {
    "collapsed": true
   },
   "outputs": [],
   "source": [
    "str(123)     # return '123'\n",
    "str(12.3)    # return '12.3'"
   ]
  },
  {
   "cell_type": "markdown",
   "metadata": {},
   "source": [
    "**`str.format()`**: perform a string formatting operation"
   ]
  },
  {
   "cell_type": "code",
   "execution_count": null,
   "metadata": {
    "collapsed": true
   },
   "outputs": [],
   "source": [
    "'Hello {0}, my name is {1}.'.format('Charlie', 'Eric')         # 'Hello Charlie, my name is Eric.'\n",
    "str.format('Hello {0}, my name is {1}.', 'Charlie', 'Eric')    # 'Hello Charlie, my name is Eric.'"
   ]
  },
  {
   "cell_type": "markdown",
   "metadata": {},
   "source": [
    "**`str.capitalize()`**: return a copy of the string with its first character capitalized"
   ]
  },
  {
   "cell_type": "code",
   "execution_count": null,
   "metadata": {
    "collapsed": true
   },
   "outputs": [],
   "source": [
    "s = 'hello world from eric'\n",
    "str.capitalize(s)    # return 'Hello world from eric'\n",
    "s.capitalize()       # return 'Hello world from eric'"
   ]
  },
  {
   "cell_type": "markdown",
   "metadata": {},
   "source": [
    "**`str.title()`**: return a copy of the string where words start with an uppercase character and the remaining characters are lowercase"
   ]
  },
  {
   "cell_type": "code",
   "execution_count": null,
   "metadata": {
    "collapsed": true
   },
   "outputs": [],
   "source": [
    "s = 'hello world from eric'\n",
    "str.title(s)    # return 'Hello World From Eric'\n",
    "s.title()       # return 'Hello World From Eric'"
   ]
  },
  {
   "cell_type": "markdown",
   "metadata": {},
   "source": [
    "**`str.istitle()`**: return `True` if the string is a titlecased string where words start with an uppercase character and the remaining characters are lowercase, else `False`"
   ]
  },
  {
   "cell_type": "code",
   "execution_count": null,
   "metadata": {
    "collapsed": true
   },
   "outputs": [],
   "source": [
    "s = 'Hello World From Eric'\n",
    "str.istitle(s)    # return True\n",
    "s.istitle()       # return True"
   ]
  },
  {
   "cell_type": "markdown",
   "metadata": {},
   "source": [
    "**`str.casefold()`**: return a copy of the string with all characters lowercased"
   ]
  },
  {
   "cell_type": "code",
   "execution_count": null,
   "metadata": {
    "collapsed": true
   },
   "outputs": [],
   "source": [
    "s = 'HELLO wOrld fRom eriC'\n",
    "str.casefold(s)    # return 'hello world from eric'\n",
    "s.casefold()       # return 'hello world from eric'"
   ]
  },
  {
   "cell_type": "markdown",
   "metadata": {},
   "source": [
    "**`str.lower()`**: return a copy of the string with all cased characters converted to lowercase "
   ]
  },
  {
   "cell_type": "code",
   "execution_count": null,
   "metadata": {
    "collapsed": true
   },
   "outputs": [],
   "source": [
    "s = 'HELLO WORLD FROM ERIC'\n",
    "str.lower(s)    # return 'hello world from eric'\n",
    "s.lower()       # return 'hello world from eric'"
   ]
  },
  {
   "cell_type": "markdown",
   "metadata": {},
   "source": [
    "**`str.islower()`**: return `True` if all cased characters in the string are lowercase and there is at least one cased character, else `False`"
   ]
  },
  {
   "cell_type": "code",
   "execution_count": null,
   "metadata": {
    "collapsed": true
   },
   "outputs": [],
   "source": [
    "s = '123abc'\n",
    "str.islower(s)    # return True\n",
    "s.islower()       # return True\n",
    "\n",
    "s = '123'\n",
    "s.islower()       # return False"
   ]
  },
  {
   "cell_type": "markdown",
   "metadata": {},
   "source": [
    "**`str.upper()`**: return a copy of the string with all cased characters converted to uppercase "
   ]
  },
  {
   "cell_type": "code",
   "execution_count": null,
   "metadata": {
    "collapsed": true
   },
   "outputs": [],
   "source": [
    "s = 'hello world from eric'\n",
    "str.upper(s)    # return 'HELLO WORLD FROM ERIC'\n",
    "s.upper()       # return 'HELLO WORLD FROM ERIC'"
   ]
  },
  {
   "cell_type": "markdown",
   "metadata": {},
   "source": [
    "**`str.isupper()`**: return `True` if all cased characters in the string are uppercase and there is at least one cased character, else `False`"
   ]
  },
  {
   "cell_type": "code",
   "execution_count": null,
   "metadata": {
    "collapsed": true
   },
   "outputs": [],
   "source": [
    "s = '123ABC'\n",
    "str.isupper(s)    # return True\n",
    "s.isupper()       # return True\n",
    "\n",
    "s = '123'\n",
    "s.isupper()       # return False"
   ]
  },
  {
   "cell_type": "markdown",
   "metadata": {},
   "source": [
    "**`str.swapcase()`**: return a copy of the string with uppercase characters converted to lowercase and vice versa"
   ]
  },
  {
   "cell_type": "code",
   "execution_count": null,
   "metadata": {
    "collapsed": true
   },
   "outputs": [],
   "source": [
    "s = 'Hello World From Eric'\n",
    "str.swapcase(s)    # return 'hELLO wORLD fROM eRIC'\n",
    "s.swapcase()       # return 'hELLO wORLD fROM eRIC'"
   ]
  },
  {
   "cell_type": "markdown",
   "metadata": {},
   "source": [
    "**`str.expandtabs(tabsize=8)`**: return a copy of the string where all tabs are replaced with specified number of spaces"
   ]
  },
  {
   "cell_type": "code",
   "execution_count": null,
   "metadata": {
    "collapsed": true
   },
   "outputs": [],
   "source": [
    "s = 'hello\\tworld\\t'\n",
    "str.expandtabs(s, 4)    # return 'hello   world   '\n",
    "s.expandtabs(4)         # return 'hello   world   '"
   ]
  },
  {
   "cell_type": "markdown",
   "metadata": {},
   "source": [
    "**`str.isalnum()`**: return `True` if all characters in the string are alphanumeric, else `False`"
   ]
  },
  {
   "cell_type": "code",
   "execution_count": null,
   "metadata": {
    "collapsed": true
   },
   "outputs": [],
   "source": [
    "s = '123abc'\n",
    "str.isalnum(s)    # return True\n",
    "s.isalnum()       # return True"
   ]
  },
  {
   "cell_type": "markdown",
   "metadata": {},
   "source": [
    "**`str.isalpha()`**: return `True` if all characters in the string are alphabetic, else `False`"
   ]
  },
  {
   "cell_type": "code",
   "execution_count": null,
   "metadata": {
    "collapsed": true
   },
   "outputs": [],
   "source": [
    "s = '123abc'\n",
    "str.isalpha(s)    # return False\n",
    "s = 'abc'\n",
    "s.isalpha()       # return True"
   ]
  },
  {
   "cell_type": "markdown",
   "metadata": {},
   "source": [
    "**`str.isdecimal()`**: return `True` if all characters in the string are decimal characters, else `False`"
   ]
  },
  {
   "cell_type": "code",
   "execution_count": null,
   "metadata": {
    "collapsed": true
   },
   "outputs": [],
   "source": [
    "s = '1.2'\n",
    "str.isdecimal(s)    # return False\n",
    "s = '123'\n",
    "s.isdecimal()       # return True"
   ]
  },
  {
   "cell_type": "markdown",
   "metadata": {},
   "source": [
    "**`str.isdigit()`**: return `True` if all characters in the string are digits, else `False`"
   ]
  },
  {
   "cell_type": "code",
   "execution_count": null,
   "metadata": {
    "collapsed": true
   },
   "outputs": [],
   "source": [
    "s = '123'\n",
    "str.isdigit(s)    # return True\n",
    "s.isdigit()       # return True"
   ]
  },
  {
   "cell_type": "markdown",
   "metadata": {},
   "source": [
    "**`str.isnumeric()`**: return `True` if all characters in the string are numeric characters, else `False`"
   ]
  },
  {
   "cell_type": "code",
   "execution_count": null,
   "metadata": {
    "collapsed": true
   },
   "outputs": [],
   "source": [
    "s = '123'\n",
    "str.isnumeric(s)    # return True\n",
    "s.isnumeric()       # return True"
   ]
  },
  {
   "cell_type": "markdown",
   "metadata": {},
   "source": [
    "**`str.isspace()`**: return `True` if all characters in the string are spaces, else `False`"
   ]
  },
  {
   "cell_type": "code",
   "execution_count": null,
   "metadata": {
    "collapsed": true
   },
   "outputs": [],
   "source": [
    "s = '    '\n",
    "str.isspace(s)    # return True\n",
    "s.isspace()       # return True"
   ]
  },
  {
   "cell_type": "markdown",
   "metadata": {},
   "source": [
    "**`str.strip([chars])`**: return a copy of the string with leading and trailing characters (default is white spaces) removed. The *chars* argument is a string specifying the set of characters to be removed. "
   ]
  },
  {
   "cell_type": "code",
   "execution_count": null,
   "metadata": {
    "collapsed": true
   },
   "outputs": [],
   "source": [
    "s = '   abc   '\n",
    "str.strip(s)    # return 'abc'\n",
    "s.strip()       # return 'abc'\n",
    "\n",
    "s = 'abc123abcabc'\n",
    "str.strip(s, 'cab')    # return '123'\n",
    "s.strip('cba')         # return '123'"
   ]
  },
  {
   "cell_type": "markdown",
   "metadata": {},
   "source": [
    "**`str.lstrip([chars])`**: return a copy of the string with leading characters (default is white spaces) removed. The *chars* argument is a string specifying the set of characters to be removed. "
   ]
  },
  {
   "cell_type": "code",
   "execution_count": null,
   "metadata": {
    "collapsed": true
   },
   "outputs": [],
   "source": [
    "s = 'abc123abcabc'\n",
    "str.lstrip(s, 'cab')    # return '123abcabc'\n",
    "s.lstrip('cba')         # return '123abcabc'"
   ]
  },
  {
   "cell_type": "markdown",
   "metadata": {},
   "source": [
    "**`str.rstrip([chars])`**: return a copy of the string with trailing characters (default is white spaces) removed. The *chars* argument is a string specifying the set of characters to be removed. "
   ]
  },
  {
   "cell_type": "code",
   "execution_count": null,
   "metadata": {
    "collapsed": true
   },
   "outputs": [],
   "source": [
    "s = 'abc123abcabc'\n",
    "str.rstrip(s, 'cab')    # return 'abc123'\n",
    "s.rstrip('cba')         # return 'abc123'"
   ]
  },
  {
   "cell_type": "markdown",
   "metadata": {},
   "source": [
    "**`str.zfill(width)`**: return a copy of the string filled with ASCII `0` to make a string of length *width*"
   ]
  },
  {
   "cell_type": "code",
   "execution_count": null,
   "metadata": {
    "collapsed": true
   },
   "outputs": [],
   "source": [
    "s = '123'\n",
    "str.zfill(s, 10)    # return '0000000123'\n",
    "s.zfill(10)         # return '0000000123'"
   ]
  },
  {
   "cell_type": "markdown",
   "metadata": {},
   "source": [
    "**`str.center(width[, fillchar])`**: return a new string of length *width* with the old string centered, extra width filled with white spaces if *fillchar* is not specified, otherwise *fillchar*"
   ]
  },
  {
   "cell_type": "code",
   "execution_count": null,
   "metadata": {
    "collapsed": true
   },
   "outputs": [],
   "source": [
    "s = 'abc'\n",
    "str.center(s, 10, 'z')    # return 'zzzabczzzz'\n",
    "s.center(10)              # return '   abc    '"
   ]
  },
  {
   "cell_type": "markdown",
   "metadata": {},
   "source": [
    "**`str.ljust(width[, fillchar])`**: return the string left justified in a string of length *width*, filled with white spaces if *fillchar* is not specified, otherwise *fillchar*"
   ]
  },
  {
   "cell_type": "code",
   "execution_count": null,
   "metadata": {
    "collapsed": true
   },
   "outputs": [],
   "source": [
    "s = 'abc'\n",
    "str.ljust(s, 10, '#')    # return 'abc#######'\n",
    "s.ljust(10)              # return 'abc       '"
   ]
  },
  {
   "cell_type": "markdown",
   "metadata": {},
   "source": [
    "**`str.rjust(width[, fillchar])`**: return the string right justified in a string of length *width*, filled with white spaces if *fillchar* is not specified, otherwise *fillchar*"
   ]
  },
  {
   "cell_type": "code",
   "execution_count": null,
   "metadata": {
    "collapsed": true
   },
   "outputs": [],
   "source": [
    "s = 'abc'\n",
    "str.rjust(s, 10, '*')    # return '*******abc'\n",
    "s.rjust(10)              # return '       abc'"
   ]
  },
  {
   "cell_type": "markdown",
   "metadata": {},
   "source": [
    "**`str.maketrans(x[, y[, z]])`**:     \n",
    "  * This static method returns a translation table usable for **`str.translate()`**.\n",
    "  * If there is only one argument, it must be a dictionary mapping Unicode ordinals (integers) or characters (strings of length 1) to Unicode ordinals, strings (of arbitrary lengths) or None. Character keys will then be converted to ordinals.\n",
    "  * If there are two arguments, they must be strings of equal length, and in the resulting dictionary, each character in x will be mapped to the character at the same position in y. If there is a third argument, it must be a string, whose characters will be mapped to None in the result.\n"
   ]
  },
  {
   "cell_type": "code",
   "execution_count": null,
   "metadata": {
    "collapsed": true
   },
   "outputs": [],
   "source": [
    "str.maketrans('abcz', '1234', 'z')         # return {97: 49, 98: 50, 99: 51, 122: None}\n",
    "str.maketrans({'a': 1, 'b': 2, 'c': 3})    # return {97: 1, 98: 2, 99: 3}"
   ]
  },
  {
   "cell_type": "markdown",
   "metadata": {},
   "source": [
    "**`str.translate(map)`**: return a copy of the string in which each character has been mapped through the given translation map"
   ]
  },
  {
   "cell_type": "code",
   "execution_count": null,
   "metadata": {
    "collapsed": true
   },
   "outputs": [],
   "source": [
    "s = 'abczzcba'\n",
    "table = str.maketrans('abcz', '1234', 'z')\n",
    "str.translate(s, table)    # return '123321'\n",
    "s.translate(table)         # return '123321'"
   ]
  }
 ],
 "metadata": {
  "kernelspec": {
   "display_name": "Python 3",
   "language": "python",
   "name": "python3"
  },
  "language_info": {
   "codemirror_mode": {
    "name": "ipython",
    "version": 3
   },
   "file_extension": ".py",
   "mimetype": "text/x-python",
   "name": "python",
   "nbconvert_exporter": "python",
   "pygments_lexer": "ipython3",
   "version": "3.6.3"
  }
 },
 "nbformat": 4,
 "nbformat_minor": 2
}
