{
 "cells": [
  {
   "cell_type": "markdown",
   "metadata": {},
   "source": [
    "A set object is an **unordered** collection of distinct **hashable** objects\n",
    "\n",
    "There are two built-in set types: **`set`** and **`frozenset`**. **`set`** is mutable but not hashable. **`frozenset`** is immutable but hashable.\n",
    "\n",
    "There are two ways to construct a set:\n",
    "  * A sequence of comma-separated elements placed in a pair of curly braces: **`{'a', 'b', 'c'}`**\n",
    "  * Set constructor: **`set([iterable])`**\n",
    "  \n",
    "Use **`fronzenset([iterable])`** to construct a fronzenset."
   ]
  },
  {
   "cell_type": "markdown",
   "metadata": {},
   "source": [
    "**`len(s)`**: return the number of elements in set `s` (cardinality of `s`)"
   ]
  },
  {
   "cell_type": "code",
   "execution_count": null,
   "metadata": {},
   "outputs": [],
   "source": [
    "s = {1, 2, 3}\n",
    "len(s)    # return 3"
   ]
  },
  {
   "cell_type": "markdown",
   "metadata": {},
   "source": [
    "**`x in s`**: return `True` if object x is in `s`, else `False`\n",
    "\n",
    "**`x not in s`**: return `True` if object x is not in `s`, else `False`"
   ]
  },
  {
   "cell_type": "code",
   "execution_count": null,
   "metadata": {},
   "outputs": [],
   "source": [
    "s = {1, 2, 'a'}\n",
    "'a' in s      # return True\n",
    "1 not in s    # return False"
   ]
  },
  {
   "cell_type": "markdown",
   "metadata": {},
   "source": [
    "**`set.isdisjoint(s1, s2)`**: return `True` if two sets `s1` and `s2` have no elements in common, else `False`"
   ]
  },
  {
   "cell_type": "code",
   "execution_count": null,
   "metadata": {},
   "outputs": [],
   "source": [
    "s1 = {1, 2, 3}\n",
    "s2 = {4, 5, 6}\n",
    "set.isdisjoint(s1, s2)    # return True\n",
    "s1.isdisjoint(s2)         # return True"
   ]
  },
  {
   "cell_type": "markdown",
   "metadata": {},
   "source": [
    "**_Most set methods are class as well as instance methods, equivalently they may be expressed using comparison operators which is syntactically more simple but sometimes less readable._**"
   ]
  },
  {
   "cell_type": "markdown",
   "metadata": {},
   "source": [
    "**`set.add(s, x)`**: add element `x` to set `s`"
   ]
  },
  {
   "cell_type": "code",
   "execution_count": null,
   "metadata": {
    "scrolled": true
   },
   "outputs": [],
   "source": [
    "s = set()\n",
    "\n",
    "set.add(s, 1)\n",
    "print(s)    # return {1}\n",
    "\n",
    "s.add(2)\n",
    "print(s)    # return {1, 2}"
   ]
  },
  {
   "cell_type": "markdown",
   "metadata": {},
   "source": [
    "**`set.remove(s, x)`**: remove element `x` from `s`,  raises `KeyError` if `x` not found in `s`."
   ]
  },
  {
   "cell_type": "code",
   "execution_count": null,
   "metadata": {},
   "outputs": [],
   "source": [
    "s = {1, 2, 3}\n",
    "\n",
    "set.remove(s, 1)\n",
    "print(s)       # return {2, 3}\n",
    "\n",
    "s.remove(2)\n",
    "print(s)       # return {3}\n",
    "\n",
    "s.remove(4)    # raise KeyError"
   ]
  },
  {
   "cell_type": "markdown",
   "metadata": {},
   "source": [
    "**`set.discard(s, x)`**: remove element `x` from `s` if `x` is present\n",
    "\n",
    "Note: The difference between **`remove`** and **`discard`** is **`discard`** does not raise error if element not found."
   ]
  },
  {
   "cell_type": "code",
   "execution_count": null,
   "metadata": {},
   "outputs": [],
   "source": [
    "s = {1, 2, 3}\n",
    "\n",
    "set.discard(s, 1)\n",
    "print(s)       # return {2, 3}\n",
    "\n",
    "s.discard(2)\n",
    "print(s)       # return {3}\n",
    "\n",
    "s.discard(4)   # nothing\n",
    "print(s)       # return {3}"
   ]
  },
  {
   "cell_type": "markdown",
   "metadata": {},
   "source": [
    "**`set.pop(s)`**: remove and return an arbitrary element from `s`, raises `KeyError` if `s` is empty."
   ]
  },
  {
   "cell_type": "code",
   "execution_count": null,
   "metadata": {},
   "outputs": [],
   "source": [
    "s = {1, 2}\n",
    "\n",
    "set.pop(s)    # return 1\n",
    "\n",
    "s.pop()       # return 2\n",
    "\n",
    "s.pop()       # raise KeyError"
   ]
  },
  {
   "cell_type": "markdown",
   "metadata": {},
   "source": [
    "**`set.copy(s)`**: return a shallow copy of `s`"
   ]
  },
  {
   "cell_type": "code",
   "execution_count": null,
   "metadata": {},
   "outputs": [],
   "source": [
    "s = {1, 2, 3}\n",
    "\n",
    "set.copy(s)    # return {1, 2, 3}\n",
    "\n",
    "s.copy()       # return {1, 2, 3}"
   ]
  },
  {
   "cell_type": "markdown",
   "metadata": {},
   "source": [
    "**`set.clear(s)`**: remove all elements from `s`"
   ]
  },
  {
   "cell_type": "code",
   "execution_count": null,
   "metadata": {},
   "outputs": [],
   "source": [
    "s = {1, 2, 3}\n",
    "set.clear(s)\n",
    "print(s)    # return set()\n",
    "\n",
    "s = {1, 2, 3}\n",
    "s.clear()\n",
    "print(s)    # return set()"
   ]
  },
  {
   "cell_type": "markdown",
   "metadata": {},
   "source": [
    "**`set.issubset(s1, s2)`**: return `True` if every element in `s1` is also in `s2`, else `False`\n",
    "\n",
    "**`s1 <= s2`**\n",
    "\n",
    "**`s1 < s2`**: `s1 <= s2 and s1 != s2`"
   ]
  },
  {
   "cell_type": "code",
   "execution_count": null,
   "metadata": {},
   "outputs": [],
   "source": [
    "s1 = {1, 2, 3}\n",
    "s2 = {1, 2, 3, 4}\n",
    "set.issubset(s1, s2)    # return True\n",
    "set.issubset(s2, s1)    # return False\n",
    "s1.issubset(s2)         # return True\n",
    "s2.issubset(s1)         # return False\n",
    "s1 <= s2                # return True\n",
    "s2 <= s1                # return False"
   ]
  },
  {
   "cell_type": "markdown",
   "metadata": {},
   "source": [
    "**`set.issuperset(s1, s2)`**: return `True` if every element in `s2` is also in `s1`, else `False`\n",
    "\n",
    "**`s1 >= s2`**\n",
    "\n",
    "**`s1 > s2`**: `s1 >= s2 and s1 != s2`"
   ]
  },
  {
   "cell_type": "code",
   "execution_count": null,
   "metadata": {},
   "outputs": [],
   "source": [
    "s1 = {1, 2, 3}\n",
    "s2 = {1, 2, 3, 4}\n",
    "set.issuperset(s1, s2)    # return False\n",
    "set.issuperset(s2, s1)    # return True\n",
    "s1.issuperset(s2)         # return False\n",
    "s2.issuperset(s1)         # return True\n",
    "s1 >= s2                  # return False\n",
    "s2 >= s1                  # return True"
   ]
  },
  {
   "cell_type": "markdown",
   "metadata": {},
   "source": [
    "**`set.union(s1, s2, ...)`**: return a new set with elements from all of the sets\n",
    "\n",
    "**`s1 | s2 | ...`**"
   ]
  },
  {
   "cell_type": "code",
   "execution_count": null,
   "metadata": {},
   "outputs": [],
   "source": [
    "s1 = {1, 2, 3}\n",
    "s2 = {4, 5, 6}\n",
    "s3 = {7, 8, 9}\n",
    "set.union(s1, s2, s3)    # return {1, 2, 3, 4, 5, 6, 7, 8, 9} \n",
    "s1.union(s2, s3)         # return {1, 2, 3, 4, 5, 6, 7, 8, 9}\n",
    "s1 | s2 | s3             # return {1, 2, 3, 4, 5, 6, 7, 8, 9}"
   ]
  },
  {
   "cell_type": "markdown",
   "metadata": {},
   "source": [
    "**`set.intersection(s1, s2, ...)`**: return a new set with elements common to all of the sets\n",
    "\n",
    "**`s1 & s2 & ...`**"
   ]
  },
  {
   "cell_type": "code",
   "execution_count": null,
   "metadata": {},
   "outputs": [],
   "source": [
    "s1 = {1, 2, 3}\n",
    "s2 = {2, 3, 4}\n",
    "s3 = {3, 4, 5}\n",
    "set.intersection(s1, s2, s3)    # return {3}\n",
    "s1.intersection(s2, s3)         # return {3}\n",
    "s1 & s2 & s3                    # return {3}"
   ]
  },
  {
   "cell_type": "markdown",
   "metadata": {},
   "source": [
    "**`set.difference(s1, s2, ...)`**: return a new set with elements in the set `s1` that are not in the others (`s2`, ...)\n",
    "\n",
    "**`s1 - s2 - ...`**"
   ]
  },
  {
   "cell_type": "code",
   "execution_count": null,
   "metadata": {},
   "outputs": [],
   "source": [
    "s1 = {1, 2, 3}\n",
    "s2 = {2, 4}\n",
    "s3 = {3, 6}\n",
    "set.difference(s1, s2, s3)    # return {1}\n",
    "s1.difference(s2, s3)         # return {1}\n",
    "s1 - s2 - s3                  # return {1}"
   ]
  },
  {
   "cell_type": "markdown",
   "metadata": {},
   "source": [
    "**`set.symmetric_difference(s1, s2)`**: return a new set with elements in either `s1` or `s2` but not both\n",
    "\n",
    "**`s1 ^ s2`**"
   ]
  },
  {
   "cell_type": "code",
   "execution_count": null,
   "metadata": {},
   "outputs": [],
   "source": [
    "s1 = {1, 2, 3}\n",
    "s2 = {2, 4}\n",
    "set.symmetric_difference(s1, s2)    # return {1, 3, 4}\n",
    "s1.symmetric_difference(s2)         # return {1, 3, 4}\n",
    "s1 ^ s2                             # return {1, 3, 4}"
   ]
  },
  {
   "cell_type": "markdown",
   "metadata": {},
   "source": [
    "**`set.update(s1, s2, ...)`**: update the `s1`, adding elements from `s2` and others\n",
    "\n",
    "**`s1 |= s2 | ...`**"
   ]
  },
  {
   "cell_type": "code",
   "execution_count": null,
   "metadata": {},
   "outputs": [],
   "source": [
    "s1 = {1, 2, 3}\n",
    "s2 = {2, 4}\n",
    "s3 = {3, 6}\n",
    "set.update(s1, s2, s3)\n",
    "print(s1)    # return {1, 2, 3, 4, 6}\n",
    "\n",
    "s1 = {1, 2, 3}\n",
    "s2 = {2, 4}\n",
    "s3 = {3, 6}\n",
    "s1.update(s2, s3)\n",
    "print(s1)    # return {1, 2, 3, 4, 6}\n",
    "\n",
    "s1 = {1, 2, 3}\n",
    "s2 = {2, 4}\n",
    "s3 = {3, 6}\n",
    "s1 |= s2 | s3\n",
    "print(s1)    # return {1, 2, 3, 4, 6}"
   ]
  },
  {
   "cell_type": "markdown",
   "metadata": {},
   "source": [
    "**`set.intersection_update(s1, s2, ...)`**: update the `s1`, keeping only elements found in `s2` and all others\n",
    "\n",
    "**`s1 &= s2 & ...`**"
   ]
  },
  {
   "cell_type": "code",
   "execution_count": null,
   "metadata": {},
   "outputs": [],
   "source": [
    "s1 = {1, 2, 3}\n",
    "s2 = {2, 3, 4}\n",
    "s3 = {3, 4, 5}\n",
    "set.intersection_update(s1, s2, s3)    \n",
    "print(s1)    # return {3}\n",
    "\n",
    "s1 = {1, 2, 3}\n",
    "s2 = {2, 3, 4}\n",
    "s3 = {3, 4, 5}\n",
    "s1.intersection_update(s2, s3)\n",
    "print(s1)    # return {3}\n",
    "\n",
    "s1 = {1, 2, 3}\n",
    "s2 = {2, 3, 4}\n",
    "s3 = {3, 4, 5}\n",
    "s1 &= s2 & s3\n",
    "print(s1)    # return {3}"
   ]
  },
  {
   "cell_type": "markdown",
   "metadata": {},
   "source": [
    "**`set.difference_update(s1, s2, ...)`**: update the set, removing elements found in `s2` and others\n",
    "\n",
    "**`s1 -= s2 | ...`**"
   ]
  },
  {
   "cell_type": "code",
   "execution_count": null,
   "metadata": {},
   "outputs": [],
   "source": [
    "s1 = {1, 2, 3}\n",
    "s2 = {2, 4}\n",
    "s3 = {3, 6}\n",
    "set.difference_update(s1, s2, s3)\n",
    "print(s1)    # return {1}\n",
    "\n",
    "s1 = {1, 2, 3}\n",
    "s2 = {2, 4}\n",
    "s3 = {3, 6}\n",
    "s1.difference_update(s2, s3)\n",
    "print(s1)    # return {1}\n",
    "\n",
    "s1 = {1, 2, 3}\n",
    "s2 = {2, 4}\n",
    "s3 = {3, 6}\n",
    "s1 -= s2 | s3\n",
    "print(s1)    # return {1}"
   ]
  },
  {
   "cell_type": "markdown",
   "metadata": {},
   "source": [
    "**`set.symmetric_difference_update(s1, s2)`**: update `s1`, keeping only elements found in either `s1` or `s2`, but not in both.\n",
    "\n",
    "**`s1 ^= s2`**"
   ]
  },
  {
   "cell_type": "code",
   "execution_count": null,
   "metadata": {},
   "outputs": [],
   "source": [
    "s1 = {1, 2, 3}\n",
    "s2 = {2, 4}\n",
    "set.symmetric_difference_update(s1, s2)\n",
    "print(s1)    # return {1, 3, 4}\n",
    "\n",
    "s1 = {1, 2, 3}\n",
    "s2 = {2, 4}\n",
    "s1.symmetric_difference_update(s2)\n",
    "print(s1)    # return {1, 3, 4}\n",
    "\n",
    "s1 = {1, 2, 3}\n",
    "s2 = {2, 4}\n",
    "s1 ^= s2\n",
    "print(s1)    # return {1, 3, 4}"
   ]
  }
 ],
 "metadata": {
  "kernelspec": {
   "display_name": "Python 3",
   "language": "python",
   "name": "python3"
  },
  "language_info": {
   "codemirror_mode": {
    "name": "ipython",
    "version": 3
   },
   "file_extension": ".py",
   "mimetype": "text/x-python",
   "name": "python",
   "nbconvert_exporter": "python",
   "pygments_lexer": "ipython3",
   "version": "3.6.3"
  }
 },
 "nbformat": 4,
 "nbformat_minor": 2
}
