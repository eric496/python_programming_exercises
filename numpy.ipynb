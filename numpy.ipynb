{
 "cells": [
  {
   "cell_type": "code",
   "execution_count": 1,
   "metadata": {
    "collapsed": true
   },
   "outputs": [],
   "source": [
    "import sys\n",
    "import numpy as np"
   ]
  },
  {
   "cell_type": "code",
   "execution_count": 2,
   "metadata": {},
   "outputs": [
    {
     "name": "stdout",
     "output_type": "stream",
     "text": [
      "Python version: 3.6.3 |Anaconda custom (64-bit)| (default, Oct 13 2017, 12:02:49) \n",
      "[GCC 7.2.0]\n",
      "NumPy version: 1.13.3\n"
     ]
    }
   ],
   "source": [
    "print('Python version: {}'.format(sys.version))\n",
    "print('NumPy version: {}'.format(np.__version__))"
   ]
  },
  {
   "cell_type": "markdown",
   "metadata": {},
   "source": [
    "**Create ndarray**"
   ]
  },
  {
   "cell_type": "code",
   "execution_count": 71,
   "metadata": {},
   "outputs": [
    {
     "name": "stdout",
     "output_type": "stream",
     "text": [
      "constructed using python list: [0 1 2 3 4 5 6 7 8 9]\n",
      "constructed using python tuple: [0 1 2 3 4 5 6 7 8 9]\n",
      "constructed using python set: [0 1 2 3 4 5 6 7 8 9]\n",
      "constructed using .arange() method: [0 2 4 6 8]\n",
      "[ 0.  0.  0.  0.  0.  0.  0.  0.  0.  0.]\n",
      "[[ 0.  0.]\n",
      " [ 0.  0.]]\n",
      "The shapes of the two arrays are the same: True\n",
      "The data types of the two arrays are the same: True\n",
      "[ 1.  1.  1.  1.  1.  1.  1.  1.  1.  1.]\n",
      "[[ 1.  1.]\n",
      " [ 1.  1.]]\n",
      "The shapes of the two arrays are the same: True\n",
      "The data types of the two arrays are the same: True\n",
      "[[  6.95224883e-310   4.64240755e-310   0.00000000e+000]\n",
      " [  0.00000000e+000   0.00000000e+000   0.00000000e+000]\n",
      " [  8.70018275e-313   0.00000000e+000   3.95252517e-322]]\n",
      "The shapes of the two arrays are the same: True\n",
      "The data types of the two arrays are the same: True\n",
      "[[[ nan  nan  nan]\n",
      "  [ nan  nan  nan]\n",
      "  [ nan  nan  nan]]\n",
      "\n",
      " [[ nan  nan  nan]\n",
      "  [ nan  nan  nan]\n",
      "  [ nan  nan  nan]]\n",
      "\n",
      " [[ nan  nan  nan]\n",
      "  [ nan  nan  nan]\n",
      "  [ nan  nan  nan]]]\n",
      "[[ nan  nan]\n",
      " [ nan  nan]]\n",
      "[[[ nan  nan  nan]\n",
      "  [ nan  nan  nan]\n",
      "  [ nan  nan  nan]]\n",
      "\n",
      " [[ nan  nan  nan]\n",
      "  [ nan  nan  nan]\n",
      "  [ nan  nan  nan]]\n",
      "\n",
      " [[ nan  nan  nan]\n",
      "  [ nan  nan  nan]\n",
      "  [ nan  nan  nan]]]\n",
      "[[ 1.  0.  0.  0.  0.  0.  0.  0.  0.  0.]\n",
      " [ 0.  1.  0.  0.  0.  0.  0.  0.  0.  0.]\n",
      " [ 0.  0.  1.  0.  0.  0.  0.  0.  0.  0.]\n",
      " [ 0.  0.  0.  1.  0.  0.  0.  0.  0.  0.]\n",
      " [ 0.  0.  0.  0.  1.  0.  0.  0.  0.  0.]\n",
      " [ 0.  0.  0.  0.  0.  1.  0.  0.  0.  0.]\n",
      " [ 0.  0.  0.  0.  0.  0.  1.  0.  0.  0.]\n",
      " [ 0.  0.  0.  0.  0.  0.  0.  1.  0.  0.]\n",
      " [ 0.  0.  0.  0.  0.  0.  0.  0.  1.  0.]\n",
      " [ 0.  0.  0.  0.  0.  0.  0.  0.  0.  1.]]\n",
      "[[ 1.  0.  0.  0.  0.  0.  0.  0.  0.  0.]\n",
      " [ 0.  1.  0.  0.  0.  0.  0.  0.  0.  0.]\n",
      " [ 0.  0.  1.  0.  0.  0.  0.  0.  0.  0.]\n",
      " [ 0.  0.  0.  1.  0.  0.  0.  0.  0.  0.]\n",
      " [ 0.  0.  0.  0.  1.  0.  0.  0.  0.  0.]\n",
      " [ 0.  0.  0.  0.  0.  1.  0.  0.  0.  0.]\n",
      " [ 0.  0.  0.  0.  0.  0.  1.  0.  0.  0.]\n",
      " [ 0.  0.  0.  0.  0.  0.  0.  1.  0.  0.]\n",
      " [ 0.  0.  0.  0.  0.  0.  0.  0.  1.  0.]\n",
      " [ 0.  0.  0.  0.  0.  0.  0.  0.  0.  1.]]\n"
     ]
    }
   ],
   "source": [
    "# notes: \n",
    "# 1. NumPy array or so called ndarray must contain homogeneous object, which means all elements must be of the same type \n",
    "# 2. difference between np.array() and np.asarray(): np.array() always return a copy, np.asarray() returns a view if the argument is ndarray already\n",
    "# 3. arithmetic operations are performed element-wise given two equal-size ndarrays\n",
    "\n",
    "# scenario 1: convert existing sequence type (list, tuple, or set) to ndarray\n",
    "py_list = list(range(10))\n",
    "py_tuple = tuple(range(10))\n",
    "py_set = set(range(10))\n",
    "np_array = np.array(py_list)\n",
    "print('constructed using python list: {}'.format(np_array))\n",
    "np_array = np.array(py_tuple)\n",
    "print('constructed using python tuple: {}'.format(np_array))\n",
    "# need to convert set to list before converting to ndarray\n",
    "np_array = np.array(list(py_set))\n",
    "print('constructed using python set: {}'.format(np_array))\n",
    "np_array = np.arange(0, 10, 2)\n",
    "print('constructed using .arange() method: {}'.format(np_array))\n",
    "\n",
    "# scenario 2: create ndarray filled with zeros\n",
    "np_array = np.zeros(10)\n",
    "print(np_array)\n",
    "np_array = np.zeros((2,2))        # pass in the shape as a tuple\n",
    "print(np_array)\n",
    "# return an array of zeros with the same shape and type as a given array\n",
    "original_array = np.random.rand(3,3)\n",
    "np_array = np.zeros_like(original_array)\n",
    "print('The shapes of the two arrays are the same: {}'.format(original_array.shape == np_array.shape))\n",
    "print('The data types of the two arrays are the same: {}'.format(original_array.dtype == np_array.dtype))\n",
    "\n",
    "# scenario 3: create ndarry filled with ones\n",
    "np_array = np.ones(10)\n",
    "print(np_array)\n",
    "np_array = np.ones((2,2)) \n",
    "print(np_array)\n",
    "# return an array of ones with the same shape and type as a given array\n",
    "original_array = np.random.rand(3,3)\n",
    "np_array = np.ones_like(original_array)\n",
    "print('The shapes of the two arrays are the same: {}'.format(original_array.shape == np_array.shape))\n",
    "print('The data types of the two arrays are the same: {}'.format(original_array.dtype == np_array.dtype))\n",
    "\n",
    "# scenario 4: create ndarray filled with arbitrary data\n",
    "np_array = np.empty((3, 3))                  # notice .empty() initializes ndarray with arbitrary data rather than 0\n",
    "print(np_array)\n",
    "# return an array of arbitrary data with the same shape and type as a given array\n",
    "original_array = np.random.rand(3,3)\n",
    "np_array = np.empty_like(original_array)\n",
    "print('The shapes of the two arrays are the same: {}'.format(original_array.shape == np_array.shape))\n",
    "print('The data types of the two arrays are the same: {}'.format(original_array.dtype == np_array.dtype))\n",
    "\n",
    "# scenario 5: create ndarray filled with nan\n",
    "# sub method i) use ndarray.fill() method\n",
    "np_array = np.empty((3,3,3))\n",
    "np_array.fill(np.nan)\n",
    "print(np_array)\n",
    "# sub method ii) use np.full() or np.full_like() method\n",
    "np_array = np.full((2, 2), np.nan)\n",
    "print(np_array)\n",
    "# return an array of filled values with the same shape and type as a given array\n",
    "original_array = np.empty((3,3,3))\n",
    "np_array = np.full_like(original_array, np.nan)\n",
    "print(np_array)\n",
    "\n",
    "# scenario 6: create n by n identity matrix\n",
    "n = 10\n",
    "# np.eye() method\n",
    "np_array = np.eye(n)\n",
    "print(np_array)\n",
    "# np.identity() method\n",
    "np_array = np.identity(n)\n",
    "print(np_array)"
   ]
  },
  {
   "cell_type": "markdown",
   "metadata": {},
   "source": [
    "**Check ndarray properties**"
   ]
  },
  {
   "cell_type": "code",
   "execution_count": 88,
   "metadata": {},
   "outputs": [],
   "source": [
    "np_array = np.random.rand(2, 2, 2)"
   ]
  },
  {
   "cell_type": "code",
   "execution_count": 89,
   "metadata": {},
   "outputs": [
    {
     "data": {
      "text/plain": [
       "3"
      ]
     },
     "execution_count": 89,
     "metadata": {},
     "output_type": "execute_result"
    }
   ],
   "source": [
    "# dimension\n",
    "np_array.ndim"
   ]
  },
  {
   "cell_type": "code",
   "execution_count": 90,
   "metadata": {},
   "outputs": [
    {
     "data": {
      "text/plain": [
       "(2, 2, 2)"
      ]
     },
     "execution_count": 90,
     "metadata": {},
     "output_type": "execute_result"
    }
   ],
   "source": [
    "# shape - return a tuple\n",
    "np_array.shape"
   ]
  },
  {
   "cell_type": "code",
   "execution_count": 95,
   "metadata": {},
   "outputs": [
    {
     "data": {
      "text/plain": [
       "8"
      ]
     },
     "execution_count": 95,
     "metadata": {},
     "output_type": "execute_result"
    }
   ],
   "source": [
    "# memory size of each item\n",
    "np_array.itemsize"
   ]
  },
  {
   "cell_type": "code",
   "execution_count": 91,
   "metadata": {},
   "outputs": [
    {
     "data": {
      "text/plain": [
       "8"
      ]
     },
     "execution_count": 91,
     "metadata": {},
     "output_type": "execute_result"
    }
   ],
   "source": [
    "# size - total number of elements\n",
    "np_array.size"
   ]
  },
  {
   "cell_type": "code",
   "execution_count": 96,
   "metadata": {},
   "outputs": [
    {
     "data": {
      "text/plain": [
       "64"
      ]
     },
     "execution_count": 96,
     "metadata": {},
     "output_type": "execute_result"
    }
   ],
   "source": [
    "# memory size - number of bytes = np.size * np.itemsize\n",
    "np_array.nbytes"
   ]
  },
  {
   "cell_type": "code",
   "execution_count": 97,
   "metadata": {},
   "outputs": [
    {
     "data": {
      "text/plain": [
       "dtype('float64')"
      ]
     },
     "execution_count": 97,
     "metadata": {},
     "output_type": "execute_result"
    }
   ],
   "source": [
    "# data type\n",
    "np_array.dtype"
   ]
  },
  {
   "cell_type": "code",
   "execution_count": 98,
   "metadata": {},
   "outputs": [
    {
     "data": {
      "text/plain": [
       "'float64'"
      ]
     },
     "execution_count": 98,
     "metadata": {},
     "output_type": "execute_result"
    }
   ],
   "source": [
    "# data type (get the string only)\n",
    "np_array.dtype.name"
   ]
  },
  {
   "cell_type": "code",
   "execution_count": null,
   "metadata": {
    "collapsed": true
   },
   "outputs": [],
   "source": []
  },
  {
   "cell_type": "code",
   "execution_count": null,
   "metadata": {},
   "outputs": [],
   "source": []
  },
  {
   "cell_type": "code",
   "execution_count": null,
   "metadata": {},
   "outputs": [],
   "source": []
  },
  {
   "cell_type": "code",
   "execution_count": null,
   "metadata": {},
   "outputs": [],
   "source": []
  },
  {
   "cell_type": "code",
   "execution_count": null,
   "metadata": {
    "collapsed": true
   },
   "outputs": [],
   "source": []
  }
 ],
 "metadata": {
  "kernelspec": {
   "display_name": "Python 3",
   "language": "python",
   "name": "python3"
  },
  "language_info": {
   "codemirror_mode": {
    "name": "ipython",
    "version": 3
   },
   "file_extension": ".py",
   "mimetype": "text/x-python",
   "name": "python",
   "nbconvert_exporter": "python",
   "pygments_lexer": "ipython3",
   "version": "3.6.3"
  }
 },
 "nbformat": 4,
 "nbformat_minor": 2
}
