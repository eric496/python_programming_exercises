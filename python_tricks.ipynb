{
 "cells": [
  {
   "cell_type": "code",
   "execution_count": 1,
   "metadata": {
    "collapsed": true
   },
   "outputs": [],
   "source": [
    "import sys\n",
    "import numpy as np"
   ]
  },
  {
   "cell_type": "code",
   "execution_count": 2,
   "metadata": {},
   "outputs": [
    {
     "data": {
      "text/plain": [
       "'3.6.1 |Anaconda custom (64-bit)| (default, May 11 2017, 13:09:58) \\n[GCC 4.4.7 20120313 (Red Hat 4.4.7-1)]'"
      ]
     },
     "execution_count": 2,
     "metadata": {},
     "output_type": "execute_result"
    }
   ],
   "source": [
    "sys.version"
   ]
  },
  {
   "cell_type": "code",
   "execution_count": 3,
   "metadata": {},
   "outputs": [
    {
     "data": {
      "text/plain": [
       "'1.13.1'"
      ]
     },
     "execution_count": 3,
     "metadata": {},
     "output_type": "execute_result"
    }
   ],
   "source": [
    "np.__version__"
   ]
  },
  {
   "cell_type": "markdown",
   "metadata": {},
   "source": [
    "**1. Copy Lists**"
   ]
  },
  {
   "cell_type": "code",
   "execution_count": 5,
   "metadata": {},
   "outputs": [
    {
     "name": "stdout",
     "output_type": "stream",
     "text": [
      "before, list A is [0, 1, 2, 3, 4, 5, 6, 7, 8, 9]\n",
      "after changing B, list A is [100, 1, 2, 3, 4, 5, 6, 7, 8, 9]\n",
      "after changing B, list B is [100, 1, 2, 3, 4, 5, 6, 7, 8, 9]\n"
     ]
    }
   ],
   "source": [
    " list_a = list(range(10))\n",
    "print('before, list A is {}'.format(list_a))\n",
    "# assignment does not copy, it binds list_b with the same object list_a points to\n",
    "list_b = list_a\n",
    "# if we change b, a changes as well because they point to the same object in memory\n",
    "list_b[0] = 100\n",
    "print('after changing B, list A is {}'.format(list_a))\n",
    "print('after changing B, list B is {}'.format(list_b))"
   ]
  },
  {
   "cell_type": "code",
   "execution_count": 6,
   "metadata": {},
   "outputs": [
    {
     "name": "stdout",
     "output_type": "stream",
     "text": [
      "list A is [[1], [1], [1]]\n"
     ]
    }
   ],
   "source": [
    "## what * symbol produces is reference as well\n",
    "list_a = [[]] * 3\n",
    "list_a[0].append(1)\n",
    "print('list A is {}'.format(list_a))"
   ]
  },
  {
   "cell_type": "markdown",
   "metadata": {},
   "source": [
    "**1) shallow copy**"
   ]
  },
  {
   "cell_type": "code",
   "execution_count": 9,
   "metadata": {},
   "outputs": [
    {
     "name": "stdout",
     "output_type": "stream",
     "text": [
      "METHOD 1\n",
      "before, list A is [0, 1, 2, 3, 4, 5, 6, 7, 8, 9]\n",
      "before, list B is [0, 1, 2, 3, 4, 5, 6, 7, 8, 9]\n",
      "after changing B, list B is [100, 1, 2, 3, 4, 5, 6, 7, 8, 9]\n",
      "after changing B, list A is [0, 1, 2, 3, 4, 5, 6, 7, 8, 9]\n"
     ]
    }
   ],
   "source": [
    "# method 1: slicing\n",
    "print('METHOD 1')\n",
    "list_a = list(range(10))\n",
    "print('before, list A is {}'.format(list_a))\n",
    "list_b = list_a[:]\n",
    "print('before, list B is {}'.format(list_b))\n",
    "list_b[0] = 100\n",
    "print('after changing B, list B is {}'.format(list_b))\n",
    "print('after changing B, list A is {}'.format(list_a))"
   ]
  },
  {
   "cell_type": "code",
   "execution_count": 11,
   "metadata": {},
   "outputs": [
    {
     "name": "stdout",
     "output_type": "stream",
     "text": [
      "METHOD 2\n",
      "before, list A is [0, 1, 2, 3, 4, 5, 6, 7, 8, 9]\n",
      "before, list B is [0, 1, 2, 3, 4, 5, 6, 7, 8, 9]\n",
      "after changing B, list B is [100, 1, 2, 3, 4, 5, 6, 7, 8, 9]\n",
      "after changing B, list A is [0, 1, 2, 3, 4, 5, 6, 7, 8, 9]\n"
     ]
    }
   ],
   "source": [
    "# method 2: list constructor\n",
    "print('METHOD 2')\n",
    "list_a = list(range(10))\n",
    "print('before, list A is {}'.format(list_a))\n",
    "list_b = list(list_a)\n",
    "print('before, list B is {}'.format(list_b))\n",
    "list_b[0] = 100\n",
    "print('after changing B, list B is {}'.format(list_b))\n",
    "print('after changing B, list A is {}'.format(list_a))"
   ]
  },
  {
   "cell_type": "code",
   "execution_count": 19,
   "metadata": {},
   "outputs": [
    {
     "name": "stdout",
     "output_type": "stream",
     "text": [
      "METHOD 3\n",
      "before, list A is [0, 1, 2, 3, 4, 5, 6, 7, 8, 9]\n",
      "before, list B is [0, 1, 2, 3, 4, 5, 6, 7, 8, 9]\n",
      "after changing B, list B is [100, 1, 2, 3, 4, 5, 6, 7, 8, 9]\n",
      "after changing B, list A is [0, 1, 2, 3, 4, 5, 6, 7, 8, 9]\n"
     ]
    }
   ],
   "source": [
    "# method 3: use instance method copy()\n",
    "print('METHOD 3')\n",
    "list_a = list(range(10))\n",
    "print('before, list A is {}'.format(list_a))\n",
    "list_b = list_a.copy()\n",
    "print('before, list B is {}'.format(list_b))\n",
    "list_b[0] = 100\n",
    "print('after changing B, list B is {}'.format(list_b))\n",
    "print('after changing B, list A is {}'.format(list_a))"
   ]
  },
  {
   "cell_type": "code",
   "execution_count": 20,
   "metadata": {},
   "outputs": [
    {
     "name": "stdout",
     "output_type": "stream",
     "text": [
      "METHOD 4\n",
      "before, list A is [0, 1, 2, 3, 4, 5, 6, 7, 8, 9]\n",
      "before, list B is [0, 1, 2, 3, 4, 5, 6, 7, 8, 9]\n",
      "after changing B, list B is [100, 1, 2, 3, 4, 5, 6, 7, 8, 9]\n",
      "after changing B, list A is [0, 1, 2, 3, 4, 5, 6, 7, 8, 9]\n"
     ]
    }
   ],
   "source": [
    "# method 4: use copy() method from copy library\n",
    "print('METHOD 4')\n",
    "import copy\n",
    "list_a = list(range(10))\n",
    "print('before, list A is {}'.format(list_a))\n",
    "list_b = copy.copy(list_a)\n",
    "print('before, list B is {}'.format(list_b))\n",
    "list_b[0] = 100\n",
    "print('after changing B, list B is {}'.format(list_b))\n",
    "print('after changing B, list A is {}'.format(list_a))"
   ]
  },
  {
   "cell_type": "markdown",
   "metadata": {},
   "source": [
    "**2) deep copy**"
   ]
  },
  {
   "cell_type": "code",
   "execution_count": 21,
   "metadata": {},
   "outputs": [
    {
     "name": "stdout",
     "output_type": "stream",
     "text": [
      "SHALLOW COPY EXAMPLE\n",
      "before, list A is [[0], [0], [0]]\n",
      "before, list B is [[0], [0], [0]]\n",
      "after changing B, list B is [[0, 999], [0], [0]]\n",
      "after changing B, list A is [[0, 999], [0], [0]]\n"
     ]
    }
   ],
   "source": [
    "## shallow copy does not copy compound object (object of object or even deeper structure)\n",
    "print('SHALLOW COPY EXAMPLE')\n",
    "list_a = [[0],[0],[0]]\n",
    "print('before, list A is {}'.format(list_a))\n",
    "# for simplicity, only method 1 is used here but the other 3 works in the same way\n",
    "list_b = list_a[:]            \n",
    "print('before, list B is {}'.format(list_b))\n",
    "list_b[0].append(999)\n",
    "print('after changing B, list B is {}'.format(list_b))\n",
    "print('after changing B, list A is {}'.format(list_a))"
   ]
  },
  {
   "cell_type": "code",
   "execution_count": 22,
   "metadata": {},
   "outputs": [
    {
     "name": "stdout",
     "output_type": "stream",
     "text": [
      "DEEP COPY EXAMPLE\n",
      "before, list A is [[0], [0], [0]]\n",
      "before, list B is [[0], [0], [0]]\n",
      "after, list B is [[0, 999], [0], [0]]\n",
      "after, list A is [[0], [0], [0]]\n"
     ]
    }
   ],
   "source": [
    "## solution: use deepcopy() method from copy library\n",
    "print('DEEP COPY EXAMPLE')\n",
    "list_a = [[0],[0],[0]]\n",
    "print('before, list A is {}'.format(list_a))\n",
    "# for simplicity, only method 1 is used here but the other 3 works the same way\n",
    "list_b = copy.deepcopy(list_a)            \n",
    "print('before, list B is {}'.format(list_b))\n",
    "list_b[0].append(999)\n",
    "print('after, list B is {}'.format(list_b))\n",
    "print('after, list A is {}'.format(list_a))"
   ]
  },
  {
   "cell_type": "markdown",
   "metadata": {},
   "source": [
    "**2. ufunc sorted() returns list type instead of iterable**"
   ]
  },
  {
   "cell_type": "code",
   "execution_count": 23,
   "metadata": {},
   "outputs": [
    {
     "data": {
      "text/plain": [
       "list"
      ]
     },
     "execution_count": 23,
     "metadata": {},
     "output_type": "execute_result"
    }
   ],
   "source": [
    "list_a = list(range(10, -1, -1))\n",
    "type(sorted(list_a))"
   ]
  },
  {
   "cell_type": "markdown",
   "metadata": {},
   "source": [
    "**3. Dictionary**"
   ]
  },
  {
   "cell_type": "markdown",
   "metadata": {},
   "source": [
    "**1) initialize a dictionary**"
   ]
  },
  {
   "cell_type": "code",
   "execution_count": 24,
   "metadata": {},
   "outputs": [
    {
     "name": "stdout",
     "output_type": "stream",
     "text": [
      "{'a': 1, 'b': 2, 'c': 3, 'd': 4}\n"
     ]
    }
   ],
   "source": [
    "# method 1: use dictionary literal\n",
    "dict_a = {'a':1, 'b':2, 'c':3, 'd':4}\n",
    "print(dict_a)"
   ]
  },
  {
   "cell_type": "code",
   "execution_count": 25,
   "metadata": {},
   "outputs": [
    {
     "name": "stdout",
     "output_type": "stream",
     "text": [
      "{'a': 1, 'b': 2, 'c': 3, 'd': 4}\n",
      "{'a': 1, 'b': 2, 'c': 3, 'd': 4}\n",
      "{'a': 1, 'b': 2, 'c': 3, 'd': 4}\n"
     ]
    }
   ],
   "source": [
    "# method 2: use dict() constructor\n",
    "# directly pass in key-value pairs\n",
    "dict_b = dict(a=1, b=2, c=3, d=4)\n",
    "print(dict_b)\n",
    "# OR pass in a list of tuples\n",
    "list_a = [('a', 1), ('b', 2), ('c', 3), ('d', 4)]\n",
    "dict_c = dict(list_a)\n",
    "print(dict_c)\n",
    "# OR use zip() method to combine two parallel lists\n",
    "keys = ['a', 'b', 'c', 'd']\n",
    "values = list(range(1, 5))\n",
    "dict_d = dict(zip(keys, values))\n",
    "print(dict_d)"
   ]
  },
  {
   "cell_type": "markdown",
   "metadata": {},
   "source": [
    "**2) getter and setter**"
   ]
  },
  {
   "cell_type": "code",
   "execution_count": 26,
   "metadata": {},
   "outputs": [
    {
     "name": "stdout",
     "output_type": "stream",
     "text": [
      "ADD NEW VALUES\n",
      "before, {}\n",
      "after adding 1, {'a': 1}\n",
      "after adding 2, {'a': 1, 'b': 2}\n"
     ]
    }
   ],
   "source": [
    "# add new key-value pair\n",
    "print('ADD NEW VALUES')\n",
    "dict_a = {}\n",
    "print('before, {}'.format(dict_a))\n",
    "dict_a['a'] = 1\n",
    "print('after adding 1, {}'.format(dict_a))\n",
    "dict_a['b'] = 2\n",
    "print('after adding 2, {}'.format(dict_a))"
   ]
  },
  {
   "cell_type": "code",
   "execution_count": 27,
   "metadata": {},
   "outputs": [
    {
     "name": "stdout",
     "output_type": "stream",
     "text": [
      "GET VALUES\n",
      "1\n",
      "KEY NOT FOUND!\n",
      "99\n",
      "after .setdefault() method {'a': 1, 'b': 2, 'x': 99}\n"
     ]
    }
   ],
   "source": [
    "# get values\n",
    "print('GET VALUES')\n",
    "# method 1: use index\n",
    "print(dict_a['a'])                          # raise KeyError if the key does not exist, e.g. dict_a['x']\n",
    "# method 2: use dict.get() method\n",
    "print(dict_a.get('x', 'KEY NOT FOUND!'))    # return self-defined value if the key does not exist\n",
    "# method 3: use dict.setdefault() method\n",
    "print(dict_a.setdefault('x', 99))           # return the value if key exists, or set the value if the key does not exist\n",
    "print('after .setdefault() method {}'.format(dict_a))"
   ]
  },
  {
   "cell_type": "code",
   "execution_count": 28,
   "metadata": {},
   "outputs": [
    {
     "name": "stdout",
     "output_type": "stream",
     "text": [
      "UPDATE VALUES FOR EXISTING KEYS\n",
      "before, {'a': 1}\n",
      "after, {'a': 100}\n",
      "after, {'a': 99}\n"
     ]
    }
   ],
   "source": [
    "# update values\n",
    "print('UPDATE VALUES FOR EXISTING KEYS')\n",
    "dict_a = {'a':1}\n",
    "print('before, {}'.format(dict_a))\n",
    "# method 1: use key \n",
    "dict_a['a'] = 100\n",
    "print('after, {}'.format(dict_a))\n",
    "# method 2: use update() instance method\n",
    "dict_a.update({'a': 99})\n",
    "print('after, {}'.format(dict_a))"
   ]
  },
  {
   "cell_type": "markdown",
   "metadata": {},
   "source": [
    "**3) merge dictionaries**"
   ]
  },
  {
   "cell_type": "code",
   "execution_count": 30,
   "metadata": {},
   "outputs": [
    {
     "name": "stdout",
     "output_type": "stream",
     "text": [
      "before update, dict A is {'a': 1, 'b': 2}, dict B is {'b': 20, 'c': 3}, dict C is {'c': 30, 'd': 4}\n",
      "after update from B, dict A is {'a': 1, 'b': 20, 'c': 3}\n",
      "after update from C, dict A is {'a': 1, 'b': 20, 'c': 30, 'd': 4}\n"
     ]
    }
   ],
   "source": [
    "# method 1: in-place update\n",
    "dict_a = {'a':1, 'b':2}\n",
    "dict_b = {'b':20, 'c':3}\n",
    "dict_c = {'c':30, 'd':4}\n",
    "print('before update, dict A is {}, dict B is {}, dict C is {}'.format(dict_a, dict_b, dict_c))\n",
    "dict_a.update(dict_b)\n",
    "print('after update from B, dict A is {}'.format(dict_a))\n",
    "dict_a.update(dict_c)\n",
    "print('after update from C, dict A is {}'.format(dict_a))"
   ]
  },
  {
   "cell_type": "code",
   "execution_count": 31,
   "metadata": {},
   "outputs": [
    {
     "name": "stdout",
     "output_type": "stream",
     "text": [
      "{'a': 1, 'b': 20, 'c': 30, 'd': 4}\n"
     ]
    }
   ],
   "source": [
    "# method 2: return a new dictionary after update\n",
    "dict_a = {'a':1, 'b':2}\n",
    "dict_b = {'b':20, 'c':3}\n",
    "dict_c = {'c':30, 'd':4}\n",
    "# notice: use dict literal {}, DON'T use dict construct dict()\n",
    "dict_d = {**dict_a, **dict_b, **dict_c}\n",
    "print(dict_d)"
   ]
  },
  {
   "cell_type": "markdown",
   "metadata": {},
   "source": [
    "**Tricks about IPython notebook**"
   ]
  },
  {
   "cell_type": "markdown",
   "metadata": {},
   "source": [
    "**1) object introspection**"
   ]
  },
  {
   "cell_type": "code",
   "execution_count": 32,
   "metadata": {
    "collapsed": true
   },
   "outputs": [],
   "source": [
    "# object introspection\n",
    "a = list(range(10))\n",
    "# ? displays the general information of the object\n",
    "a?\n",
    "# if object is a function or instance method ? displays the docstring ?? displays the source code"
   ]
  },
  {
   "cell_type": "markdown",
   "metadata": {},
   "source": [
    "**2) magic commands**"
   ]
  },
  {
   "cell_type": "code",
   "execution_count": 34,
   "metadata": {},
   "outputs": [
    {
     "name": "stdout",
     "output_type": "stream",
     "text": [
      "Hello from test.py\n",
      "What can I do for you?\n"
     ]
    }
   ],
   "source": [
    "# run any script inside Jupyter notebook\n",
    "%run ./data/test.py"
   ]
  },
  {
   "cell_type": "code",
   "execution_count": null,
   "metadata": {
    "collapsed": true
   },
   "outputs": [],
   "source": [
    "# load code from file to current cell\n",
    "%load ./data/test.py"
   ]
  },
  {
   "cell_type": "code",
   "execution_count": 36,
   "metadata": {},
   "outputs": [
    {
     "name": "stdout",
     "output_type": "stream",
     "text": [
      "CPU times: user 0 ns, sys: 0 ns, total: 0 ns\n",
      "Wall time: 2.16 ms\n",
      "The slowest run took 1261.72 times longer than the fastest. This could mean that an intermediate result is being cached.\n",
      "100000 loops, best of 3: 6.05 µs per loop\n"
     ]
    }
   ],
   "source": [
    "# check execution time of a single statement or expression\n",
    "a = np.random.random((10,10))\n",
    "%time a @ a            # single test\n",
    "%timeit a @ a          # multiple times and return average"
   ]
  },
  {
   "cell_type": "code",
   "execution_count": 45,
   "metadata": {},
   "outputs": [
    {
     "name": "stdout",
     "output_type": "stream",
     "text": [
      "1000 loops, best of 3: 205 µs per loop\n"
     ]
    }
   ],
   "source": [
    "%%timeit\n",
    "## check execution time of the code in the entire cell\n",
    "b = a @ a\n",
    "c = a @ b\n",
    "d = np.linalg.pinv(c)"
   ]
  },
  {
   "cell_type": "code",
   "execution_count": 6,
   "metadata": {
    "collapsed": true
   },
   "outputs": [],
   "source": [
    "# check general information of a magic command (no space)\n",
    "%timeit?"
   ]
  },
  {
   "cell_type": "code",
   "execution_count": null,
   "metadata": {
    "collapsed": true
   },
   "outputs": [],
   "source": [
    "# check all magic commands\n",
    "%magic"
   ]
  },
  {
   "cell_type": "code",
   "execution_count": null,
   "metadata": {
    "collapsed": true
   },
   "outputs": [],
   "source": [
    "# matplotlib integration\n",
    "%matplotlib inline"
   ]
  },
  {
   "cell_type": "code",
   "execution_count": null,
   "metadata": {
    "collapsed": true
   },
   "outputs": [],
   "source": [
    "# line break has a length of 1\n",
    "a = '\\n'\n",
    "len(a)"
   ]
  },
  {
   "cell_type": "code",
   "execution_count": 46,
   "metadata": {},
   "outputs": [
    {
     "ename": "TypeError",
     "evalue": "'tuple' object does not support item assignment",
     "output_type": "error",
     "traceback": [
      "\u001b[0;31m---------------------------------------------------------------------------\u001b[0m",
      "\u001b[0;31mTypeError\u001b[0m                                 Traceback (most recent call last)",
      "\u001b[0;32m<ipython-input-46-2d9a0be02257>\u001b[0m in \u001b[0;36m<module>\u001b[0;34m()\u001b[0m\n\u001b[1;32m      3\u001b[0m \u001b[0mtuple_a\u001b[0m\u001b[0;34m[\u001b[0m\u001b[0;36m1\u001b[0m\u001b[0;34m]\u001b[0m\u001b[0;34m.\u001b[0m\u001b[0mappend\u001b[0m\u001b[0;34m(\u001b[0m\u001b[0;36m5\u001b[0m\u001b[0;34m)\u001b[0m\u001b[0;34m\u001b[0m\u001b[0m\n\u001b[1;32m      4\u001b[0m \u001b[0;31m# what is the expected output of this?\u001b[0m\u001b[0;34m\u001b[0m\u001b[0;34m\u001b[0m\u001b[0m\n\u001b[0;32m----> 5\u001b[0;31m \u001b[0mtuple_a\u001b[0m\u001b[0;34m[\u001b[0m\u001b[0;36m1\u001b[0m\u001b[0;34m]\u001b[0m \u001b[0;34m+=\u001b[0m \u001b[0;34m[\u001b[0m\u001b[0;36m6\u001b[0m\u001b[0;34m]\u001b[0m                \u001b[0;31m## it returns an error, but it changes the tuple as well!!!\u001b[0m\u001b[0;34m\u001b[0m\u001b[0m\n\u001b[0m",
      "\u001b[0;31mTypeError\u001b[0m: 'tuple' object does not support item assignment"
     ]
    }
   ],
   "source": [
    "# tuple of references \n",
    "tuple_a = 1, [2, 3], 4\n",
    "tuple_a[1].append(5)\n",
    "# what is the expected output of this?\n",
    "tuple_a[1] += [6]                ## it returns an error, but it changes the tuple as well!!!"
   ]
  },
  {
   "cell_type": "code",
   "execution_count": 8,
   "metadata": {
    "collapsed": true
   },
   "outputs": [],
   "source": [
    "# auto unpacking\n",
    "tuple_a = 1, [2, 3], 4\n",
    "a, b, c = tuple_a\n",
    "a, [b, c], d = tuple_a"
   ]
  },
  {
   "cell_type": "code",
   "execution_count": 9,
   "metadata": {},
   "outputs": [
    {
     "name": "stdout",
     "output_type": "stream",
     "text": [
      "1 2\n",
      "2 1\n"
     ]
    }
   ],
   "source": [
    "# swap values\n",
    "a, b = 1, 2\n",
    "print(a, b)\n",
    "a, b = b, a\n",
    "print(a, b)"
   ]
  },
  {
   "cell_type": "code",
   "execution_count": 10,
   "metadata": {
    "collapsed": true
   },
   "outputs": [],
   "source": [
    "# capture positional arguments with *\n",
    "values = 1, 2, 3, 4, 5\n",
    "a, b, *rest = values         # rest is a list"
   ]
  },
  {
   "cell_type": "code",
   "execution_count": 53,
   "metadata": {
    "collapsed": true
   },
   "outputs": [],
   "source": [
    "# add values to a list\n",
    "list_a = [1, 2, 3]\n",
    "# method 1: append() instance method\n",
    "list_a.append(4)\n",
    "# method 2: += \n",
    "list_a += [5]\n",
    "# method 3: extend() instance method, the object passed in should be an iterable: list, tuple, range() etc.\n",
    "list_a.extend([6, 7, 8])\n",
    "list_a.extend(range(9,12))\n",
    "list_a.extend((12, 13, 14))"
   ]
  },
  {
   "cell_type": "code",
   "execution_count": 12,
   "metadata": {
    "collapsed": true
   },
   "outputs": [],
   "source": [
    "# dict keys must be immutable object which is hashable"
   ]
  }
 ],
 "metadata": {
  "anaconda-cloud": {},
  "kernelspec": {
   "display_name": "Python 3",
   "language": "python",
   "name": "python3"
  },
  "language_info": {
   "codemirror_mode": {
    "name": "ipython",
    "version": 3
   },
   "file_extension": ".py",
   "mimetype": "text/x-python",
   "name": "python",
   "nbconvert_exporter": "python",
   "pygments_lexer": "ipython3",
   "version": "3.6.1"
  }
 },
 "nbformat": 4,
 "nbformat_minor": 1
}
