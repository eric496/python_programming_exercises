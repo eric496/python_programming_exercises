{
 "cells": [
  {
   "cell_type": "code",
   "execution_count": 4,
   "metadata": {
    "collapsed": true
   },
   "outputs": [],
   "source": [
    "import sys\n",
    "import numpy as np"
   ]
  },
  {
   "cell_type": "code",
   "execution_count": 5,
   "metadata": {
    "collapsed": false
   },
   "outputs": [
    {
     "data": {
      "text/plain": [
       "'3.6.3 |Anaconda custom (64-bit)| (default, Oct 13 2017, 12:02:49) \\n[GCC 7.2.0]'"
      ]
     },
     "execution_count": 5,
     "metadata": {},
     "output_type": "execute_result"
    }
   ],
   "source": [
    "sys.version"
   ]
  },
  {
   "cell_type": "code",
   "execution_count": 6,
   "metadata": {
    "collapsed": false
   },
   "outputs": [
    {
     "data": {
      "text/plain": [
       "'1.13.3'"
      ]
     },
     "execution_count": 6,
     "metadata": {},
     "output_type": "execute_result"
    }
   ],
   "source": [
    "np.__version__"
   ]
  },
  {
   "cell_type": "markdown",
   "metadata": {},
   "source": [
    "**1. Some tricks about list copy**"
   ]
  },
  {
   "cell_type": "code",
   "execution_count": 7,
   "metadata": {
    "collapsed": false
   },
   "outputs": [
    {
     "name": "stdout",
     "output_type": "stream",
     "text": [
      "before, list A is [0, 1, 2, 3, 4, 5, 6, 7, 8, 9]\n",
      "after, list A is [100, 1, 2, 3, 4, 5, 6, 7, 8, 9]\n",
      "after, list B is [100, 1, 2, 3, 4, 5, 6, 7, 8, 9]\n"
     ]
    }
   ],
   "source": [
    "## for list assignment, objects inside a list are references rather than copies \n",
    "list_a = list(range(10))\n",
    "print('before, list A is {}'.format(list_a))\n",
    "# now list_b and list_a point to the same object in memory\n",
    "list_b = list_a\n",
    "# if we change b, a changes as well\n",
    "list_b[0] = 100\n",
    "print('after, list A is {}'.format(list_a))\n",
    "print('after, list B is {}'.format(list_b))"
   ]
  },
  {
   "cell_type": "code",
   "execution_count": 23,
   "metadata": {
    "collapsed": false
   },
   "outputs": [
    {
     "name": "stdout",
     "output_type": "stream",
     "text": [
      "list A is [[1], [1], [1]]\n"
     ]
    }
   ],
   "source": [
    "## what * symbol produces is reference as well\n",
    "list_a = [[]] * 3\n",
    "list_a[0].append(1)\n",
    "print('list A is {}'.format(list_a))"
   ]
  },
  {
   "cell_type": "code",
   "execution_count": 24,
   "metadata": {
    "collapsed": false
   },
   "outputs": [
    {
     "name": "stdout",
     "output_type": "stream",
     "text": [
      "METHOD 1\n",
      "before, list A is [0, 1, 2, 3, 4, 5, 6, 7, 8, 9]\n",
      "before, list B is [0, 1, 2, 3, 4, 5, 6, 7, 8, 9]\n",
      "after, list B is [100, 1, 2, 3, 4, 5, 6, 7, 8, 9]\n",
      "after, list A is [0, 1, 2, 3, 4, 5, 6, 7, 8, 9]\n",
      "METHOD 2\n",
      "before, list A is [0, 1, 2, 3, 4, 5, 6, 7, 8, 9]\n",
      "before, list B is [0, 1, 2, 3, 4, 5, 6, 7, 8, 9]\n",
      "after, list B is [100, 1, 2, 3, 4, 5, 6, 7, 8, 9]\n",
      "after, list A is [0, 1, 2, 3, 4, 5, 6, 7, 8, 9]\n",
      "METHOD 3\n",
      "before, list A is [0, 1, 2, 3, 4, 5, 6, 7, 8, 9]\n",
      "before, list B is [0, 1, 2, 3, 4, 5, 6, 7, 8, 9]\n",
      "after, list B is [100, 1, 2, 3, 4, 5, 6, 7, 8, 9]\n",
      "after, list A is [0, 1, 2, 3, 4, 5, 6, 7, 8, 9]\n",
      "METHOD 4\n",
      "before, list A is [0, 1, 2, 3, 4, 5, 6, 7, 8, 9]\n",
      "before, list B is [0, 1, 2, 3, 4, 5, 6, 7, 8, 9]\n",
      "after, list B is [100, 1, 2, 3, 4, 5, 6, 7, 8, 9]\n",
      "after, list A is [0, 1, 2, 3, 4, 5, 6, 7, 8, 9]\n",
      "SHALLOW COPY EXAMPLE\n",
      "before, list A is [[0], [0], [0]]\n",
      "before, list B is [[0], [0], [0]]\n",
      "after, list B is [[0, 999], [0], [0]]\n",
      "after, list A is [[0, 999], [0], [0]]\n",
      "DEEP COPY EXAMPLE\n",
      "before, list A is [[0], [0], [0]]\n",
      "before, list B is [[0], [0], [0]]\n",
      "after, list B is [[0, 999], [0], [0]]\n",
      "after, list A is [[0], [0], [0]]\n"
     ]
    }
   ],
   "source": [
    "## how to (shallow) copy a list by value rather than reference\n",
    "\n",
    "# method 1: slicing\n",
    "print('METHOD 1')\n",
    "list_a = list(range(10))\n",
    "print('before, list A is {}'.format(list_a))\n",
    "list_b = list_a[:]\n",
    "print('before, list B is {}'.format(list_b))\n",
    "list_b[0] = 100\n",
    "print('after, list B is {}'.format(list_b))\n",
    "print('after, list A is {}'.format(list_a))\n",
    "\n",
    "# method 2: list constructor\n",
    "print('METHOD 2')\n",
    "list_a = list(range(10))\n",
    "print('before, list A is {}'.format(list_a))\n",
    "list_b = list(list_a)\n",
    "print('before, list B is {}'.format(list_b))\n",
    "list_b[0] = 100\n",
    "print('after, list B is {}'.format(list_b))\n",
    "print('after, list A is {}'.format(list_a))\n",
    "\n",
    "# method 3: list.copy()\n",
    "print('METHOD 3')\n",
    "list_a = list(range(10))\n",
    "print('before, list A is {}'.format(list_a))\n",
    "list_b = list_a.copy()\n",
    "print('before, list B is {}'.format(list_b))\n",
    "list_b[0] = 100\n",
    "print('after, list B is {}'.format(list_b))\n",
    "print('after, list A is {}'.format(list_a))\n",
    "\n",
    "# method 4: use copy library\n",
    "import copy\n",
    "print('METHOD 4')\n",
    "list_a = list(range(10))\n",
    "print('before, list A is {}'.format(list_a))\n",
    "list_b = copy.copy(list_a)\n",
    "print('before, list B is {}'.format(list_b))\n",
    "list_b[0] = 100\n",
    "print('after, list B is {}'.format(list_b))\n",
    "print('after, list A is {}'.format(list_a))\n",
    "\n",
    "## however, method 1-4 only works for shallow copy which means it passes by reference rather than value\n",
    "## if the elements in the list are objects, for example:\n",
    "print('SHALLOW COPY EXAMPLE')\n",
    "list_a = [[0],[0],[0]]\n",
    "print('before, list A is {}'.format(list_a))\n",
    "# for simplicity, only method 1 is used here but the other 3 works the same way\n",
    "list_b = list_a[:]            \n",
    "print('before, list B is {}'.format(list_b))\n",
    "list_b[0].append(999)\n",
    "print('after, list B is {}'.format(list_b))\n",
    "print('after, list A is {}'.format(list_a))\n",
    "\n",
    "## solution: use deepcopy() method in copy library\n",
    "print('DEEP COPY EXAMPLE')\n",
    "list_a = [[0],[0],[0]]\n",
    "print('before, list A is {}'.format(list_a))\n",
    "# for simplicity, only method 1 is used here but the other 3 works the same way\n",
    "list_b = copy.deepcopy(list_a)            \n",
    "print('before, list B is {}'.format(list_b))\n",
    "list_b[0].append(999)\n",
    "print('after, list B is {}'.format(list_b))\n",
    "print('after, list A is {}'.format(list_a))"
   ]
  },
  {
   "cell_type": "markdown",
   "metadata": {},
   "source": [
    "**2. In Python 3, what most universal functions return are iterables (reversed(), range(), comprehensions etc.), but sorted() method returns a list**"
   ]
  },
  {
   "cell_type": "code",
   "execution_count": 34,
   "metadata": {
    "collapsed": false
   },
   "outputs": [
    {
     "data": {
      "text/plain": [
       "list"
      ]
     },
     "execution_count": 34,
     "metadata": {},
     "output_type": "execute_result"
    }
   ],
   "source": [
    "list_a = list(range(10,-1,-1))\n",
    "type(sorted(list_a))"
   ]
  },
  {
   "cell_type": "code",
   "execution_count": null,
   "metadata": {
    "collapsed": false
   },
   "outputs": [],
   "source": []
  },
  {
   "cell_type": "code",
   "execution_count": null,
   "metadata": {
    "collapsed": true
   },
   "outputs": [],
   "source": []
  }
 ],
 "metadata": {
  "anaconda-cloud": {},
  "kernelspec": {
   "display_name": "Python [conda env:py36]",
   "language": "python",
   "name": "conda-env-py36-py"
  },
  "language_info": {
   "codemirror_mode": {
    "name": "ipython",
    "version": 3
   },
   "file_extension": ".py",
   "mimetype": "text/x-python",
   "name": "python",
   "nbconvert_exporter": "python",
   "pygments_lexer": "ipython3",
   "version": "3.6.3"
  }
 },
 "nbformat": 4,
 "nbformat_minor": 1
}
