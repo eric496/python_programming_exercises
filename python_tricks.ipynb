{
 "cells": [
  {
   "cell_type": "code",
   "execution_count": 1,
   "metadata": {
    "collapsed": true
   },
   "outputs": [],
   "source": [
    "import sys\n",
    "import numpy as np"
   ]
  },
  {
   "cell_type": "code",
   "execution_count": 2,
   "metadata": {},
   "outputs": [
    {
     "data": {
      "text/plain": [
       "'3.6.3 |Anaconda custom (64-bit)| (default, Oct 13 2017, 12:02:49) \\n[GCC 7.2.0]'"
      ]
     },
     "execution_count": 2,
     "metadata": {},
     "output_type": "execute_result"
    }
   ],
   "source": [
    "sys.version"
   ]
  },
  {
   "cell_type": "code",
   "execution_count": 3,
   "metadata": {},
   "outputs": [
    {
     "data": {
      "text/plain": [
       "'1.13.3'"
      ]
     },
     "execution_count": 3,
     "metadata": {},
     "output_type": "execute_result"
    }
   ],
   "source": [
    "np.__version__"
   ]
  },
  {
   "cell_type": "markdown",
   "metadata": {},
   "source": [
    "**1. Some tricks about list copy**"
   ]
  },
  {
   "cell_type": "code",
   "execution_count": 7,
   "metadata": {},
   "outputs": [
    {
     "name": "stdout",
     "output_type": "stream",
     "text": [
      "before, list A is [0, 1, 2, 3, 4, 5, 6, 7, 8, 9]\n",
      "after, list A is [100, 1, 2, 3, 4, 5, 6, 7, 8, 9]\n",
      "after, list B is [100, 1, 2, 3, 4, 5, 6, 7, 8, 9]\n"
     ]
    }
   ],
   "source": [
    "## for list assignment, objects inside a list are references rather than copies \n",
    "list_a = list(range(10))\n",
    "print('before, list A is {}'.format(list_a))\n",
    "# now list_b and list_a point to the same object in memory\n",
    "list_b = list_a\n",
    "# if we change b, a changes as well\n",
    "list_b[0] = 100\n",
    "print('after, list A is {}'.format(list_a))\n",
    "print('after, list B is {}'.format(list_b))"
   ]
  },
  {
   "cell_type": "code",
   "execution_count": 23,
   "metadata": {},
   "outputs": [
    {
     "name": "stdout",
     "output_type": "stream",
     "text": [
      "list A is [[1], [1], [1]]\n"
     ]
    }
   ],
   "source": [
    "## what * symbol produces is reference as well\n",
    "list_a = [[]] * 3\n",
    "list_a[0].append(1)\n",
    "print('list A is {}'.format(list_a))"
   ]
  },
  {
   "cell_type": "code",
   "execution_count": 24,
   "metadata": {},
   "outputs": [
    {
     "name": "stdout",
     "output_type": "stream",
     "text": [
      "METHOD 1\n",
      "before, list A is [0, 1, 2, 3, 4, 5, 6, 7, 8, 9]\n",
      "before, list B is [0, 1, 2, 3, 4, 5, 6, 7, 8, 9]\n",
      "after, list B is [100, 1, 2, 3, 4, 5, 6, 7, 8, 9]\n",
      "after, list A is [0, 1, 2, 3, 4, 5, 6, 7, 8, 9]\n",
      "METHOD 2\n",
      "before, list A is [0, 1, 2, 3, 4, 5, 6, 7, 8, 9]\n",
      "before, list B is [0, 1, 2, 3, 4, 5, 6, 7, 8, 9]\n",
      "after, list B is [100, 1, 2, 3, 4, 5, 6, 7, 8, 9]\n",
      "after, list A is [0, 1, 2, 3, 4, 5, 6, 7, 8, 9]\n",
      "METHOD 3\n",
      "before, list A is [0, 1, 2, 3, 4, 5, 6, 7, 8, 9]\n",
      "before, list B is [0, 1, 2, 3, 4, 5, 6, 7, 8, 9]\n",
      "after, list B is [100, 1, 2, 3, 4, 5, 6, 7, 8, 9]\n",
      "after, list A is [0, 1, 2, 3, 4, 5, 6, 7, 8, 9]\n",
      "METHOD 4\n",
      "before, list A is [0, 1, 2, 3, 4, 5, 6, 7, 8, 9]\n",
      "before, list B is [0, 1, 2, 3, 4, 5, 6, 7, 8, 9]\n",
      "after, list B is [100, 1, 2, 3, 4, 5, 6, 7, 8, 9]\n",
      "after, list A is [0, 1, 2, 3, 4, 5, 6, 7, 8, 9]\n",
      "SHALLOW COPY EXAMPLE\n",
      "before, list A is [[0], [0], [0]]\n",
      "before, list B is [[0], [0], [0]]\n",
      "after, list B is [[0, 999], [0], [0]]\n",
      "after, list A is [[0, 999], [0], [0]]\n",
      "DEEP COPY EXAMPLE\n",
      "before, list A is [[0], [0], [0]]\n",
      "before, list B is [[0], [0], [0]]\n",
      "after, list B is [[0, 999], [0], [0]]\n",
      "after, list A is [[0], [0], [0]]\n"
     ]
    }
   ],
   "source": [
    "## how to (shallow) copy a list by value rather than reference\n",
    "\n",
    "# method 1: slicing\n",
    "print('METHOD 1')\n",
    "list_a = list(range(10))\n",
    "print('before, list A is {}'.format(list_a))\n",
    "list_b = list_a[:]\n",
    "print('before, list B is {}'.format(list_b))\n",
    "list_b[0] = 100\n",
    "print('after, list B is {}'.format(list_b))\n",
    "print('after, list A is {}'.format(list_a))\n",
    "\n",
    "# method 2: list constructor\n",
    "print('METHOD 2')\n",
    "list_a = list(range(10))\n",
    "print('before, list A is {}'.format(list_a))\n",
    "list_b = list(list_a)\n",
    "print('before, list B is {}'.format(list_b))\n",
    "list_b[0] = 100\n",
    "print('after, list B is {}'.format(list_b))\n",
    "print('after, list A is {}'.format(list_a))\n",
    "\n",
    "# method 3: list.copy()\n",
    "print('METHOD 3')\n",
    "list_a = list(range(10))\n",
    "print('before, list A is {}'.format(list_a))\n",
    "list_b = list_a.copy()\n",
    "print('before, list B is {}'.format(list_b))\n",
    "list_b[0] = 100\n",
    "print('after, list B is {}'.format(list_b))\n",
    "print('after, list A is {}'.format(list_a))\n",
    "\n",
    "# method 4: use copy library\n",
    "import copy\n",
    "print('METHOD 4')\n",
    "list_a = list(range(10))\n",
    "print('before, list A is {}'.format(list_a))\n",
    "list_b = copy.copy(list_a)\n",
    "print('before, list B is {}'.format(list_b))\n",
    "list_b[0] = 100\n",
    "print('after, list B is {}'.format(list_b))\n",
    "print('after, list A is {}'.format(list_a))\n",
    "\n",
    "## however, method 1-4 only works for shallow copy which means it passes by reference rather than value if the elements in the list are objects, for example:\n",
    "print('SHALLOW COPY EXAMPLE')\n",
    "list_a = [[0],[0],[0]]\n",
    "print('before, list A is {}'.format(list_a))\n",
    "# for simplicity, only method 1 is used here but the other 3 works the same way\n",
    "list_b = list_a[:]            \n",
    "print('before, list B is {}'.format(list_b))\n",
    "list_b[0].append(999)\n",
    "print('after, list B is {}'.format(list_b))\n",
    "print('after, list A is {}'.format(list_a))\n",
    "\n",
    "## solution: use deepcopy() method in copy library\n",
    "print('DEEP COPY EXAMPLE')\n",
    "list_a = [[0],[0],[0]]\n",
    "print('before, list A is {}'.format(list_a))\n",
    "# for simplicity, only method 1 is used here but the other 3 works the same way\n",
    "list_b = copy.deepcopy(list_a)            \n",
    "print('before, list B is {}'.format(list_b))\n",
    "list_b[0].append(999)\n",
    "print('after, list B is {}'.format(list_b))\n",
    "print('after, list A is {}'.format(list_a))"
   ]
  },
  {
   "cell_type": "markdown",
   "metadata": {},
   "source": [
    "**2. In Python 3, what most universal functions return are iterables (reversed(), range(), comprehensions etc.), but sorted() method returns a list**"
   ]
  },
  {
   "cell_type": "code",
   "execution_count": 34,
   "metadata": {},
   "outputs": [
    {
     "data": {
      "text/plain": [
       "list"
      ]
     },
     "execution_count": 34,
     "metadata": {},
     "output_type": "execute_result"
    }
   ],
   "source": [
    "list_a = list(range(10, -1, -1))\n",
    "type(sorted(list_a))"
   ]
  },
  {
   "cell_type": "markdown",
   "metadata": {},
   "source": [
    "**3. Dictionary**"
   ]
  },
  {
   "cell_type": "code",
   "execution_count": 11,
   "metadata": {},
   "outputs": [
    {
     "name": "stdout",
     "output_type": "stream",
     "text": [
      "{'a': 1, 'b': 2, 'c': 3, 'd': 4}\n",
      "{'a': 1, 'b': 2, 'c': 3, 'd': 4}\n",
      "{'a': 1, 'b': 2, 'c': 3, 'd': 4}\n",
      "{'a': 1, 'b': 2, 'c': 3, 'd': 4}\n"
     ]
    }
   ],
   "source": [
    "## how to construct a dictionary\n",
    "# method 1: use dictionary literal\n",
    "dict_a = {'a':1, 'b':2, 'c':3, 'd':4}\n",
    "print(dict_a)\n",
    "# method 2: use dict() constructor\n",
    "# directly pass in key-value pairs\n",
    "dict_b = dict(a=1, b=2, c=3, d=4)\n",
    "print(dict_b)\n",
    "# OR pass in a list of tuples\n",
    "list_a = [('a', 1), ('b', 2), ('c', 3), ('d', 4)]\n",
    "dict_c = dict(list_a)\n",
    "print(dict_c)\n",
    "# OR use zip() method to combine two parallel lists\n",
    "keys = ['a', 'b', 'c', 'd']\n",
    "values = list(range(1, 5))\n",
    "dict_d = dict(zip(keys, values))\n",
    "print(dict_d)"
   ]
  },
  {
   "cell_type": "code",
   "execution_count": 23,
   "metadata": {},
   "outputs": [
    {
     "name": "stdout",
     "output_type": "stream",
     "text": [
      "ADD NEW VALUES\n",
      "before, {}\n",
      "after adding 1, {'a': 1}\n",
      "after adding 2, {'a': 1, 'b': 2}\n",
      "GET VALUES\n",
      "1\n",
      "KEY NOT FOUND!\n",
      "99\n",
      "after .setdefault() method {'a': 1, 'b': 2, 'x': 99}\n",
      "UPDATE VALUES FOR EXISTING KEYS\n",
      "before, {'a': 1}\n",
      "after, {'a': 100}\n"
     ]
    }
   ],
   "source": [
    "## how to get values or update values of a dictionary\n",
    "\n",
    "# add new key-value pair\n",
    "print('ADD NEW VALUES')\n",
    "dict_a = {}\n",
    "print('before, {}'.format(dict_a))\n",
    "dict_a['a'] = 1\n",
    "print('after adding 1, {}'.format(dict_a))\n",
    "dict_a['b'] = 2\n",
    "print('after adding 2, {}'.format(dict_a))\n",
    "\n",
    "# get values by keys\n",
    "print('GET VALUES')\n",
    "# method 1: use index\n",
    "print(dict_a['a'])                          # raise KeyError if the key does not exist, e.g. dict_a['x']\n",
    "# method 2: use dict.get() method\n",
    "print(dict_a.get('x', 'KEY NOT FOUND!'))    # return user-defined value if the key does not exist\n",
    "# method 3: use dict.setdefault() method\n",
    "print(dict_a.setdefault('x', 99))           # return the value if key exists, or set the value if the key does not exist\n",
    "print('after .setdefault() method {}'.format(dict_a))\n",
    "\n",
    "# update values of existing keys\n",
    "print('UPDATE VALUES FOR EXISTING KEYS')\n",
    "dict_a = {'a':1}\n",
    "print('before, {}'.format(dict_a))\n",
    "dict_a['a'] = 100\n",
    "print('after, {}'.format(dict_a))"
   ]
  },
  {
   "cell_type": "code",
   "execution_count": 37,
   "metadata": {},
   "outputs": [
    {
     "name": "stdout",
     "output_type": "stream",
     "text": [
      "before update, dict A is {'a': 1, 'b': 2}\n",
      "after update from B, dict A is {'a': 1, 'b': 20, 'c': 3}\n",
      "after update from C, dict A is {'a': 1, 'b': 20, 'c': 30, 'd': 4}\n",
      "{'a': 1, 'b': 20, 'c': 30, 'd': 4}\n"
     ]
    }
   ],
   "source": [
    "## merge dictionaries\n",
    "\n",
    "# in-place update\n",
    "dict_a = {'a':1, 'b':2}\n",
    "dict_b = {'b':20, 'c':3}\n",
    "dict_c = {'c':30, 'd':4}\n",
    "print('before update, dict A is {}'.format(dict_a))\n",
    "dict_a.update(dict_b)\n",
    "print('after update from B, dict A is {}'.format(dict_a))\n",
    "dict_a.update(dict_c)\n",
    "print('after update from C, dict A is {}'.format(dict_a))\n",
    "\n",
    "# merge and return a new dictionary\n",
    "dict_a = {'a':1, 'b':2}\n",
    "dict_b = {'b':20, 'c':3}\n",
    "dict_c = {'c':30, 'd':4}\n",
    "# notice: use dict literal {}, DON'T use dict construct dict(), it does not work\n",
    "dict_d = {**dict_a, **dict_b, **dict_c}\n",
    "print(dict_d)"
   ]
  },
  {
   "cell_type": "code",
   "execution_count": null,
   "metadata": {},
   "outputs": [],
   "source": []
  },
  {
   "cell_type": "code",
   "execution_count": null,
   "metadata": {
    "collapsed": true
   },
   "outputs": [],
   "source": []
  }
 ],
 "metadata": {
  "anaconda-cloud": {},
  "kernelspec": {
   "display_name": "Python 3",
   "language": "python",
   "name": "python3"
  },
  "language_info": {
   "codemirror_mode": {
    "name": "ipython",
    "version": 3
   },
   "file_extension": ".py",
   "mimetype": "text/x-python",
   "name": "python",
   "nbconvert_exporter": "python",
   "pygments_lexer": "ipython3",
   "version": "3.6.3"
  }
 },
 "nbformat": 4,
 "nbformat_minor": 1
}
